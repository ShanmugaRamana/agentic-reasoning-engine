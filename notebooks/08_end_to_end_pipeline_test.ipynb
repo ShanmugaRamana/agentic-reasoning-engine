{
 "cells": [
  {
   "cell_type": "code",
   "execution_count": 5,
   "id": "ded8ce84",
   "metadata": {},
   "outputs": [
    {
     "name": "stderr",
     "output_type": "stream",
     "text": [
      "e:\\agentic-reasoning-engine\\venv\\lib\\site-packages\\tqdm\\auto.py:21: TqdmWarning: IProgress not found. Please update jupyter and ipywidgets. See https://ipywidgets.readthedocs.io/en/stable/user_install.html\n",
      "  from .autonotebook import tqdm as notebook_tqdm\n"
     ]
    },
    {
     "name": "stdout",
     "output_type": "stream",
     "text": [
      "Data pipeline package initialized.\n"
     ]
    }
   ],
   "source": [
    "import sys\n",
    "import os\n",
    "\n",
    "# Add project root to path to allow importing from src\n",
    "project_root = os.path.dirname(os.path.dirname(os.path.abspath('.')))\n",
    "if project_root not in sys.path:\n",
    "    sys.path.append(project_root)\n",
    "\n",
    "from src.core_pipeline import CorePipeline"
   ]
  },
  {
   "cell_type": "code",
   "execution_count": 7,
   "id": "31060429",
   "metadata": {},
   "outputs": [
    {
     "name": "stdout",
     "output_type": "stream",
     "text": [
      "\n",
      "        ====================================================\n",
      "            🧠 Agentic Reasoning Engine - Version 1.0.0\n",
      "        ====================================================\n",
      "        \n",
      "2025-10-08 11:11:20,404 - AgenticReasoningPipeline - INFO - Initializing core reasoning pipeline... (core_pipeline.py:21)\n",
      "2025-10-08 11:11:20,405 - AgenticReasoningPipeline - INFO - Setting up output directories... (core_pipeline.py:81)\n",
      "2025-10-08 11:11:20,406 - AgenticReasoningPipeline - INFO - Output directories are ready. (core_pipeline.py:84)\n",
      "2025-10-08 11:11:20,407 - AgenticReasoningPipeline - INFO - Loading problem classifier artifact from e:\\agentic-reasoning-engine\\models\\problem_classifier.pkl... (problem_classifier.py:16)\n",
      "2025-10-08 11:11:20,411 - AgenticReasoningPipeline - INFO - ✅ Problem classifier loaded successfully. (problem_classifier.py:28)\n",
      "2025-10-08 11:11:24,389 - AgenticReasoningPipeline - INFO - Sentence transformer 'all-MiniLM-L6-v2' loaded. (core_pipeline.py:34)\n",
      "2025-10-08 11:11:24,390 - AgenticReasoningPipeline - INFO - Loading and validating test data from e:\\agentic-reasoning-engine\\dataset\\processed\\test_processed.json... (test_loader.py:11)\n",
      "2025-10-08 11:11:24,393 - AgenticReasoningPipeline - INFO - Successfully loaded and validated 96 test records. (test_loader.py:41)\n",
      "2025-10-08 11:11:24,393 - AgenticReasoningPipeline - INFO - Core reasoning pipeline initialized. (core_pipeline.py:41)\n",
      "2025-10-08 11:11:24,395 - AgenticReasoningPipeline - INFO - Starting inference run on test data... (core_pipeline.py:51)\n",
      "2025-10-08 11:11:25,987 - AgenticReasoningPipeline - INFO - Inference run complete. 'predicted_topic' column added. (core_pipeline.py:63)\n",
      "\n",
      "--- Inference Results Preview ---\n",
      "                                   problem_statement          predicted_topic\n",
      "0  You have four rods of different lengths: 8 cm,...        Spatial reasoning\n",
      "1  A woman shoots her husband. Then she holds him...         Lateral thinking\n",
      "2  You are in a race and you overtake the second ...          Classic riddles\n",
      "3  In a factory, there are three machines A, B, a...  Operation of mechanisms\n",
      "4  You have three seemingly identical machines, e...  Operation of mechanisms\n",
      "---------------------------------\n"
     ]
    }
   ],
   "source": [
    "# Initialize the entire reasoning pipeline\n",
    "pipeline = CorePipeline()\n",
    "\n",
    "# Execute the main logic\n",
    "pipeline.run()"
   ]
  }
 ],
 "metadata": {
  "kernelspec": {
   "display_name": "venv",
   "language": "python",
   "name": "python3"
  },
  "language_info": {
   "codemirror_mode": {
    "name": "ipython",
    "version": 3
   },
   "file_extension": ".py",
   "mimetype": "text/x-python",
   "name": "python",
   "nbconvert_exporter": "python",
   "pygments_lexer": "ipython3",
   "version": "3.10.11"
  }
 },
 "nbformat": 4,
 "nbformat_minor": 5
}
