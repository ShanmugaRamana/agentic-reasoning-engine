{
 "cells": [
  {
   "cell_type": "markdown",
   "id": "dca96237",
   "metadata": {},
   "source": [
    "## 1.1 Import Libraries"
   ]
  },
  {
   "cell_type": "code",
   "execution_count": 3,
   "id": "af1fe08b",
   "metadata": {},
   "outputs": [],
   "source": [
    "import pandas as pd\n",
    "import numpy as np\n",
    "import matplotlib.pyplot as plt\n",
    "import seaborn as sns\n",
    "\n",
    "# Set plot style for aesthetics\n",
    "sns.set_style('whitegrid')\n",
    "%matplotlib inline"
   ]
  },
  {
   "cell_type": "markdown",
   "id": "545db366",
   "metadata": {},
   "source": [
    "## 1.2 Load the Datasets\n",
    "\n",
    "We'll load both the training and testing datasets to compare their basic properties."
   ]
  },
  {
   "cell_type": "code",
   "execution_count": 4,
   "id": "6ea1b4a9",
   "metadata": {},
   "outputs": [],
   "source": [
    "try:\n",
    "    df_train = pd.read_csv('../dataset/train.csv')\n",
    "    df_test = pd.read_csv('../dataset/test.csv')\n",
    "except FileNotFoundError as e:\n",
    "    print(f\"Error: {e}. Make sure the csv files are in the 'dataset' folder.\")"
   ]
  },
  {
   "cell_type": "markdown",
   "id": "955dba3f",
   "metadata": {},
   "source": [
    "## 1.3 Initial Data Inspection\n",
    "\n",
    "Let's get a first look at the training data's structure, shape, and column types."
   ]
  },
  {
   "cell_type": "code",
   "execution_count": 5,
   "id": "aae82b8e",
   "metadata": {},
   "outputs": [
    {
     "name": "stdout",
     "output_type": "stream",
     "text": [
      "First 3 rows of the training dataset:\n"
     ]
    },
    {
     "data": {
      "text/html": [
       "<div>\n",
       "<style scoped>\n",
       "    .dataframe tbody tr th:only-of-type {\n",
       "        vertical-align: middle;\n",
       "    }\n",
       "\n",
       "    .dataframe tbody tr th {\n",
       "        vertical-align: top;\n",
       "    }\n",
       "\n",
       "    .dataframe thead th {\n",
       "        text-align: right;\n",
       "    }\n",
       "</style>\n",
       "<table border=\"1\" class=\"dataframe\">\n",
       "  <thead>\n",
       "    <tr style=\"text-align: right;\">\n",
       "      <th></th>\n",
       "      <th>topic</th>\n",
       "      <th>problem_statement</th>\n",
       "      <th>solution</th>\n",
       "      <th>answer_option_1</th>\n",
       "      <th>answer_option_2</th>\n",
       "      <th>answer_option_3</th>\n",
       "      <th>answer_option_4</th>\n",
       "      <th>answer_option_5</th>\n",
       "      <th>correct_option_number</th>\n",
       "    </tr>\n",
       "  </thead>\n",
       "  <tbody>\n",
       "    <tr>\n",
       "      <th>0</th>\n",
       "      <td>Optimization of actions and planning</td>\n",
       "      <td>Maria needs to prepare for a party and has lim...</td>\n",
       "      <td>Maria should first prepare the cake and put it...</td>\n",
       "      <td>Bake the cake, decorate the living room, pick ...</td>\n",
       "      <td>Decorate the living room, bake the cake, pick ...</td>\n",
       "      <td>Pick up friend, bake the cake, decorate the li...</td>\n",
       "      <td>Bake the cake, decorate the living room, pick ...</td>\n",
       "      <td>Another answer</td>\n",
       "      <td>4</td>\n",
       "    </tr>\n",
       "    <tr>\n",
       "      <th>1</th>\n",
       "      <td>Spatial reasoning</td>\n",
       "      <td>In a room, there are 4 corners: A, B, C, and D...</td>\n",
       "      <td>The only point in a square room that is equidi...</td>\n",
       "      <td>At the center of the room</td>\n",
       "      <td>Halfway between corner A and the center of the...</td>\n",
       "      <td>At corner A</td>\n",
       "      <td>Nowhere, because it's a logical trap</td>\n",
       "      <td>Another answer</td>\n",
       "      <td>4</td>\n",
       "    </tr>\n",
       "    <tr>\n",
       "      <th>2</th>\n",
       "      <td>Spatial reasoning</td>\n",
       "      <td>Imagine that you are in a room with 4 walls, e...</td>\n",
       "      <td>To solve this spatial reasoning puzzle, you mu...</td>\n",
       "      <td>Right, Forward, Left</td>\n",
       "      <td>Right, Left, Forward</td>\n",
       "      <td>Forward, Left, Right</td>\n",
       "      <td>Left, Right, Forward</td>\n",
       "      <td>Another answer</td>\n",
       "      <td>5</td>\n",
       "    </tr>\n",
       "  </tbody>\n",
       "</table>\n",
       "</div>"
      ],
      "text/plain": [
       "                                  topic  \\\n",
       "0  Optimization of actions and planning   \n",
       "1                     Spatial reasoning   \n",
       "2                     Spatial reasoning   \n",
       "\n",
       "                                   problem_statement  \\\n",
       "0  Maria needs to prepare for a party and has lim...   \n",
       "1  In a room, there are 4 corners: A, B, C, and D...   \n",
       "2  Imagine that you are in a room with 4 walls, e...   \n",
       "\n",
       "                                            solution  \\\n",
       "0  Maria should first prepare the cake and put it...   \n",
       "1  The only point in a square room that is equidi...   \n",
       "2  To solve this spatial reasoning puzzle, you mu...   \n",
       "\n",
       "                                     answer_option_1  \\\n",
       "0  Bake the cake, decorate the living room, pick ...   \n",
       "1                          At the center of the room   \n",
       "2                               Right, Forward, Left   \n",
       "\n",
       "                                     answer_option_2  \\\n",
       "0  Decorate the living room, bake the cake, pick ...   \n",
       "1  Halfway between corner A and the center of the...   \n",
       "2                               Right, Left, Forward   \n",
       "\n",
       "                                     answer_option_3  \\\n",
       "0  Pick up friend, bake the cake, decorate the li...   \n",
       "1                                        At corner A   \n",
       "2                               Forward, Left, Right   \n",
       "\n",
       "                                     answer_option_4 answer_option_5  \\\n",
       "0  Bake the cake, decorate the living room, pick ...  Another answer   \n",
       "1               Nowhere, because it's a logical trap  Another answer   \n",
       "2                               Left, Right, Forward  Another answer   \n",
       "\n",
       "   correct_option_number  \n",
       "0                      4  \n",
       "1                      4  \n",
       "2                      5  "
      ]
     },
     "execution_count": 5,
     "metadata": {},
     "output_type": "execute_result"
    }
   ],
   "source": [
    "print(\"First 3 rows of the training dataset:\")\n",
    "df_train.head(3)"
   ]
  },
  {
   "cell_type": "code",
   "execution_count": 6,
   "id": "4872d006",
   "metadata": {},
   "outputs": [
    {
     "name": "stdout",
     "output_type": "stream",
     "text": [
      "Training data dimensions (rows, columns): (384, 9)\n",
      "Testing data dimensions (rows, columns): (96, 7)\n"
     ]
    }
   ],
   "source": [
    "print(f\"Training data dimensions (rows, columns): {df_train.shape}\")\n",
    "print(f\"Testing data dimensions (rows, columns): {df_test.shape}\")"
   ]
  },
  {
   "cell_type": "code",
   "execution_count": 7,
   "id": "cc0c1336",
   "metadata": {},
   "outputs": [
    {
     "name": "stdout",
     "output_type": "stream",
     "text": [
      "Training data info (column types and non-null counts):\n",
      "<class 'pandas.core.frame.DataFrame'>\n",
      "RangeIndex: 384 entries, 0 to 383\n",
      "Data columns (total 9 columns):\n",
      " #   Column                 Non-Null Count  Dtype \n",
      "---  ------                 --------------  ----- \n",
      " 0   topic                  384 non-null    object\n",
      " 1   problem_statement      384 non-null    object\n",
      " 2   solution               384 non-null    object\n",
      " 3   answer_option_1        384 non-null    object\n",
      " 4   answer_option_2        384 non-null    object\n",
      " 5   answer_option_3        384 non-null    object\n",
      " 6   answer_option_4        382 non-null    object\n",
      " 7   answer_option_5        384 non-null    object\n",
      " 8   correct_option_number  384 non-null    int64 \n",
      "dtypes: int64(1), object(8)\n",
      "memory usage: 27.1+ KB\n"
     ]
    }
   ],
   "source": [
    "print(\"Training data info (column types and non-null counts):\")\n",
    "df_train.info()"
   ]
  },
  {
   "cell_type": "markdown",
   "id": "b42250c7",
   "metadata": {},
   "source": [
    "## 1.4 Target Variable Analysis\n",
    "\n",
    "The target variable is `correct_option_number`. Let's analyze its distribution to see if the dataset is balanced in terms of correct answers."
   ]
  },
  {
   "cell_type": "code",
   "execution_count": 8,
   "id": "7b95b082",
   "metadata": {},
   "outputs": [
    {
     "name": "stderr",
     "output_type": "stream",
     "text": [
      "C:\\Users\\Ramana\\AppData\\Local\\Temp\\ipykernel_35604\\3047421701.py:2: FutureWarning: \n",
      "\n",
      "Passing `palette` without assigning `hue` is deprecated and will be removed in v0.14.0. Assign the `x` variable to `hue` and set `legend=False` for the same effect.\n",
      "\n",
      "  sns.countplot(x='correct_option_number', data=df_train, palette='viridis')\n"
     ]
    },
    {
     "data": {
      "image/png": "[encoded data removed]",
      "text/plain": [
       "<Figure size 1000x600 with 1 Axes>"
      ]
     },
     "metadata": {},
     "output_type": "display_data"
    },
    {
     "name": "stdout",
     "output_type": "stream",
     "text": [
      "\n",
      "Value counts for the target variable:\n",
      "correct_option_number\n",
      "1    0.236979\n",
      "2    0.268229\n",
      "3    0.223958\n",
      "4    0.088542\n",
      "5    0.182292\n",
      "Name: proportion, dtype: float64\n"
     ]
    }
   ],
   "source": [
    "plt.figure(figsize=(10, 6))\n",
    "sns.countplot(x='correct_option_number', data=df_train, palette='viridis')\n",
    "plt.title('Distribution of Correct Answer Options', fontsize=16)\n",
    "plt.xlabel('Correct Option Number', fontsize=12)\n",
    "plt.ylabel('Count', fontsize=12)\n",
    "plt.show()\n",
    "\n",
    "print(\"\\nValue counts for the target variable:\")\n",
    "print(df_train['correct_option_number'].value_counts(normalize=True).sort_index())"
   ]
  },
  {
   "cell_type": "markdown",
   "id": "0a232a9f",
   "metadata": {},
   "source": [
    "## 1.5 Topic Distribution\n",
    "\n",
    "Understanding the distribution of topics is key to knowing the dataset's focus areas. A balanced set of topics is often desirable."
   ]
  },
  {
   "cell_type": "code",
   "execution_count": null,
   "id": "9d033038",
   "metadata": {},
   "outputs": [
    {
     "name": "stdout",
     "output_type": "stream",
     "text": [
      "\n",
      "Descriptive statistics for categorical columns:\n"
     ]
    },
    {
     "data": {
      "text/html": [
       "<div>\n",
       "<style scoped>\n",
       "    .dataframe tbody tr th:only-of-type {\n",
       "        vertical-align: middle;\n",
       "    }\n",
       "\n",
       "    .dataframe tbody tr th {\n",
       "        vertical-align: top;\n",
       "    }\n",
       "\n",
       "    .dataframe thead th {\n",
       "        text-align: right;\n",
       "    }\n",
       "</style>\n",
       "<table border=\"1\" class=\"dataframe\">\n",
       "  <thead>\n",
       "    <tr style=\"text-align: right;\">\n",
       "      <th></th>\n",
       "      <th>topic</th>\n",
       "      <th>problem_statement</th>\n",
       "      <th>solution</th>\n",
       "      <th>answer_option_1</th>\n",
       "      <th>answer_option_2</th>\n",
       "      <th>answer_option_3</th>\n",
       "      <th>answer_option_4</th>\n",
       "      <th>answer_option_5</th>\n",
       "    </tr>\n",
       "  </thead>\n",
       "  <tbody>\n",
       "    <tr>\n",
       "      <th>count</th>\n",
       "      <td>384</td>\n",
       "      <td>384</td>\n",
       "      <td>384</td>\n",
       "      <td>384</td>\n",
       "      <td>384</td>\n",
       "      <td>384</td>\n",
       "      <td>382</td>\n",
       "      <td>384</td>\n",
       "    </tr>\n",
       "    <tr>\n",
       "      <th>unique</th>\n",
       "      <td>7</td>\n",
       "      <td>384</td>\n",
       "      <td>384</td>\n",
       "      <td>320</td>\n",
       "      <td>321</td>\n",
       "      <td>333</td>\n",
       "      <td>327</td>\n",
       "      <td>1</td>\n",
       "    </tr>\n",
       "    <tr>\n",
       "      <th>top</th>\n",
       "      <td>Spatial reasoning</td>\n",
       "      <td>Ashley is planning her study schedule for the ...</td>\n",
       "      <td>Let's say Ashley spends 't' hours on Physics, ...</td>\n",
       "      <td>5</td>\n",
       "      <td>3</td>\n",
       "      <td>4</td>\n",
       "      <td>6</td>\n",
       "      <td>Another answer</td>\n",
       "    </tr>\n",
       "    <tr>\n",
       "      <th>freq</th>\n",
       "      <td>94</td>\n",
       "      <td>1</td>\n",
       "      <td>1</td>\n",
       "      <td>7</td>\n",
       "      <td>6</td>\n",
       "      <td>8</td>\n",
       "      <td>7</td>\n",
       "      <td>384</td>\n",
       "    </tr>\n",
       "  </tbody>\n",
       "</table>\n",
       "</div>"
      ],
      "text/plain": [
       "                    topic                                  problem_statement  \\\n",
       "count                 384                                                384   \n",
       "unique                  7                                                384   \n",
       "top     Spatial reasoning  Ashley is planning her study schedule for the ...   \n",
       "freq                   94                                                  1   \n",
       "\n",
       "                                                 solution answer_option_1  \\\n",
       "count                                                 384             384   \n",
       "unique                                                384             320   \n",
       "top     Let's say Ashley spends 't' hours on Physics, ...               5   \n",
       "freq                                                    1               7   \n",
       "\n",
       "       answer_option_2 answer_option_3 answer_option_4 answer_option_5  \n",
       "count              384             384             382             384  \n",
       "unique             321             333             327               1  \n",
       "top                  3               4               6  Another answer  \n",
       "freq                 6               8               7             384  "
      ]
     },
     "execution_count": 7,
     "metadata": {},
     "output_type": "execute_result"
    }
   ],
   "source": [
    "plt.figure(figsize=(12, 8))\n",
    "sns.countplot(y='topic', data=df_train, order=df_train['topic'].value_counts().index, palette='plasma')\n",
    "plt.title('Distribution of Topics in the Training Data', fontsize=16)\n",
    "plt.xlabel('Count', fontsize=12)\n",
    "plt.ylabel('Topic', fontsize=12)\n",
    "plt.show()"
   ]
  },
  {
   "cell_type": "markdown",
   "id": "c089dc1c",
   "metadata": {},
   "source": [
    "## 1.6 Text Feature Analysis\n",
    "\n",
    "The core of the dataset is text. Analyzing the length of problem statements and solutions can give us a proxy for question complexity. Longer text might indicate a more detailed problem."
   ]
  },
  {
   "cell_type": "code",
   "execution_count": null,
   "id": "4caee999",
   "metadata": {},
   "outputs": [
    {
     "name": "stdout",
     "output_type": "stream",
     "text": [
      "Columns with missing values:\n"
     ]
    },
    {
     "data": {
      "text/html": [
       "<div>\n",
       "<style scoped>\n",
       "    .dataframe tbody tr th:only-of-type {\n",
       "        vertical-align: middle;\n",
       "    }\n",
       "\n",
       "    .dataframe tbody tr th {\n",
       "        vertical-align: top;\n",
       "    }\n",
       "\n",
       "    .dataframe thead th {\n",
       "        text-align: right;\n",
       "    }\n",
       "</style>\n",
       "<table border=\"1\" class=\"dataframe\">\n",
       "  <thead>\n",
       "    <tr style=\"text-align: right;\">\n",
       "      <th></th>\n",
       "      <th>Missing Values</th>\n",
       "      <th>% of Total Values</th>\n",
       "    </tr>\n",
       "  </thead>\n",
       "  <tbody>\n",
       "    <tr>\n",
       "      <th>answer_option_4</th>\n",
       "      <td>2</td>\n",
       "      <td>0.520833</td>\n",
       "    </tr>\n",
       "  </tbody>\n",
       "</table>\n",
       "</div>"
      ],
      "text/plain": [
       "                 Missing Values  % of Total Values\n",
       "answer_option_4               2           0.520833"
      ]
     },
     "execution_count": 8,
     "metadata": {},
     "output_type": "execute_result"
    }
   ],
   "source": [
    "# Create new features for text length\n",
    "df_train['problem_length'] = df_train['problem_statement'].str.len()\n",
    "df_train['solution_length'] = df_train['solution'].str.len()\n",
    "\n",
    "fig, axes = plt.subplots(1, 2, figsize=(16, 6))\n",
    "\n",
    "# Plot problem statement length\n",
    "sns.histplot(df_train['problem_length'], ax=axes[0], color='skyblue', kde=True)\n",
    "axes[0].set_title('Distribution of Problem Statement Length')\n",
    "axes[0].set_xlabel('Length (characters)')\n",
    "axes[0].set_ylabel('Frequency')\n",
    "\n",
    "# Plot solution length\n",
    "sns.histplot(df_train['solution_length'], ax=axes[1], color='salmon', kde=True)\n",
    "axes[1].set_title('Distribution of Solution Length')\n",
    "axes[1].set_xlabel('Length (characters)')\n",
    "\n",
    "plt.tight_layout()\n",
    "plt.show()"
   ]
  },
  {
   "cell_type": "markdown",
   "id": "54cda7e1",
   "metadata": {},
   "source": [
    "### Text Length by Topic\n",
    "\n",
    "Does the complexity (i.e., length) of the problem statement vary by topic?"
   ]
  },
  {
   "cell_type": "code",
   "execution_count": null,
   "id": "2ceb97ad",
   "metadata": {},
   "outputs": [
    {
     "data": {
      "image/png": "[encoded data removed]",
      "text/plain": [
       "<Figure size 1500x800 with 1 Axes>"
      ]
     },
     "metadata": {},
     "output_type": "display_data"
    }
   ],
   "source": [
    "plt.figure(figsize=(12, 8))\n",
    "sns.boxplot(x='problem_length', y='topic', data=df_train, palette='coolwarm')\n",
    "plt.title('Problem Statement Length by Topic', fontsize=16)\n",
    "plt.xlabel('Length (characters)', fontsize=12)\n",
    "plt.ylabel('Topic', fontsize=12)\n",
    "plt.show()"
   ]
  }
 ],
 "metadata": {
  "kernelspec": {
   "display_name": "venv",
   "language": "python",
   "name": "python3"
  },
  "language_info": {
   "codemirror_mode": {
    "name": "ipython",
    "version": 3
   },
   "file_extension": ".py",
   "mimetype": "text/x-python",
   "name": "python",
   "nbconvert_exporter": "python",
   "pygments_lexer": "ipython3",
   "version": "3.10.11"
  }
 },
 "nbformat": 4,
 "nbformat_minor": 5
}
