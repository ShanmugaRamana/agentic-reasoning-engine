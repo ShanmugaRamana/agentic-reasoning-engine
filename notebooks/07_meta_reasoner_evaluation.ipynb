{
 "cells": [
  {
   "cell_type": "code",
   "execution_count": 1,
   "id": "57de150a",
   "metadata": {},
   "outputs": [
    {
     "name": "stderr",
     "output_type": "stream",
     "text": [
      "e:\\agentic-reasoning-engine\\venv\\lib\\site-packages\\tqdm\\auto.py:21: TqdmWarning: IProgress not found. Please update jupyter and ipywidgets. See https://ipywidgets.readthedocs.io/en/stable/user_install.html\n",
      "  from .autonotebook import tqdm as notebook_tqdm\n"
     ]
    }
   ],
   "source": [
    "import joblib\n",
    "import pandas as pd\n",
    "import numpy as np\n",
    "import seaborn as sns\n",
    "import matplotlib.pyplot as plt\n",
    "from sklearn.metrics import classification_report, confusion_matrix\n",
    "from sklearn.model_selection import train_test_split\n",
    "from sentence_transformers import SentenceTransformer\n",
    "import sys\n",
    "import os\n",
    "\n",
    "sys.path.append(os.path.abspath('..'))\n",
    "project_root = os.path.dirname(os.path.dirname(os.path.abspath('.')))\n",
    "if project_root not in sys.path:\n",
    "    sys.path.append(project_root)\n",
    "\n",
    "from train.meta_reasoner import config as meta_config\n",
    "from train.meta_reasoner.feature_generator import generate_meta_features\n",
    "from src.logger import logger\n",
    "from src import config as main_config"
   ]
  },
  {
   "cell_type": "code",
   "execution_count": 2,
   "id": "9509d902",
   "metadata": {},
   "outputs": [
    {
     "name": "stdout",
     "output_type": "stream",
     "text": [
      "2025-10-07 23:15:51,924 - AgenticReasoningPipeline - INFO - Loaded meta-reasoner artifact from e:\\agentic-reasoning-engine\\models\\meta_reasoner.pkl (2154360255.py:5)\n",
      "2025-10-07 23:15:51,925 - AgenticReasoningPipeline - INFO - Generating features and heuristic labels for meta-reasoner... (feature_generator.py:21)\n",
      "2025-10-07 23:15:51,940 - AgenticReasoningPipeline - INFO - Meta-feature generation complete. Found 4 potential ANALOGY strategies. (feature_generator.py:49)\n",
      "2025-10-07 23:15:55,716 - AgenticReasoningPipeline - INFO - Sentence transformer 'all-MiniLM-L6-v2' is ready. (2154360255.py:18)\n"
     ]
    }
   ],
   "source": [
    "try:\n",
    "    # Load the artifact\n",
    "    model_path = os.path.join(meta_config.MODEL_OUTPUT_DIR, meta_config.MODEL_NAME)\n",
    "    artifact = joblib.load(model_path)\n",
    "    logger.info(f\"Loaded meta-reasoner artifact from {model_path}\")\n",
    "\n",
    "    # Extract components\n",
    "    meta_reasoner = artifact['meta_reasoner']\n",
    "    label_encoder = artifact['label_encoder']\n",
    "\n",
    "    # Generate the dataset for evaluation\n",
    "    features, labels = generate_meta_features()\n",
    "    if features is None:\n",
    "        raise FileNotFoundError(\"Could not generate meta-features.\")\n",
    "    \n",
    "    # Load the sentence transformer for inference\n",
    "    embedding_model = SentenceTransformer(main_config.EMBEDDING_MODEL_NAME)\n",
    "    logger.info(f\"Sentence transformer '{main_config.EMBEDDING_MODEL_NAME}' is ready.\")\n",
    "    \n",
    "except FileNotFoundError as e:\n",
    "    logger.error(f\"Error: {e}. Please run the full training pipeline first.\")"
   ]
  },
  {
   "cell_type": "code",
   "execution_count": 3,
   "id": "09bf876c",
   "metadata": {},
   "outputs": [
    {
     "name": "stdout",
     "output_type": "stream",
     "text": [
      "--- Classification Report (Full Training Set) ---\n",
      "              precision    recall  f1-score   support\n",
      "\n",
      "     ANALOGY       1.00      1.00      1.00         4\n",
      "         LLM       1.00      1.00      1.00       380\n",
      "\n",
      "    accuracy                           1.00       384\n",
      "   macro avg       1.00      1.00      1.00       384\n",
      "weighted avg       1.00      1.00      1.00       384\n",
      "\n"
     ]
    }
   ],
   "source": [
    "# The model was trained on the full dataset, so we evaluate on the same data\n",
    "# to see how well it learned the heuristic patterns.\n",
    "y_true = label_encoder.transform(labels)\n",
    "y_pred = meta_reasoner.predict(features)\n",
    "\n",
    "print(\"--- Classification Report (Full Training Set) ---\")\n",
    "report = classification_report(y_true, y_pred, target_names=label_encoder.classes_)\n",
    "print(report)"
   ]
  },
  {
   "cell_type": "code",
   "execution_count": 4,
   "id": "ff60b5ab",
   "metadata": {},
   "outputs": [
    {
     "name": "stdout",
     "output_type": "stream",
     "text": [
      "--- Confusion Matrix (Full Training Set) ---\n"
     ]
    },
    {
     "data": {
      "image/png": "[encoded data removed]",
      "text/plain": [
       "<Figure size 600x400 with 2 Axes>"
      ]
     },
     "metadata": {},
     "output_type": "display_data"
    }
   ],
   "source": [
    "print(\"--- Confusion Matrix (Full Training Set) ---\")\n",
    "cm = confusion_matrix(y_true, y_pred)\n",
    "plt.figure(figsize=(6, 4))\n",
    "sns.heatmap(cm, annot=True, fmt='d', cmap='Greens',\n",
    "            xticklabels=label_encoder.classes_,\n",
    "            yticklabels=label_encoder.classes_)\n",
    "plt.title('Confusion Matrix', fontsize=16)\n",
    "plt.ylabel('Heuristic Label')\n",
    "plt.xlabel('Predicted Label')\n",
    "plt.show()"
   ]
  },
  {
   "cell_type": "code",
   "execution_count": 5,
   "id": "93fc768e",
   "metadata": {},
   "outputs": [
    {
     "name": "stdout",
     "output_type": "stream",
     "text": [
      "--- Running Inference Test ---\n",
      "Problem: 'Laura wants to travel between three locations, A, ...'\n",
      " -> Predicted Strategy: LLM\n",
      "\n",
      "Problem: 'Write a short story about a robot who discovers mu...'\n",
      " -> Predicted Strategy: LLM\n",
      "\n",
      "Problem: 'What has an eye, but cannot see?...'\n",
      " -> Predicted Strategy: LLM\n"
     ]
    }
   ],
   "source": [
    "def get_strategy(text: str):\n",
    "    \"\"\"Takes raw text and returns the predicted strategy from the meta-reasoner.\"\"\"\n",
    "    # Create embedding\n",
    "    embedding = embedding_model.encode([text])\n",
    "    \n",
    "    # Get prediction from the meta-reasoner\n",
    "    predicted_idx = meta_reasoner.predict(embedding)\n",
    "    \n",
    "    # Decode the index to its strategy name\n",
    "    predicted_strategy = label_encoder.inverse_transform(predicted_idx)\n",
    "    return predicted_strategy[0]\n",
    "\n",
    "print(\"--- Running Inference Test ---\")\n",
    "\n",
    "# Test Case 1: A problem very similar to one in our dataset\n",
    "problem1 = \"Laura wants to travel between three locations, A, B, and C, starting and ending at A. What is the most efficient path?\"\n",
    "strategy1 = get_strategy(problem1)\n",
    "print(f\"Problem: '{problem1[:50]}...'\\n -> Predicted Strategy: {strategy1}\\n\")\n",
    "\n",
    "# Test Case 2: A more creative, open-ended problem\n",
    "problem2 = \"Write a short story about a robot who discovers music.\"\n",
    "strategy2 = get_strategy(problem2)\n",
    "print(f\"Problem: '{problem2[:50]}...'\\n -> Predicted Strategy: {strategy2}\\n\")\n",
    "\n",
    "# Test Case 3: A classic riddle which may not have a close analogy\n",
    "problem3 = \"What has an eye, but cannot see?\"\n",
    "strategy3 = get_strategy(problem3)\n",
    "print(f\"Problem: '{problem3[:50]}...'\\n -> Predicted Strategy: {strategy3}\")"
   ]
  },
  {
   "cell_type": "code",
   "execution_count": 6,
   "id": "f9d9e323",
   "metadata": {},
   "outputs": [
    {
     "name": "stdout",
     "output_type": "stream",
     "text": [
      "--- Enhanced Inference with Confidence Scores ---\n",
      "\n",
      "1. Problem: 'Find the shortest route visiting Paris, London, and Berlin s...'\n",
      "   → Strategy: LLM\n",
      "      ANALOGY: 0.000\n",
      "      LLM: 1.000\n",
      "\n",
      "2. Problem: 'Compose a poem about artificial intelligence and human emoti...'\n",
      "   → Strategy: LLM\n",
      "      ANALOGY: 0.040\n",
      "      LLM: 0.960\n",
      "\n",
      "3. Problem: 'If you have a 3-gallon jug and a 5-gallon jug, how do you me...'\n",
      "   → Strategy: LLM\n",
      "      ANALOGY: 0.010\n",
      "      LLM: 0.990\n",
      "\n",
      "4. Problem: 'Design a sustainable city for 100,000 people....'\n",
      "   → Strategy: LLM\n",
      "      ANALOGY: 0.020\n",
      "      LLM: 0.980\n",
      "\n",
      "5. Problem: 'A farmer needs to cross a river with a fox, chicken, and bag...'\n",
      "   → Strategy: LLM\n",
      "      ANALOGY: 0.020\n",
      "      LLM: 0.980\n"
     ]
    }
   ],
   "source": [
    "def get_strategy_with_confidence(text: str):\n",
    "    \"\"\"Returns strategy prediction with confidence scores for both options.\"\"\"\n",
    "    # Create embedding\n",
    "    embedding = embedding_model.encode([text])\n",
    "    \n",
    "    # Get prediction probabilities\n",
    "    probabilities = meta_reasoner.predict_proba(embedding)[0]\n",
    "    \n",
    "    # Get predicted class\n",
    "    predicted_idx = meta_reasoner.predict(embedding)[0]\n",
    "    predicted_strategy = label_encoder.inverse_transform([predicted_idx])[0]\n",
    "    \n",
    "    # Create confidence dictionary\n",
    "    confidence_scores = {}\n",
    "    for i, strategy in enumerate(label_encoder.classes_):\n",
    "        confidence_scores[strategy] = probabilities[i]\n",
    "    \n",
    "    return predicted_strategy, confidence_scores\n",
    "\n",
    "print(\"--- Enhanced Inference with Confidence Scores ---\")\n",
    "test_problems = [\n",
    "    \"Find the shortest route visiting Paris, London, and Berlin starting from Paris.\",\n",
    "    \"Compose a poem about artificial intelligence and human emotions.\",\n",
    "    \"If you have a 3-gallon jug and a 5-gallon jug, how do you measure exactly 4 gallons?\",\n",
    "    \"Design a sustainable city for 100,000 people.\",\n",
    "    \"A farmer needs to cross a river with a fox, chicken, and bag of corn.\"\n",
    "]\n",
    "\n",
    "for i, problem in enumerate(test_problems, 1):\n",
    "    strategy, confidences = get_strategy_with_confidence(problem)\n",
    "    print(f\"\\n{i}. Problem: '{problem[:60]}...'\")\n",
    "    print(f\"   → Strategy: {strategy}\")\n",
    "    for strat, conf in confidences.items():\n",
    "        print(f\"      {strat}: {conf:.3f}\")"
   ]
  },
  {
   "cell_type": "code",
   "execution_count": 7,
   "id": "cf90fe9c",
   "metadata": {},
   "outputs": [
    {
     "name": "stdout",
     "output_type": "stream",
     "text": [
      "--- Feature Importance Analysis ---\n"
     ]
    },
    {
     "data": {
      "image/png": "[encoded data removed]",
      "text/plain": [
       "<Figure size 1000x600 with 1 Axes>"
      ]
     },
     "metadata": {},
     "output_type": "display_data"
    },
    {
     "name": "stdout",
     "output_type": "stream",
     "text": [
      "Top 10 most important features:\n",
      "  1. Feature 233: 0.0535\n",
      "  2. Feature 63: 0.0521\n",
      "  3. Feature 174: 0.0466\n",
      "  4. Feature 66: 0.0455\n",
      "  5. Feature 253: 0.0446\n",
      "  6. Feature 148: 0.0392\n",
      "  7. Feature 45: 0.0299\n",
      "  8. Feature 357: 0.0296\n",
      "  9. Feature 71: 0.0259\n",
      "  10. Feature 172: 0.0251\n"
     ]
    }
   ],
   "source": [
    "def analyze_feature_importance():\n",
    "    \"\"\"Analyze which features are most important for the meta-reasoner's decisions.\"\"\"\n",
    "    if hasattr(meta_reasoner, 'feature_importances_'):\n",
    "        print(\"--- Feature Importance Analysis ---\")\n",
    "        \n",
    "        # Since we're using embeddings, we can't name individual features\n",
    "        # But we can see the distribution of importance\n",
    "        importances = meta_reasoner.feature_importances_\n",
    "        \n",
    "        plt.figure(figsize=(10, 6))\n",
    "        plt.bar(range(len(importances)), importances)\n",
    "        plt.title('Feature Importances in Meta-Reasoner')\n",
    "        plt.xlabel('Feature Index (Embedding Dimensions)')\n",
    "        plt.ylabel('Importance')\n",
    "        plt.grid(True, alpha=0.3)\n",
    "        plt.show()\n",
    "        \n",
    "        print(f\"Top 10 most important features:\")\n",
    "        top_indices = np.argsort(importances)[-10:][::-1]\n",
    "        for i, idx in enumerate(top_indices):\n",
    "            print(f\"  {i+1}. Feature {idx}: {importances[idx]:.4f}\")\n",
    "        \n",
    "        return importances\n",
    "    else:\n",
    "        print(\"Feature importances not available for this model type.\")\n",
    "        return None\n",
    "\n",
    "# Analyze feature importance\n",
    "feature_importances = analyze_feature_importance()"
   ]
  },
  {
   "cell_type": "code",
   "execution_count": 8,
   "id": "3a49031e",
   "metadata": {},
   "outputs": [
    {
     "name": "stdout",
     "output_type": "stream",
     "text": [
      "--- Strategy Distribution Analysis ---\n",
      "Actual distribution in training data:\n",
      "  ANALOGY: 4 samples (1.0%)\n",
      "  LLM: 380 samples (99.0%)\n",
      "\n",
      "Predicted distribution (should match closely):\n",
      "  ANALOGY: 4 samples (1.0%)\n",
      "  LLM: 380 samples (99.0%)\n"
     ]
    },
    {
     "data": {
      "image/png": "[encoded data removed]",
      "text/plain": [
       "<Figure size 800x600 with 1 Axes>"
      ]
     },
     "metadata": {},
     "output_type": "display_data"
    }
   ],
   "source": [
    "def analyze_strategy_distribution():\n",
    "    \"\"\"Analyze the distribution of strategies in the training data and predictions.\"\"\"\n",
    "    print(\"--- Strategy Distribution Analysis ---\")\n",
    "    \n",
    "    # Actual distribution in training data\n",
    "    unique, counts = np.unique(labels, return_counts=True)\n",
    "    actual_dist = dict(zip(unique, counts))\n",
    "    \n",
    "    # Predicted distribution\n",
    "    predicted_labels = label_encoder.inverse_transform(y_pred)\n",
    "    unique_pred, counts_pred = np.unique(predicted_labels, return_counts=True)\n",
    "    predicted_dist = dict(zip(unique_pred, counts_pred))\n",
    "    \n",
    "    print(\"Actual distribution in training data:\")\n",
    "    for strategy, count in actual_dist.items():\n",
    "        percentage = (count / len(labels)) * 100\n",
    "        print(f\"  {strategy}: {count} samples ({percentage:.1f}%)\")\n",
    "    \n",
    "    print(\"\\nPredicted distribution (should match closely):\")\n",
    "    for strategy in label_encoder.classes_:\n",
    "        count = predicted_dist.get(strategy, 0)\n",
    "        percentage = (count / len(y_pred)) * 100\n",
    "        print(f\"  {strategy}: {count} samples ({percentage:.1f}%)\")\n",
    "    \n",
    "    # Plot distribution comparison\n",
    "    strategies = label_encoder.classes_\n",
    "    actual_counts = [actual_dist.get(s, 0) for s in strategies]\n",
    "    predicted_counts = [predicted_dist.get(s, 0) for s in strategies]\n",
    "    \n",
    "    x = np.arange(len(strategies))\n",
    "    width = 0.35\n",
    "    \n",
    "    plt.figure(figsize=(8, 6))\n",
    "    plt.bar(x - width/2, actual_counts, width, label='Actual', alpha=0.7)\n",
    "    plt.bar(x + width/2, predicted_counts, width, label='Predicted', alpha=0.7)\n",
    "    plt.xlabel('Strategy')\n",
    "    plt.ylabel('Count')\n",
    "    plt.title('Strategy Distribution: Actual vs Predicted')\n",
    "    plt.xticks(x, strategies)\n",
    "    plt.legend()\n",
    "    plt.grid(True, alpha=0.3)\n",
    "    plt.show()\n",
    "\n",
    "# Analyze strategy distribution\n",
    "analyze_strategy_distribution()"
   ]
  },
  {
   "cell_type": "code",
   "execution_count": 9,
   "id": "919b3761",
   "metadata": {},
   "outputs": [
    {
     "name": "stdout",
     "output_type": "stream",
     "text": [
      "--- Cross-Validation Style Evaluation ---\n",
      "Training Accuracy (full dataset): 1.0000\n",
      "Test Accuracy (holdout set): 1.0000\n",
      "✅ Model generalizes well\n",
      "\n",
      "--- Test Set Classification Report ---\n",
      "              precision    recall  f1-score   support\n",
      "\n",
      "     ANALOGY       1.00      1.00      1.00         1\n",
      "         LLM       1.00      1.00      1.00        76\n",
      "\n",
      "    accuracy                           1.00        77\n",
      "   macro avg       1.00      1.00      1.00        77\n",
      "weighted avg       1.00      1.00      1.00        77\n",
      "\n"
     ]
    }
   ],
   "source": [
    "def evaluate_cross_validation():\n",
    "    \"\"\"Evaluate model performance using train-test split to check for overfitting.\"\"\"\n",
    "    from sklearn.metrics import accuracy_score\n",
    "    \n",
    "    # Split the data\n",
    "    X_train, X_test, y_train, y_test = train_test_split(\n",
    "        features, labels, test_size=0.2, random_state=42, stratify=labels\n",
    "    )\n",
    "    \n",
    "    # Encode labels\n",
    "    y_train_encoded = label_encoder.transform(y_train)\n",
    "    y_test_encoded = label_encoder.transform(y_test)\n",
    "    \n",
    "    # Train a new model for comparison (optional)\n",
    "    # For now, we'll use the existing model and see how it performs on test data\n",
    "    \n",
    "    # Predict on test set\n",
    "    y_test_pred = meta_reasoner.predict(X_test)\n",
    "    \n",
    "    # Calculate accuracy\n",
    "    train_accuracy = accuracy_score(y_true, y_pred)\n",
    "    test_accuracy = accuracy_score(y_test_encoded, y_test_pred)\n",
    "    \n",
    "    print(\"--- Cross-Validation Style Evaluation ---\")\n",
    "    print(f\"Training Accuracy (full dataset): {train_accuracy:.4f}\")\n",
    "    print(f\"Test Accuracy (holdout set): {test_accuracy:.4f}\")\n",
    "    \n",
    "    if train_accuracy - test_accuracy > 0.1:\n",
    "        print(\"⚠️  Potential overfitting detected\")\n",
    "    else:\n",
    "        print(\"✅ Model generalizes well\")\n",
    "    \n",
    "    # Test set classification report\n",
    "    print(\"\\n--- Test Set Classification Report ---\")\n",
    "    test_report = classification_report(y_test_encoded, y_test_pred, target_names=label_encoder.classes_)\n",
    "    print(test_report)\n",
    "    \n",
    "    return test_accuracy\n",
    "\n",
    "# Evaluate cross-validation performance\n",
    "test_accuracy = evaluate_cross_validation()"
   ]
  },
  {
   "cell_type": "code",
   "execution_count": 10,
   "id": "f60df217",
   "metadata": {},
   "outputs": [
    {
     "name": "stdout",
     "output_type": "stream",
     "text": [
      "--- Strategic Decision Boundary Analysis ---\n",
      "Strategic analysis of example problems:\n",
      "======================================================================\n",
      "\n",
      "Problem: 'Traveling salesman visiting 5 cities with known distances'\n",
      "Decision: LLM\n",
      "Confidence: ANALOGY=0.000, LLM=1.000\n",
      "Reasoning: High confidence in LLM - problem likely requires creativity\n",
      "\n",
      "Problem: 'Write creative fiction about time travel paradox'\n",
      "Decision: LLM\n",
      "Confidence: ANALOGY=0.000, LLM=1.000\n",
      "Reasoning: High confidence in LLM - problem likely requires creativity\n",
      "\n",
      "Problem: 'Logic puzzle with truth-tellers and liars on an island'\n",
      "Decision: LLM\n",
      "Confidence: ANALOGY=0.010, LLM=0.990\n",
      "Reasoning: High confidence in LLM - problem likely requires creativity\n",
      "\n",
      "Problem: 'Compose original music in the style of Beethoven'\n",
      "Decision: LLM\n",
      "Confidence: ANALOGY=0.020, LLM=0.980\n",
      "Reasoning: High confidence in LLM - problem likely requires creativity\n",
      "\n",
      "Problem: 'Water jug measurement problem with 7L and 11L containers'\n",
      "Decision: LLM\n",
      "Confidence: ANALOGY=0.000, LLM=1.000\n",
      "Reasoning: High confidence in LLM - problem likely requires creativity\n"
     ]
    }
   ],
   "source": [
    "def analyze_decision_boundaries():\n",
    "    \"\"\"Analyze how the meta-reasoner makes strategic decisions.\"\"\"\n",
    "    print(\"--- Strategic Decision Boundary Analysis ---\")\n",
    "    \n",
    "    # Get some example problems and their embeddings\n",
    "    example_problems = [\n",
    "        \"Traveling salesman visiting 5 cities with known distances\",\n",
    "        \"Write creative fiction about time travel paradox\",\n",
    "        \"Logic puzzle with truth-tellers and liars on an island\", \n",
    "        \"Compose original music in the style of Beethoven\",\n",
    "        \"Water jug measurement problem with 7L and 11L containers\"\n",
    "    ]\n",
    "    \n",
    "    print(\"Strategic analysis of example problems:\")\n",
    "    print(\"=\" * 70)\n",
    "    \n",
    "    for problem in example_problems:\n",
    "        strategy, confidences = get_strategy_with_confidence(problem)\n",
    "        analogy_conf = confidences.get('ANALOGY', 0)\n",
    "        llm_conf = confidences.get('LLM', 0)\n",
    "        \n",
    "        print(f\"\\nProblem: '{problem}'\")\n",
    "        print(f\"Decision: {strategy}\")\n",
    "        print(f\"Confidence: ANALOGY={analogy_conf:.3f}, LLM={llm_conf:.3f}\")\n",
    "        \n",
    "        if analogy_conf > 0.7:\n",
    "            reasoning = \"High confidence in analogy - problem likely has close matches\"\n",
    "        elif llm_conf > 0.7:\n",
    "            reasoning = \"High confidence in LLM - problem likely requires creativity\"\n",
    "        else:\n",
    "            reasoning = \"Uncertain - problem may be borderline case\"\n",
    "        \n",
    "        print(f\"Reasoning: {reasoning}\")\n",
    "\n",
    "# Analyze decision boundaries\n",
    "analyze_decision_boundaries()"
   ]
  }
 ],
 "metadata": {
  "kernelspec": {
   "display_name": "venv",
   "language": "python",
   "name": "python3"
  },
  "language_info": {
   "codemirror_mode": {
    "name": "ipython",
    "version": 3
   },
   "file_extension": ".py",
   "mimetype": "text/x-python",
   "name": "python",
   "nbconvert_exporter": "python",
   "pygments_lexer": "ipython3",
   "version": "3.10.11"
  }
 },
 "nbformat": 4,
 "nbformat_minor": 5
}
