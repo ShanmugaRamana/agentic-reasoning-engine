{
 "cells": [
  {
   "cell_type": "code",
   "execution_count": 2,
   "id": "2014c210",
   "metadata": {},
   "outputs": [
    {
     "name": "stdout",
     "output_type": "stream",
     "text": [
      "Successfully loaded metadata from e:\\agentic-reasoning-engine\\dataset\\processed/train_processed.json\n",
      "Successfully loaded embeddings from e:\\agentic-reasoning-engine\\dataset\\processed/problem_embeddings.pkl\n",
      "\n",
      "--- Dataset Info ---\n",
      "DataFrame records: 384\n",
      "Embeddings shape: (384, 384)\n"
     ]
    }
   ],
   "source": [
    "import warnings\n",
    "warnings.filterwarnings(\"ignore\", category=UserWarning, module='tqdm.auto')  # hide tqdm IProgress warning\n",
    "warnings.filterwarnings(\"ignore\", category=FutureWarning)  # hide seaborn / pandas future warnings\n",
    "\n",
    "import pandas as pd\n",
    "import numpy as np\n",
    "import pickle\n",
    "import plotly.express as px\n",
    "from sklearn.metrics.pairwise import cosine_similarity\n",
    "import umap.umap_ as umap\n",
    "import sys, os\n",
    "\n",
    "\n",
    "sys.path.append(os.path.abspath('..'))\n",
    "try:\n",
    "    from src import config\n",
    "except ModuleNotFoundError:\n",
    "    class config:\n",
    "        PROCESSED_DATA_DIR = \"data/processed\"\n",
    "\n",
    "try:\n",
    "    processed_path = f\"{config.PROCESSED_DATA_DIR}/train_processed.json\"\n",
    "    df = pd.read_json(processed_path, orient='records')\n",
    "    print(f\"Successfully loaded metadata from {processed_path}\")\n",
    "    \n",
    "    embeddings_path = f\"{config.PROCESSED_DATA_DIR}/problem_embeddings.pkl\"\n",
    "    with open(embeddings_path, 'rb') as f:\n",
    "        embeddings = pickle.load(f)\n",
    "    print(f\"Successfully loaded embeddings from {embeddings_path}\")\n",
    "\n",
    "except FileNotFoundError as e:\n",
    "    print(f\"Error: {e}\\nMake sure you have run the main data pipeline first.\")\n",
    "\n",
    "\n",
    "print(\"\\n--- Dataset Info ---\")\n",
    "print(f\"DataFrame records: {len(df)}\")\n",
    "if isinstance(embeddings, np.ndarray):\n",
    "    print(f\"Embeddings shape: {embeddings.shape}\")\n",
    "else:\n",
    "    print(f\"Embeddings type: {type(embeddings)} (expected numpy.ndarray)\")\n"
   ]
  },
  {
   "cell_type": "code",
   "execution_count": 5,
   "id": "665dfbbf",
   "metadata": {},
   "outputs": [
    {
     "name": "stdout",
     "output_type": "stream",
     "text": [
      "Running UMAP to reduce dimensionality...\n",
      "UMAP reduction complete — new shape: (384, 2)\n",
      "2D coordinates added to dataframe as 'umap_x' and 'umap_y'.\n"
     ]
    }
   ],
   "source": [
    "import warnings\n",
    "warnings.filterwarnings(\"ignore\", category=UserWarning, module='umap')\n",
    "warnings.filterwarnings(\"ignore\", category=FutureWarning)\n",
    "\n",
    "print(\"Running UMAP to reduce dimensionality...\")\n",
    "\n",
    "# Ensure embeddings are valid before reduction\n",
    "if embeddings is None or not isinstance(embeddings, np.ndarray):\n",
    "    raise ValueError(\"❌ Embeddings not found or invalid. Please verify that the embedding file was loaded correctly.\")\n",
    "\n",
    "# Configure and run UMAP\n",
    "reducer = umap.UMAP(\n",
    "    n_neighbors=15,\n",
    "    min_dist=0.1,\n",
    "    n_components=2,\n",
    "    random_state=42\n",
    ")\n",
    "\n",
    "embeddings_2d = reducer.fit_transform(embeddings)\n",
    "print(f\"UMAP reduction complete — new shape: {embeddings_2d.shape}\")\n",
    "\n",
    "# Add UMAP coordinates to dataframe\n",
    "df['umap_x'] = embeddings_2d[:, 0]\n",
    "df['umap_y'] = embeddings_2d[:, 1]\n",
    "\n",
    "print(\"2D coordinates added to dataframe as 'umap_x' and 'umap_y'.\")\n"
   ]
  },
  {
   "cell_type": "code",
   "execution_count": 6,
   "id": "413a72f3",
   "metadata": {},
   "outputs": [
    {
     "data": {
      "application/vnd.plotly.v1+json": {
       "config": {
        "plotlyServerURL": "https://plot.ly"
       },
       "data": [
        {
         "customdata": [
          [
           "Maria needs to prepare for a party and has limited time. She has to bake a cake that takes 1 hour to prepare and bake, decorate her living room which takes 1.5 hours, and pick up a friend from the airport which is 30 minutes away. Maria can decorate the living room while the cake is baking but she cannot leave for the airport if the cake is still in the oven. What is the most efficient sequence of actions for Maria to finish all tasks and what is the minimum total time needed if she starts at 1 PM and must finish all tasks by 4 PM?"
          ],
          [
           "Laura is planning to visit three cities: A, B, and C. She has to visit each city once, starting and ending at A, and she wants to minimize the total travel distance. The distances between the cities are: A to B is 50 miles, B to C is 40 miles, and A to C is 70 miles. What is the shortest route she can take, considering the distances between the cities?"
          ],
          [
           "You are planning a dinner party for 5 friends and want to serve them pizza. Each friend eats either 2 or 3 slices, and you don't know their individual preferences. You need to decide how many pizzas to order. Each pizza has 8 slices. You want to minimize the number of leftover slices while ensuring that everyone has enough to eat. How many pizzas should you order?"
          ],
          [
           "You are given a task to water three plants located at different corners of a triangular garden. The water source is at the center of the triangle. You have a single watering can that can carry enough water to water exactly one plant. Starting from the water source, what is the least number of trips you must make to water all three plants and return to the water source at the end?"
          ],
          [
           "Alex has to complete 3 tasks, each with a different deadline and penalty for being late. Task A has a 2-day deadline and a $50 penalty per day late, Task B has a 4-day deadline and a $20 penalty per day late, and Task C has a 1-day deadline and a $100 penalty per day late. He can only work on one task at a time and each task takes one full day to complete. In what order should Alex complete the tasks to minimize potential penalties?"
          ],
          [
           "You have three tasks to complete, each with a different level of priority and time required. Task A takes 2 hours and is of high priority, Task B takes 4 hours and is of medium priority, and Task C takes 1 hour and is of low priority. You only have 3 hours today to allocate to these tasks. What is the optimal order to execute these tasks today to maximize priority completion, assuming you cannot split the duration of tasks?"
          ],
          [
           "A traveler needs to visit four cities – A, B, C, and D. The distances between them are: A to B is 300km, A to C is 200km, A to D is 400km, B to C is 150km, B to D is 250km, C to D is 100km. The traveler can start at any city. What is the shortest path he can take to visit all cities, without visiting the same city more than once?"
          ],
          [
           "You have a list of tasks to complete within a day. Each task takes a specific whole number of hours and must be completed without interruption. The tasks are as follows: Task A takes 3 hours, Task B takes 6 hours, Task C takes 1 hour, and Task D takes 2 hours. Your goal is to complete all tasks exactly within a 12-hour period with no overlapping, no idle time in between, and no splitting of tasks. In how many different orders can you arrange and complete these tasks?"
          ],
          [
           "Ella has been given a project that requires her to complete three different tasks. Each task can be started after the previous one is finished. The tasks take 3, 5, and 7 hours respectively. She can choose to work for a maximum of 8 hours per day. However, if a task is started, she would like to finish it the same day. She cannot work on weekends. What is the minimum number of days Ella needs to complete the project?"
          ],
          [
           "In the production hall, there are 3 machines that need to operate in a specific sequence to produce a widget. Machine A takes 1 minute to start up. After starting up, it can process material for a widget in 5 minutes. Machine B takes 2 minutes to start up, and it processes the material from Machine A into an intermediate product in 3 minutes. Lastly, Machine C takes 1 minute to start up and 4 minutes to finalize the product. Normally, widgets are produced in batches of 4. However, today, only 3 widgets are needed. The time required to move the material between machines is negligible. The optimal sequence of operation is required to minimize the total production time. What is the minimum time needed to produce the 3 widgets?"
          ],
          [
           "In a small office, there are 4 employees: Alice, Bob, Charlie, and Donna. Each employee must complete one task per day. There are a total of 4 tasks: Task 1 takes 1 hour, Task 2 takes 2 hours, Task 3 takes 3 hours, and Task 4 takes 4 hours. Each task can only be done by one person, and each person can only do one task per day. The goal is to assign tasks to each of the employees so that the total time spent on tasks for the day is minimized, and no task is left incomplete. All employees start work at the same time. What is the optimal distribution of tasks among the employees to minimize the overall time spent, assuming they all work independently?"
          ],
          [
           "You are preparing a meal and have four tasks: chopping vegetables (takes 10 minutes), boiling water (takes 15 minutes to reach boiling point), cooking pasta (12 minutes once the water is boiling), and preparing sauce (8 minutes). You can do tasks sequentially or simultaneously but you have only two burners on your stove which can be used either to boil water or cook the sauce and you cannot cook pasta until the water has boiled. You also have just one knife for chopping vegetables, and cannot chop while attending to the stove. What is the shortest time in which you can complete all four tasks?"
          ],
          [
           "Alice, Bob, and Charlie are planning to collaborate on a project. The project consists of 3 different tasks: Task X, Task Y, and Task Z. Each person is to take one task. Alice takes twice as long to complete any given task as Bob does. Charlie takes 3 times as long as Alice for Task X and Task Z, but can complete Task Y as fast as Bob. If the goal is to minimize the total time taken to complete the project, which person should be assigned to each task?"
          ],
          [
           "You have three tasks to complete, each with a different time sensitivity. Task 1 must be finished within 2 days, Task 2 within 5 days, and Task 3 within 7 days. Each task requires 3 full days to complete. You have one more constraint: you cannot work on weekends. Starting on a Monday, in what order should you complete the tasks to ensure all tasks are finished within their respective deadlines?"
          ],
          [
           "In a card game, you have to pick exactly one card from a standard deck of 52 cards to win a round. The win condition is that the card must be either a spade or an ace. What is the minimal number of rounds you must play to guarantee at least a 90% probability of winning at least once? Assume you can't change the deck and every draw is independent."
          ],
          [
           "You are in charge of planning the schedule for the delivery trucks of a logistics company. There are 4 deliveries to be made today, each at different times. The first delivery is between 9:00-10:00, the second is between 11:00-12:00, the third is between 13:00-14:00, and the fourth is between 15:00-16:00. Each delivery location is a 1-hour drive from the warehouse. The truck can only make one delivery at a time, and it must return to the warehouse after each delivery before heading out to the next one. The truck is available from 8:00. What is the earliest time all deliveries can be completed?"
          ],
          [
           "You have two water jars, one with a capacity of 5 liters and the other with a capacity of 3 liters. There is a large barrel of water from which you can fill the jars. You need to measure exactly 4 liters of water to diffuse a time-sensitive bomb. You can fill the jars, empty them out, and pour water from one jar to the other. How do you measure exactly 4 liters of water?"
          ],
          [
           "You are in charge of scheduling a conference with 3 separate talks. Each talk can only be scheduled at the beginning of the hour, and the whole conference must finish within 3 hours. The first talk must be scheduled last due to the availability of the speaker. The second talk has three times the attendees as the first, and the third talk has twice as many attendees as the second. The rooms available can only host talks in consecutive hours. Given that attendees should have an easy flow through the talks, how should you schedule the talks to maximize attendee convenience?"
          ],
          [
           "You are in charge of planning the transportation of identical goods from a factory to two separate warehouses. The first warehouse is located 40 miles east of the factory, and the second warehouse is located 30 miles north. Your truck can carry enough goods for only one warehouse per trip, and it costs $2 per mile to run the truck. To save on cost, you have decided to deliver the goods to both warehouses using the least amount of miles possible, but you must return to the factory after each delivery before heading to the other warehouse. What is the least amount of miles you would need to cover to complete both deliveries?"
          ],
          [
           "Anna needs to prepare and deliver handmade crafts for a local fair. She has only 8 hours to make as many pieces as possible. She can make small figures that take 20 minutes each or larger figures that take 1 hour each. For every three small figures, she gets a profit of $15, and for each large figure, she gets a profit of $10. What is the maximum profit she can earn in 8 hours if she needs at least 1 hour to pack and deliver them all?"
          ],
          [
           "A librarian is organizing a bookshelf with a five by five grid, numbered from 1 to 25, left to right, top to bottom. Each book has a unique code corresponding to the position where it should be placed on the grid. The librarian can only carry one book at a time and it takes 1 minute to move one space left, right, up, or down, and an additional 1 minute to place a book. Starting from the top left corner (position 1) with the first book, and with an initial layout already placing some books at random, the librarian notices that exactly four books are not in their designated places. These misplaced books have the following codes: 5, 10, 17, and 24. What is the minimal time needed for her to place all the books correctly, assuming there are no other obstacles on the shelf to impede her movement?"
          ],
          [
           "You work for a company that delivers packages in a city laid out in a perfect grid. Your truck is loaded with packages that need to be delivered to different addresses. Each package has a delivery deadline and being late will incur a penalty. From your current location, you can go one block up, down, left, or right, and it takes one minute to travel one block. You have four packages with delivery deadlines: Package 1 must be delivered in 7 minutes, Package 2 in 8 minutes, Package 3 in 12 minutes, and Package 4 in 15 minutes. Their distances from your current location are 3, 6, 8, and 11 blocks respectively. To minimize penalties, in what order should you deliver these packages?"
          ],
          [
           "You have a to-do list with 4 tasks that you need to complete today. Task 1 will take 1 hour to complete, Task 2 will take 3 hours, Task 3 will take 4 hours, and Task 4 will take 2 hours. The tasks can be completed in any order. Your goal is to organize the tasks and complete them in the shortest time possible, considering the following constraints: a) After completing Task 2, you must take a break of at least 1 hour before starting the next task. b) Task 4 is dependent on the completion of Task 1, so it cannot be started until after Task 1 is finished. What is the shortest time in which you can complete all tasks, including the break after Task 2?"
          ],
          [
           "Alice, Bob, and Charlie have to paint 3 houses. Alice can paint a house in 5 hours, Bob can do it in 3 hours, and Charlie in 6 hours. If they work together but on different houses, and they start at the same time, who will finish last?"
          ],
          [
           "You are given a project that requires you to complete 3 different tasks. Each task can be started only when the previous one is completed. Task A takes 3 days to complete, Task B takes 5 days, and Task C takes 2 days. However, there is a weekend (Saturday and Sunday) after the first 5 days of the week. If you start on Monday, what is the earliest day of the week by which you can complete all tasks?"
          ],
          [
           "In a small company, there are three key tasks that need to be completed. Task A takes 3 hours for Joe to complete, 2 hours for Susan, and 6 hours for Bob to complete. Task B takes 4 hours for Joe, 3 hours for Susan, and 5 hours for Bob. Task C takes 2 hours for Joe, 4 hours for Susan, and 7 hours for Bob. Each employee can only work on one task at a time and cannot switch until they finish. What's the quickest strategy to assign tasks to employees to minimize the total time for completing all tasks?"
          ],
          [
           "You have two water jugs: a 5-liter jug and a 7-liter jug, both empty initially. There's a tap that can be used to fill the jugs with water. Your task is to measure exactly 6 liters of water using only these two jugs and the tap. You can fill either jug, empty them, and pour water from one jug to the other, either until one of the jugs is full or the other is empty. What is the minimum number of steps needed to measure exactly 6 liters of water?"
          ],
          [
           "You are planning to start a garden and have to plant 5 different types of flowers—roses, daisies, tulips, lilies, and sunflowers. Your goal is to arrange the flowers in a row so that each type of flower is placed at least two spots away from its same type to discourage pests and diseases. There are enough plants to fill all spots, and the row has exactly 15 spots. In how many different ways can you arrange the flowers following this rule?"
          ],
          [
           "You have a list of tasks to complete: A, B, C, D, and E. Task A takes 1 hour, B takes 3 hours, C takes 2 hours, D takes 4 hours, and E takes 5 hours. You have two workers at your disposal. Each of the workers can only handle one task at a time, but tasks can be done in parallel. What is the minimum number of hours required to finish all tasks if the workers can work simultaneously and start at the same time?"
          ],
          [
           "A business analyst must schedule meetings with 3 different clients. The first client is available every day from 9 am to 11 am. The second client is available every day from 10 am to 12 pm. The third client can meet only on Wednesday and has flexibility from 9 am to 1 pm. The analyst has a personal appointment on Wednesday from 12 pm to 1 pm and the meetings with clients must not overlap. What time should the analyst schedule the meetings with the three clients on Wednesday in order to attend all three meetings and the personal appointment?"
          ],
          [
           "You have 3 tasks to complete today and each task will occur only at a specific time. Task A happens at 9:00 am and takes 30 minutes to complete. Task B starts at 9:45 am and takes 15 minutes. Task C cannot start before 10:00 am and will take 30 minutes to complete. You must finish all tasks by 10:30 am today to succeed. Can you create an optimized plan to finish all tasks and what is the order?"
          ],
          [
           "You are a project manager overseeing the construction of a small bridge. The construction needs to be completed within 10 days, and there are four main tasks to be done with the following constraints: Task A takes 3 days and must be done before task B and C. Task B takes 4 days and must be done after task A but before task D. Task C takes 2 days and can be done anytime after task A. Task D, taking 1 day, concludes the project. What is the minimum number of days in which the construction can be completed without breaking any constraints?"
          ],
          [
           "You have been given the task to deliver three different packages to three different destinations in your city. The distances from your starting point to the destinations are 5 km, 10 km, and 15 km. You know that the routes to these destinations share a common road for the first 3 km from your starting point. Your task is to minimize the total distance traveled while delivering all three packages. You can only carry one package at a time in your vehicle. You are required to return to the starting point after each delivery before taking the next package. What is the minimum total distance you need to travel to deliver all packages and return to the starting point after the last delivery?"
          ],
          [
           "You have been tasked with organizing a small office party. There are 3 types of tasks that need to be completed: ordering food, decorating the office, and setting up the audio system. You have four office colleagues - Alex, Betty, Charlie, and Dana - who have volunteered to help you. Alex is an expert at decorating and can finish it in 1 hour, Betty knows the best places to order food from and can get that done in 2 hours, Charlie is a tech enthusiast and can set up the audio in 1.5 hours, and Dana is new but eager to help and can assist one person and cut their task time by half. How would you allocate the tasks to make sure the party is ready in the shortest amount of time possible?"
          ],
          [
           "You are the project manager for a software development project. The project is estimated to take a total of 500 hours to complete and is due in 10 weeks. You have a team of 4 developers, each with different productivity rates. Developer A can complete 12 hours of work in one day, Developer B can complete 8 hours of work in one day, Developer C can complete 10 hours of work in one day, and Developer D can complete 6 hours of work in one day. Considering that each developer works 5 days a week, how would you allocate the workload efficiently to ensure that the project is completed on time?"
          ],
          [
           "Samantha is a project manager working on three projects named A, B, and C. Each project must be finished within a specific timeframe without overlap. Project A has to start on a Monday and take exactly 3 days to complete. Project B requires 5 days, starting on the Monday immediately after project A is completed. Project C takes 4 days to complete and must start on a Monday two weeks after project B is completed. If Samantha starts project A on the first Monday of a month which has 31 days, on which date of the month will project C be completed?"
          ],
          [
           "In a small town, there are three barbershops, each run by a single barber. Every barber charges the same price for a haircut. The first barbershop is always crowded with customers. The second barbershop has fewer customers, but a customer never has to wait very long. The third barbershop is completely empty except for the barber, who does not appear to be busy at all. If you are looking for the best haircut, which barbershop should you visit and why?"
          ],
          [
           "You are in charge of organizing a small office's schedule. There are two meeting rooms and four teams that need to use them. Each team needs the meeting room for precisely one hour. Team A needs a room at any time between 9 am to 10 am, Team B between 9:30 am to 10:30 am, Team C between 10 am to 11 am, and Team D between 10:30 am to 11:30 am. What is the earliest time all team meetings can be finished if they must happen sequentially in the same day?"
          ],
          [
           "Alice, Bob, and Carol need to paint three houses, one for each. They can paint in different colors: red, blue, and green. Alice can't use red paint due to an allergy. Bob doesn't want the green house because it doesn't match his car. Carol mocked the color blue and vowed never to use it. They want to paint their houses using each color once without violating their personal restrictions. In which color should Alice, Bob, and Carol paint their houses to satisfy all conditions?"
          ],
          [
           "You have been recruited to plan the most efficient route for a technician who needs to visit four separate locations to perform maintenance tasks. The technician must start and end at the company's headquarters. The distances between each location, including the headquarters (H), are as follows: H to A: 10 miles, H to B: 20 miles, H to C: 15 miles, A to B: 30 miles, A to C: 25 miles, B to C: 18 miles. The technician's vehicle consumes 1 gallon per 10 miles and fuel costs $3 per gallon. What is the least amount of money the technician will spend on fuel for the round trip?"
          ],
          [
           "You have a robot that can carry out tasks in your office. The robot takes 5 minutes to sort a stack of papers, 10 minutes to tidy a desk, and 15 minutes to restock supplies. Your list of things to be done consists of sorting 4 stacks of papers, tidying 3 desks, and restocking supplies once. The robot can only perform one task at a time, and it requires a break of 5 minutes after every two tasks it completes. You need all tasks to be completed in the shortest time possible. What is the optimal sequence of tasks?"
          ],
          [
           "You have a to-do list with 5 tasks that need to be completed today. Each task takes a certain amount of time (in hours) to complete: Task 1: 2 hours, Task 2: 4 hours, Task 3: 1 hour, Task 4: 3 hours, Task 5: 2 hours. You can only work on one task at a time. There will be a 1-hour lunch break that can be taken after completing any of the tasks, and after the break, it takes you an extra 30 minutes to regain your focus and get back to peak productivity regardless of the task chosen. Assuming you have exactly 8 hours to finish all tasks, how would you arrange them to complete all within the given timeframe?"
          ],
          [
           "Alex, Brenda, and Carl are colleagues who need to attend a series of three meetings on a single day. Each meeting will be attended by only one of them, and no two meetings can be attended by the same person because they happen simultaneously. The meetings are located in three different cities: Metroville, Coastside, and Highland. Alex refuses to go to Metroville because he has a phobia of tall buildings. Brenda is unable to attend the meeting in Highland due to a previous unpleasant experience. Carl has just moved to Coastside, so he prefers to attend the meeting there if possible. The most optimal solution requires each person to travel the least total distance, assuming they all live equidistant from each other in a fourth city, Springfield. Taking into consideration personal preferences and the need to minimize travel distance for the team as a whole, who should attend each meeting?"
          ],
          [
           "Alice, Bob, and Charlie are planning to paint a house collectively. They are trying to minimize the overall time spent on painting. Alice can paint the house alone in 5 hours, Bob in 6 hours, and Charlie in 7 hours. If they all work together but do not work at the same time to optimize coverage and drying times, what's the least amount of time they will need to paint the house?"
          ],
          [
           "You are tasked with scheduling meetings for 3 different projects, A, B, and C, with the following constraints: Project A must have its meeting before project B. There must be at least a one hour gap between the meetings of project B and C. If all meetings must occur between 8 AM and 5 PM on the same day, and each meeting is exactly 1 hour long, how many possible distinct schedules can you arrange?"
          ],
          [
           "Emily needs to complete 3 different tasks, which can be done in any order, but her available time for today is limited. Task A takes 3 hours to complete, Task B takes 4.5 hours, and Task C takes 2 hours. She can begin her tasks at 9 AM and must finish all tasks by 8 PM. Her goal is to maximize the amount of consecutive free time she has after completing these tasks. Assuming she takes no breaks between tasks, in what order should she complete the tasks to achieve the longest consecutive free time?"
          ],
          [
           "In a factory, there are four machines that are scheduled to produce a new electronic gadget. Machine A can produce a gadget in 1 minute, Machine B takes 1.5 minutes, Machine C takes 2 minutes, and Machine D takes 2.5 minutes to produce one gadget. An urgent order comes in and the factory needs to produce 60 gadgets as quickly as possible, with all machines starting and working at the same time. However, each machine can only produce one gadget at a time. What is the minimum amount of time required to complete the order if all machines are used optimally?"
          ],
          [
           "You have been tasked with sending out invitations for an event. There are two sets of invitations to send: electronic invitations (emails) and physical invitations (letters). You have a list of 300 guests. Sending an email takes 1 minute per email, and you have an email list for all the guests. Sending a physical letter takes 2 minutes per letter due to printing and packaging, but only 100 guests require a physical invitation. Your assistant can help you, but she works at a rate of half your speed. What is the optimal way to split the task between you and your assistant to finish sending all invitations in the shortest time possible?"
          ],
          [
           "You are tasked with painting numbers 1 through 100 on the doors of 100 rooms. The numbers have to be painted such that there is no pattern in how the evens and odds are distributed, to avoid making one row of doors appear predominantly odd or even to those walking by. To optimize the painting process and minimize the time spent on decision making, you decide to establish a simple algorithm by which you will paint odd and even numbers on the doors. What is the algorithm that ensures an approximately even distribution of odds and evens without creating a discernible pattern?"
          ],
          [
           "You have a project that must be completed over 3 days. Each day, you can choose one of three tasks to work on: Task A, Task B, or Task C. The tasks can be done in any order, but each task requires a different number of days to complete. Task A requires 1 day, Task B requires 2 days, and Task C requires 3 days. You must plan which task to do on each day to ensure that you are working on a task every day without idle time and without overlapping tasks. Considering that you may not start a task without completing it and must finish all tasks by the end of the 3 days, which of the following sequences is a valid work plan?"
          ],
          [
           "You are tasked with scheduling meetings for a project team that has restrictions on their availability. The team consists of 4 members: Alice, Bob, Carol, and Dave. Alice can meet on Monday, Wednesday, and Friday. Bob can only meet on Tuesday and Thursday. Carol is available on Monday, Tuesday, and Wednesday. Dave is available every day except Thursday. The goal is to schedule a single meeting where all members can attend. On which day of the week should the meeting be scheduled to ensure everyone can attend?"
          ],
          [
           "You are the manager of a small IT company that is working on two projects. Project X requires 10 more days to complete with 2 developers, while Project Y requires 20 more days with the same workforce. If one developer from Project X moves to Project Y, both projects will finish at the same time. How many days will it take to finish both projects if this change is made?"
          ],
          [
           "Alice, Bob, and Charlie are co-workers who are tasked with completing a project in the least amount of time possible. They discovered that each of them is efficient in specific tasks: Alice takes 3 hours to complete Task A, Bob takes 2 hours to complete Task B, and Charlie takes 1 hour to complete Task C. The project consists of these three tasks which can be completed in parallel but each person can work on only one task at a time. If anyone starts working on a task, they need to finish it before someone else can take over. What is the shortest time in which the project can be completed?"
          ],
          [
           "You are managing a small delivery company with three trucks. Each truck can do one delivery per day. There are five deliveries planned for the week, each on a different day from Monday to Friday. The destinations are various distances from your warehouse: 10, 20, 30, 40, and 50 miles. Deliveries must be done on consecutive days with no gaps between deliveries, starting on Monday. Your goal is to minimize total mileage for the week. Two trucks are required for the 50-mile delivery due to the load. How should you schedule the deliveries to minimize total mileage for the week?"
          ],
          [
           "Alice, Bob, and Charlie want to cross a river using a boat. They find a boat that can carry up to 2 people at a time. It takes Alice 1 minute to row across the river, Bob takes 3 minutes and Charlie takes 5 minutes. When two people are in the boat, they row at the speed of the slower person. What is the minimum time required for all three to get to the other side of the river, and how should they organize the trips?"
          ],
          [
           "You are in charge of planning the schedule for a conference. There are three speakers (A, B, and C) who must all speak once in three different time slots (Morning, Afternoon, Evening). Speaker A has a morning workshop and so cannot speak then. Speaker B prefers not to speak in the evening due to a prior commitment. Speaker C is flexible and has no preference. Your task is to schedule all speakers so that their requirements are met and they all speak at different times. What is the optimal schedule for the speakers?"
          ],
          [
           "In a small town, there is a street with five consecutive houses, each painted a different color. In each house lives a person of different nationality, who each drink a different kind of beverage, smoke different brand of cigar, and keep a different pet. No owners have the same pet, smoke the same brand of cigar, or drink the same beverage. The question is: Who owns the fish?\n\nHints:\n1. The British lives in the red house.\n2. The Swedish keeps dogs as pets.\n3. The Danish drinks tea.\n4. The green house is on the left of the white house.\n5. The green house's owner drinks coffee.\n6. The person who smokes Pall Mall rears birds.\n7. The owner of the yellow house smokes Dunhill.\n8. The man living in the center house drinks milk.\n9. The Norwegian lives in the first house.\n10. The man who smokes Blends lives next door to the one who keeps cats.\n11. The man who keeps the horse lives next door to the man who smokes Dunhill.\n12. The owner who smokes BlueMaster drinks beer.\n13. The German smokes Prince.\n14. The Norwegian lives next to the blue house.\n15. The man who smokes Blends has a neighbor who drinks water.\n\nWho owns the fish?"
          ],
          [
           "A warehouse must dispatch 2 different types of products: A and B. Each type of product has a different packaging time: Product A takes 2 minutes to package, while Product B takes 3 minutes. There is only one packaging station and a limited amount of time before the next shipment must leave. If the warehouse has 12 hours to package products, what is the maximum number of products they can package if they must at least package 150 of product A?"
          ],
          [
           "You are given a device that operates only when plugged in. The device takes exactly 7 minutes to warm up before you can use it. Assuming it takes you 3 minutes to complete your task once the device is ready, and you want to minimize the time you spend waiting for the machine to warm up, what is the earliest you should turn on the machine if you want to be done with your task as close to 30 minutes from now as possible?"
          ],
          [
           "You have 3 tasks to complete with different deadlines and levels of importance. Task A must be completed within 4 days and it's highly important. Task B is of medium importance and is due in 2 days. Task C is less important but needs to be done by tomorrow. You can only work on one task each day. What is the optimal order of completing these tasks to maximize importance while meeting the deadlines?"
          ],
          [
           "Alice, Bob, and Charlie are planning to paint a house together. The house has four walls, all the same size, and they have estimated that it would take one person 4 hours to paint one wall. They want to finish painting all four walls in the least amount of time. Alice can paint twice as fast as Charlie, and Bob can paint at 1.5 times the speed of Charlie. Assuming they can start painting more than one wall at a time and they all start and finish at the same time, what is the minimum amount of time required to paint all four walls if they work together optimally?"
          ],
          [
           "You have to bake 12 cakes for a party and each cake takes exactly one hour to bake. You only have one oven, which can bake up to two cakes at a time. You need to let each cake cool for half an hour after baking before they can be decorated. The decoration of each cake takes 15 minutes and can only be done one at a time. You must finish all tasks (baking, cooling, decorating) within 6 hours to be ready for the party. What time must you start baking the first cake to finish on time for the party?"
          ],
          [
           "You are the new manager in a paperclip factory. The factory has one machine that bends straight metal wires into paperclips and another machine that sorts out defective paperclips. The bending machine can produce 200 paperclips per hour and has a 3% defect rate. The sorting machine can inspect 150 paperclips per hour. The factory runs for 8 hours a day. Your task is to optimize the number of non-defective paperclips at the end of the day. Knowing that you cannot change the speed of the machines and the defect rate, what is the number of non-defective paperclips produced at the end of the day?"
          ],
          [
           "In an office, there are 4 employees: A, B, C, and D. The manager needs to assign 4 different tasks - task 1, task 2, task 3, and task 4, to them based on their efficiency. Employee A takes 2 hours to complete any given task. Employee B takes 3 hours for task 1, 2 hours for task 2, 4 hours for task 3, and 1 hour for task 4. Employee C takes 1 hour for task 1, 4 hours for task 2, 2 hours for task 3, and 3 hours for task 4. Employee D takes 4 hours for task 1, 1 hour for task 2, 3 hours for task 3, and 2 hours for task 4. Each employee can only perform one task, and the tasks must be assigned in such a way that the total time taken is minimized. Which task should the manager assign to each employee to minimize the total time of completion?"
          ],
          [
           "You have 4 tasks to complete with different priorities and durations. Task A has a duration of 4 hours with a high priority. Task B takes 1 hour with a medium priority. Task C occupies you for 3 hours with a low priority. Task D is 2 hours long with a high priority. Your challenge is to minimize the total time spent on tasks by efficiently ordering their completion based on the principle that high priority tasks can't be postponed unless a higher priority task is occupying the slot. If a task is started it must be finished before another is taken up. What is the sequence of tasks that ensures the shortest time to complete all the tasks, taking into account the given constraints?"
          ],
          [
           "You are an events planner and have been tasked to organize three different events. The first event is a seminar that needs a room for 100 people. The second event is a workshop and requires a room for 25 people with additional space for art materials. The third event is a company meeting with 40 people that requires a conference table setup. You have access to four different rooms: Room A can hold up to 150 people, Room B can hold up to 50 people, Room C can hold up to 100 people, and Room D can hold 30 people with extra space for supplies. However, due to a scheduling conflict, Room A is only available in the morning. Which room should be assigned to which event for optimal use of space and considering the restrictions?"
          ],
          [
           "A warehouse manager needs to arrange a schedule for 3 workers who will handle incoming shipments. There are 7 consecutive days, starting from Monday, and each worker can only work for 5 days in a row before requiring a 2-day break. The manager needs to ensure that for each day of the week, at least one worker is available to handle the shipments. The workers are equally skilled, and there are no other constraints. What is the optimal way for the manager to schedule the workers to meet the daily requirements?"
          ],
          [
           "You have to paint three houses, each one can be painted in one of three colors: red, green, or blue. The cost of painting each house a particular color is different and is given by a 3x3 cost matrix where the rows represent houses and the columns represent colors. Given the cost matrix [[17, 2, 17], [16, 16, 5], [14, 3, 19]], you have to paint each house in such a way that no two adjacent houses have the same color and the total cost of painting is minimized. What is the minimum cost?"
          ],
          [
           "Amelia has to complete three different tasks. She knows from previous experience that if she starts with Task 1, it will take her 4 hours to complete. Task 2 takes 3 hours if it is done first, but if it follows Task 1, it only takes 2 hours. Task 3 takes 5 hours if it is done first, 3 hours if it is done after Task 1, and only 1 hour if it is done after Task 2. In what order should Amelia complete the tasks to finish them in the least amount of time?"
          ],
          [
           "Alec needs to prepare for a job interview, shop for groceries, and visit a friend in the hospital. The job interview preparation will take 3 hours, shopping 1 hour, visiting the hospital is 30 minutes from his home but each visit takes 2 hours. He must finish all activities by 6 PM and it is now 11 AM. Alec needs 1 hour to rest between activities. In what order should Alec complete these tasks to finish by 6 PM while having the maximum possible resting time in-between?"
          ],
          [
           "You have two large water tanks, Tank A and Tank B, that need to be filled with water. Tank A can be filled at a rate of 25 liters per minute, while Tank B can be filled at a rate of 15 liters per minute. You have a total of 45 minutes to use and must end up with the exact same amount of water in both tanks. There is only one hose available, so you cannot fill both tanks simultaneously. What is the optimal way to fill both tanks equally using the time allotted?"
          ],
          [
           "You are in charge of allocating tasks to 4 workers for the next 5 days. Each worker can only perform one task per day. There are 3 types of tasks that need to be done: Coding (C), Testing (T), and Documenting (D). The requirements are such that over the five days, there must be a total of 10 Coding tasks, 5 Testing tasks, and 5 Documenting tasks done. Moreover, no worker is allowed to do the same type of task two days in a row, and each worker must perform each type of task at least once. What is the minimum number of workers needed to fulfill all requirements without violating any of the constraints?"
          ],
          [
           "You are planning a small conference and have to arrange the speakers in such a way to minimize the total time of breaks and intermissions while maximizing audience engagement. The first speaker insists on starting exactly at 9 am, and each speaker will talk for exactly 50 minutes with a mandatory 10-minute break after each talk. To maximize engagement, the last talk should end exactly at 1 pm. There are a total of five speakers. Between any two talks, there is an optional extended break where the audience can network for 15 minutes instead of the standard 10-minute break, but you can only have one extended break in the whole event. How should you plan the talks for the speakers in order to meet the conditions?"
          ],
          [
           "Andrew, Beth, Charles, and Diana are planning to go on a trip and need to rent cars for transportation. They found a rental company that offers three kinds of deals: 1) rent a sedan for up to 4 people for $100, 2) rent an SUV for up to 6 people for $150, or 3) rent a minivan for up to 9 people for $200. Everyone prefers to travel with only one of the other travelers (pairwise travel), pair preferences are as follows: Andrew prefers Beth, Beth prefers Charles, Charles prefers Diana, and Diana prefers Andrew. What is the minimum amount they can spend on rentals if they want to accommodate everyone's travel preferences?"
          ],
          [
           "You are organizing a small conference and have scheduled 3 different speakers. Each speaker will give a 45-minute talk. The conference room is available for exactly 3 hours. The setup time for each speaker is 15 minutes, and it is required both before the first talk and between the other talks. What is the largest break time you can schedule between talks if all talks must finish before the 3-hour rental period ends?"
          ],
          [
           "You are the operations manager of a small factory that produces three types of gadgets: A, B, and C. Each gadget requires a different amount of time to manufacture: A takes 1.5 hours, B takes 3 hours, and C takes 4.5 hours. The factory operates 8 hours a day, and you must produce at least one of each type of gadget daily. What is the maximum number of gadgets in total you can manufacture in a day, assuming there are no other constraints like material availability or machine downtime?"
          ],
          [
           "You are playing a game where you must move a knight piece from the top-left corner of a chessboard to the bottom-right corner in as few moves as possible. The knight moves in an L shape, either two squares vertically and one square horizontally, or two squares horizontally and one square vertically. What is the minimum number of moves the knight must make to reach the bottom-right corner?"
          ],
          [
           "Ashley is planning her study schedule for the upcoming exams. She has three subjects to prepare for: Math, Physics, and Chemistry. She needs twice as much time for Math as she needs for Physics, and the same amount of time for Chemistry as for Physics. If she allocates a total of 20 hours, how much time should she plan for each subject to maximize her overall score, assuming all subjects are equally important?"
          ],
          [
           "You are the event organizer for a chess tournament where every player has to play every other player exactly once. The venue has a limited number of chess tables that can only host a total of 10 games simultaneously. If the tournament has 100 players, what is the least number of rounds required to complete the tournament (assuming a round can't start until all games in the previous round have finished)?"
          ],
          [
           "You are organizing a round robin chess tournament where each player must play every other player exactly once. Due to limited number of chess sets, only a certain number of games can be played simultaneously. If you have 10 players and only 4 sets, what is the minimum number of rounds required to complete the tournament if each round is played simultaneously?"
          ],
          [
           "Ali, Bob, and Cara need to cross a river at night using a single wooden boat that can only carry two people at a time. The crossing times for Ali, Bob, and Cara are 1 minute, 2 minutes, and 5 minutes respectively. Due to the treacherous waters, the boat always needs to be rowed by someone to go back and forth. There is only one flashlight, which must be used for each trip. Assuming they can move at their maximum speeds when sharing the boat, what is the shortest amount of time needed for all three to get across the river?"
          ],
          [
           "You have to complete three tasks at work. Task A will take an hour to complete, but can only be performed in the morning. Task B will also take an hour and can be done at any time. Task C takes two hours and must be done in the afternoon. Your workday is 8 hours long starting at 8:00 am and ending at 4:00 pm, with a one-hour lunch break from 12:00 pm to 1:00 pm. In what order should you complete the tasks to maximize the amount of free time you have at the end of the day before 4:00 pm?"
          ],
          [
           "A company offers two monthly subscription plans for its services: Plan A costs $100 per month, and Plan B has a $50 monthly fee plus $1 for each use of the service. A customer expects to use the service exactly 75 times in the upcoming month. Assuming the customer wants to minimize their spending, which plan should they choose?"
          ]
         ],
         "hovertemplate": "<b>%{hovertext}</b><br><br>topic=Optimization of actions and planning<br>problem_statement=%{customdata[0]}<extra></extra>",
         "hovertext": [
          "Optimization of actions and planning",
          "Optimization of actions and planning",
          "Optimization of actions and planning",
          "Optimization of actions and planning",
          "Optimization of actions and planning",
          "Optimization of actions and planning",
          "Optimization of actions and planning",
          "Optimization of actions and planning",
          "Optimization of actions and planning",
          "Optimization of actions and planning",
          "Optimization of actions and planning",
          "Optimization of actions and planning",
          "Optimization of actions and planning",
          "Optimization of actions and planning",
          "Optimization of actions and planning",
          "Optimization of actions and planning",
          "Optimization of actions and planning",
          "Optimization of actions and planning",
          "Optimization of actions and planning",
          "Optimization of actions and planning",
          "Optimization of actions and planning",
          "Optimization of actions and planning",
          "Optimization of actions and planning",
          "Optimization of actions and planning",
          "Optimization of actions and planning",
          "Optimization of actions and planning",
          "Optimization of actions and planning",
          "Optimization of actions and planning",
          "Optimization of actions and planning",
          "Optimization of actions and planning",
          "Optimization of actions and planning",
          "Optimization of actions and planning",
          "Optimization of actions and planning",
          "Optimization of actions and planning",
          "Optimization of actions and planning",
          "Optimization of actions and planning",
          "Optimization of actions and planning",
          "Optimization of actions and planning",
          "Optimization of actions and planning",
          "Optimization of actions and planning",
          "Optimization of actions and planning",
          "Optimization of actions and planning",
          "Optimization of actions and planning",
          "Optimization of actions and planning",
          "Optimization of actions and planning",
          "Optimization of actions and planning",
          "Optimization of actions and planning",
          "Optimization of actions and planning",
          "Optimization of actions and planning",
          "Optimization of actions and planning",
          "Optimization of actions and planning",
          "Optimization of actions and planning",
          "Optimization of actions and planning",
          "Optimization of actions and planning",
          "Optimization of actions and planning",
          "Optimization of actions and planning",
          "Optimization of actions and planning",
          "Optimization of actions and planning",
          "Optimization of actions and planning",
          "Optimization of actions and planning",
          "Optimization of actions and planning",
          "Optimization of actions and planning",
          "Optimization of actions and planning",
          "Optimization of actions and planning",
          "Optimization of actions and planning",
          "Optimization of actions and planning",
          "Optimization of actions and planning",
          "Optimization of actions and planning",
          "Optimization of actions and planning",
          "Optimization of actions and planning",
          "Optimization of actions and planning",
          "Optimization of actions and planning",
          "Optimization of actions and planning",
          "Optimization of actions and planning",
          "Optimization of actions and planning",
          "Optimization of actions and planning",
          "Optimization of actions and planning",
          "Optimization of actions and planning",
          "Optimization of actions and planning",
          "Optimization of actions and planning",
          "Optimization of actions and planning",
          "Optimization of actions and planning",
          "Optimization of actions and planning"
         ],
         "legendgroup": "Optimization of actions and planning",
         "marker": {
          "color": "#636efa",
          "symbol": "circle"
         },
         "mode": "markers",
         "name": "Optimization of actions and planning",
         "orientation": "v",
         "showlegend": true,
         "textposition": "top center",
         "type": "scatter",
         "x": {
          "bdata": "mFFIwAdGasAvTvW/ZPIswCP6cMCLz2rAob1mwDCBaMB6z2vALTYZwJmoUcB3zkrAMWVNwHPneMAezifAFk1TwE8AF8DPqj7AEf9awOYUMsDNhwPA9KFdwJsnZcBuBSDAJnNzwHS/UcA/2RvAN8J0v5i5UMCrdkbAAM9vwMzMeMAi6V3Av4BNwAnUaMBzX3vA48pvwGedQ8ByQWS+YbJlwFYUWMCYu2zAP9dzwL6jK8Atk0XAXQldwK7MH8Cvy1LAgvooPwe+esCOIE/Ap+dswDOxTcCLsF3AMHkkwKK0ScCKBQ4/V+49wF0aIcAPcXbApOggwKujNMD20wnA94xWwE8AZsB2tkDACUpowDg6i79BllvANXthwADVLMBD3mzA6phEwN9eZ8B/I0nAlsUmwJ58AMAHzmvALbcwwOzyLMAQBSbASTdgwB/DWcA=",
          "dtype": "f4"
         },
         "xaxis": "x",
         "y": {
          "bdata": "tACPQKQzK0DK6US+/OEUQFcZmECeq5ZAat4oQLA+lUAJ4oNAZCZgQMF0hEC5K4tAmIOEQIMMikBTb65AMEFGQGuqHEDTv7JAhw43QGp8UkCUzVs/YJFAQOf8kUCtByxABVCGQKlqikAhZxpA/I8Ov5qtf0ACdrRAH9mUQFyCg0Ai5TZAH16NQDakfUB2QIVAODM/QCIqs0DN7pU9yQkwQIUWi0DtC5RArDlGQH1nMUCOKbJAToSWQBsQWUBDP5JAxm2Xv5bQj0BezrFACMd5QL6GgEDdZj5ANTYeQInQtkDAqtC9Lb5HQJ29aUCsO5lAcswxQHzbekAAKUFAP/2GQDerlUBKuLRAFaNxQK0owb7AFpZAnvaXQAnvNUAqjYBAyZm2QJ2EMEDZXLdAuf5eQOavvr+q05NAV8ewQE0erkA9ghdAgxuRQIgeQUA=",
          "dtype": "f4"
         },
         "yaxis": "y"
        },
        {
         "customdata": [
          [
           "In a room, there are 4 corners: A, B, C, and D. You have to place a lamp in the room such that the following conditions are met: 1) The lamp must be equidistant from corners A, B, and C. 2) The distance from corner D to the lamp must be twice the distance from corner A to the lamp. Assuming the room is square and the corners are labeled in clockwise order, where should you place the lamp?"
          ],
          [
           "Imagine that you are in a room with 4 walls, each wall having a door that leads to another room. The rooms are positioned in a square layout and each room has a unique color: red, blue, yellow, and green. You start in the red room. The doors on your right side always lead to the blue room, and doors directly ahead lead to the yellow room. If you are in the green room, the door to your left leads back to the red room. Knowing these rules, if you start in the red room and want to end up in the green room, which sequence of turns must you take?"
          ],
          [
           "Imagine that you are in a large room shaped like a cube. Each wall, including the floor and the ceiling, is a door that can slide open. Initially, all doors are closed. Starting from the center of the room, you walk to the nearest wall, certain that it will slide open as you approach. Upon entering the next identical cubic room, you notice all doors close behind you and the only door that will open is the one directly across the room from where you entered. If you continue this pattern, moving straight ahead each time and passing through the doors that slide open for you in this infinite grid of cubic rooms, how many rooms do you pass through before you return to your original starting room?"
          ],
          [
           "Imagine you have a 3x3x3 Rubik's Cube and there's a single ant at one corner of the cube that can only move along the edges. The ant wants to reach the diagonally opposite corner of the Rubik's Cube. However, it can only travel a maximum of 12 edges to get there. How many different paths can the ant take to reach the opposite corner, assuming it does not travel along the same edge more than once?"
          ],
          [
           "Imagine a 3-dimensional cube. Each edge of this cube is painted red, green, or blue. Every edge must be painted a different color than its directly connected edges (edges sharing the same vertex). If the cube has 12 edges total, what is the minimum number of colors needed to satisfy this painting condition?"
          ],
          [
           "In a room, there are 4 switches corresponding to 4 light bulbs. Each bulb is contained within a separate opaque box, so when the bulbs are lit, you cannot see them unless you open the box. The switches and the bulbs are far apart, meaning once you walk to the bulbs, you cannot touch the switches again. You can flip the switches any way you like, but you can walk to the boxes only once. How do you identify which switch corresponds to each bulb?"
          ],
          [
           "Imagine you are in a room which is shaped like a perfect cube. Each wall, including the floor and ceiling, is painted with a distinct color and you can only exit the room through a door located in one of the walls. You enter the room and observe the following: the floor is painted blue, the ceiling is red. To your right, there is a green wall and to your left, an orange wall. The wall directly in front of you is yellow. In which colored wall is the exit door located?"
          ],
          [
           "On a table, there are three boxes labeled with the letters A, B, and C. Each box is incorrectly labeled with its contents. Box A is labeled 'Oranges', Box B is labeled 'Apples', and Box C is labeled 'Apples and Oranges', but none of these labels correctly describe the contents of their boxes. By only drawing one fruit from one box, can you determine the correct labels for all the boxes? What box will you draw from and what will be your subsequent logic to correctly relabel them?"
          ],
          [
           "You are in a room with 4 doors, positioned at each wall and facing the cardinal directions: North, East, South, and West. Each door leads to a distinct room, and only one of these rooms contains an escape key, while the others contain a trap. The escape room door follows a logic based on its positioning. If North is Door 1, East is Door 2, South is Door 3, and West is Door 4, the following clues are provided: (1) The escape room door's number is not prime. (2) The sum of the digits of the escape room door's number is greater than the room door number directly opposite it. Which door should you choose to escape safely?"
          ],
          [
           "You are in a room with four doors, each one leading to a tunnel. The first tunnel takes 4 minutes to traverse, the second takes 2 minutes, the third takes 5 minutes, and the fourth takes 1 minute. At the end of each tunnel is another room exactly like the first, with four doors and identical tunnel times. You must reach a room with a blue door that appears only after going through two consecutive tunnels that take an odd number of minutes to traverse. What is the minimum amount of time needed to reach the room with the blue door?"
          ],
          [
           "You are given a cube that is made up of smaller cubes arranged in a 3x3x3 grid. If the entire outer surface of the larger cube is painted red, how many of the smaller cubes will have exactly one side painted?"
          ],
          [
           "Consider a 4x4x4 cube composed of 64 smaller 1x1x1 cubes. If the outer layer of smaller cubes is removed, how many cubes remain?"
          ],
          [
           "You are in a room with 5 closed doors numbered from 1 to 5. Each door leads to a hallway that after a few steps forward allows you to only turn left or turn right. Each hallway is connected to hallways from two other doors and forms a perfect triangle inside the room. Knowing that door 1 connects to doors 3 and 4, door 2 connects to doors 4 and 5, and door 3 connects to doors 5 and 1, which doors are connected by the hallways of door 5?"
          ],
          [
           "Imagine you are in a room that is a perfect cube. Each wall, including the floor and ceiling, is painted a different color. The floor is blue, the ceiling is white, and the walls are red, green, yellow, and orange. A bumblebee is flying around the room, touching each wall exactly once and then lands on the floor. The bee starts on the red wall and touches the walls in the following sequence: Red, Green, Yellow, Blue, Orange, White, Blue. Considering the walls the bee has touched, which two walls are opposite each other?"
          ],
          [
           "A cube has been painted with a green color on all its surfaces, and then the cube has been cut into 27 identical small cubes of equal size. These small cubes are mixed in a bag without looking. Without knowing the history of these cubes and without looking into the bag, you pick one small cube. What is the probability that the cube you pick has at least one green face? (Assume the original cube had 3 layers of small cubes when cut.)"
          ],
          [
           "In a room there are 4 switches. Each switch can be turned on or off. There is a light bulb in a sealed box that is opaque and you cannot see inside it. Only one switch is connected to the light bulb. You begin with all the switches in the off position. You can perform the following actions: (1) Toggle any switches you desire. (2) Open the box to inspect the light bulb-status but once opened you cannot toggle the switches again. How do you determine which switch is connected to the light bulb with only one inspection?"
          ],
          [
           "You are in a room with six doors, each leading to a different room. Each subsequent room has the same setup with six doors leading to other rooms, but without any doors leading back. After passing through four rooms, you enter a room that only has one door leading to the outside. Assuming you always choose a door at random, what is the probability that you will reach the outside after passing through exactly five rooms?"
          ],
          [
           "Imagine a cube with sides of 2 units length. Each of its six faces is painted with a different color: red, blue, yellow, green, orange, and purple. The cube is then cut into 8 smaller cubes of equal size. How many of the smaller cubes will have exactly two painted sides?"
          ],
          [
           "In a room, there are 4 corner lights (one in each corner). They are all connected to 4 switches outside the room. You can flip any switch and then enter the room to see the status of each light. However, once you exit the room, you can no longer see the lights. What is the minimum number of trips into the room needed to determine which switch controls which light? Assume the lights are initially off and you cannot see any light from outside the room."
          ],
          [
           "Imagine a cube that is made from smaller cubes, 27 in total (3x3x3). If you remove the smaller cubes from the corners of the large cube, how many of the smaller cubes will be left?"
          ],
          [
           "There is a cube made entirely of transparent material. Inside the cube is a smaller, solid red cube positioned at one corner of the large cube. You can see the inner red cube from the outside. How many of the large cube’s faces show the red cube?"
          ],
          [
           "You are trapped in a room with four walls, each facing North, South, East, and West. In the room, there is a cupboard on the North wall, a painting on the South wall, a mirror on the East wall, and a window on the West wall. You have a compass that points toward the North wall when you stand facing the South wall. You're told that a key to unlock the door is hidden under an object that can reflect your image. Which object should you check under to find the key?"
          ],
          [
           "You are given a cube where each side measures 2 meters. Inside this cube, there is a smaller cube attached to one of the corners, such that it shares one vertex with the larger cube. The sides of the smaller cube measure precisely half the length of the larger cube's sides. If you were to draw the longest possible straight line inside the large cube that touches any point of the small cube and ends at the furthest point of the larger cube, how long would that line be?"
          ],
          [
           "Imagine you have a cube made up of 27 smaller cubes, in a 3x3x3 configuration. You start at one corner on the top layer and want to move to the diagonally opposite corner on the bottom layer. You can move in any direction along the edges of the smaller cubes, but you cannot move diagonally across a face or through a cube. What is the minimum number of moves required to reach the opposite corner?"
          ],
          [
           "You have a large cube made up of 27 smaller cubes (3x3x3) which are identical in appearance. One of the small cubes is made of gold and weighs significantly more than the others. Using a balance scale, what is the minimum number of weighings you need to definitely determine which of the small cubes is the gold one?"
          ],
          [
           "Imagine a 3x3x3 Rubik's Cube which has been disassembled into 27 small cubes and randomly reassembled. What is the probability that the reassembled cube can be solved without any cube being in its original position (ignoring orientation of the individual small cubes)?"
          ],
          [
           "Imagine a cube with sides of equal length. Each face of the cube is painted with a different color: red, blue, green, yellow, purple, and orange. The cube is then cut into 27 equal smaller cubes, each with a side length one third of the original cube. Upon examining the smaller cubes, you find that there are exactly 3 cubes with two faces painted and 1 cube with three faces painted. If you know the red and blue faces were opposites on the original cube, what is the color on the face opposite to the green on the original large cube?"
          ],
          [
           "You have 100 identical-looking keys and one of them can open a lock. If you try one key and it doesn’t work, it breaks. Every time you break a key, the noise it creates wakes up the guard for a minute. You have a 10-minute window to open the lock without getting caught by the guard. The guard just fell asleep. You also remember that every third key in the sequence is more fragile and breaks silently. Assuming it takes you 30 seconds to try a key, what is the strategy to maximize the number of attempts while ensuring the guard doesn’t wake up?"
          ],
          [
           "Imagine you are in a large room where all six walls (the four walls around you, the ceiling, and the floor) are covered with equally-sized square tiles. One tile is missing from one of the walls, and you are given a single tile to fill this gap. While you are examining the room, the lights turn off, plunging the room into total darkness. You know the missing tile is on one of the four vertical walls. Using only your sense of touch, how can you ensure that you place the tile on the wall so that its orientation matches the pattern on the rest of the wall?"
          ],
          [
           "You have a 3D model of a solid object that is a combination of a cube and a pyramid. The base of the pyramid is a square that sits perfectly on top of the square face of the cube. The height of the pyramid is equal to the side of the base square. If the volume of the cube is given as 64 cubic units, what is the total volume of the solid object combining the cube and the pyramid?"
          ],
          [
           "Imagine a 3x3x3 cube made from 27 smaller identical cubes. This large cube has the outer surface painted red. The cube is now cut into its 27 smaller cubes. A blindfolded person reassembles the smaller cubes back into a 3x3x3 cube without knowing which sides of the smaller cubes are painted. What is the probability that the reassembled cube will have the outside completely painted red?"
          ],
          [
           "Anna, Ben, and Clara are standing in a straight line, facing north. Anna is 10 meters behind Ben, and Clara is 15 meters in front of Ben. They all start walking north at the same time. Anna walks at a speed of 2 meters per second, Ben walks at a speed of 1.5 meters per second, and Clara walks at a speed of 1 meter per second. After how many seconds will Anna be at the same point as Ben?"
          ],
          [
           "Imagine a room that is a perfect cube, and every wall including the floor and the ceiling is painted in a different color. There are six colors used: red, blue, green, yellow, orange, and purple. The red wall is opposite to the blue wall, the green wall is to the left of the red wall and the ceiling is painted yellow. If you are standing facing the orange wall, what color is the floor?"
          ],
          [
           "Imagine a 3D space where you have a cube. Each edge of the cube measures 1 unit. Now, place a single ant at one corner of the cube. The ant can only move along the edges of the cube and must reach the diagonally opposite corner of the cube. The ant cannot move across the faces or through the interior of the cube. What is the shortest path the ant can take to reach the diagonally opposite corner measured in the number of edges traversed?"
          ],
          [
           "You have a cubical block of cheese that is 5 inches along each edge. You take slices from it, which are 1 inch thick, parallel to one of the faces of the cube. After making three slices, you realize that you've sliced off every corner of the original cube. How many 1-inch cubes of cheese will you have after making these three slices?"
          ],
          [
           "Emily is arranging colored boxes on shelves in a store. She must organize the blue, green, red, and yellow boxes in such a way that the yellow boxes are not directly next to the green boxes and the red boxes must be at either end. If the arrangement of the boxes from left to right must be symmetric, how should Emily arrange these four colors of boxes?"
          ],
          [
           "A cube is painted red on all its sides and then cut into 27 smaller, equally-sized cubes. These smaller cubes are placed into a bag. Without looking, what is the minimum number of small cubes one must take from the bag to ensure that they have at least one cube with two red faces?"
          ],
          [
           "In a special cube stacking competition, participants are given identical cubes to create the tallest structure possible. Jackson decides to build his structure by placing 3 cubes side by side on the base level, then 2 cubes centered on the top of the first level, and finally 1 cube centered on the top of the second level. However, he notices that by doing so, the center of gravity of the structure might not be right above the center of the base level. Will Jackson's stack of cubes be stable or topple over? Also, keeping his design in mind, how many of the six faces of the bottom level cubes are completely touching another cube or the ground?"
          ],
          [
           "In a sports hall, there are three distinct sections where different activities take place: tennis, basketball, and volleyball. The basketball section is to the immediate left of the volleyball section. The tennis section is not adjacent to the volleyball section. Given these clues, which section is in the middle?"
          ],
          [
           "You enter a room with four statues, each facing in a different cardinal direction: North, East, South, and West. Each statue is pointing to another statue. The statue facing North points to the one facing East. The statue facing East points to the one facing South. The statue facing South points to the one facing West. The statue facing West points, unexpectedly, not to the North one but to the East one. If you were to stand behind the statue facing South, face the same direction it faces, and walk straight ahead, which statue would you reach first?"
          ],
          [
           "Imagine a cube that has six faces, each painted with a different color: Red, Blue, Green, Yellow, Purple, and Orange. You place the cube in a box that has a color painted on each of its six interior sides, matching the colors on the cube. The cube is dropped in and lands with the Red face upwards and the Green face to the North side of the box. Knowing that opposite faces of both the cube and the box have complementary colors (colors that are not next to each other in a standard color wheel), which color is on the bottom face of the cube?"
          ],
          [
           "Imagine a cube with an edge of length 4 units. A straight tunnel is bored directly through the cube, from one point on the surface to another point on the opposite surface. The tunnel is a cylinder with a diameter of 2 units. The tunnel perfectly follows the longest possible straight path that can be drilled through the cube. What is the length of the tunnel, in units?"
          ],
          [
           "Imagine a cube with an edge length of 3 units. Inside this cube, a smaller cube is situated in such a way that each corner of the smaller cube touches the middle of each face of the larger cube. What is the volume of this smaller cube?"
          ],
          [
           "You are in a room with four doors. Each door is painted in a different way. One is striped, one is solid blue, one has dots, and the last one has zigzag patterns. The door that leads to freedom is unique in more than its appearance - it obeys different spatial reasoning rules. If the solid blue door always takes you back to the same room you are in, the door with dots reverses the left and right of anyone who walks through it, and the striped door doubles the height of the person who enters it, which door should you choose to escape?"
          ],
          [
           "You have a cube made up of 27 smaller identical cubes (3x3x3). The whole cube falls and breaks into pieces. You find 23 smaller cubes, 7 of them have 3 painted faces, 8 have 2 painted faces, and the rest have either one face painted or no faces painted. How many of the 23 smaller cubes have only one face painted?"
          ],
          [
           "Emma is playing with colored blocks to build a tower. She has three colors of blocks to choose from: Red, Blue, and Green. If she wants to make sure that no two blocks of the same color are adjacent to each other in the vertical arrangement, in how many different ways can she build her tower using exactly one block of each color?"
          ],
          [
           "Within a large rectangular room, there are four red, four blue, and four green chairs arranged so that each set of the same color forms the corners of a square. Each of the three squares have the same center point and the side length of each square is the same. If someone sits on a red chair facing the center, with a blue chair immediately to their left and a green chair immediately to their right, what is the minimum number of chairs they can pass by walking in a straight line to reach a wall of the room?"
          ],
          [
           "In a room, there are 4 boxes positioned at the corners of a square rug. Each box has a color and is associated with a letter: Red (R), Green (G), Blue (B), and Yellow (Y). When looking from above, the letters are positioned clockwise starting from the top left corner of the rug. Your task is to move the boxes so that they are positioned counter-clockwise starting from the top left corner but with the additional condition that each box can only be moved diagonally across the rug. How should you move each box to achieve the goal?"
          ],
          [
           "In a room, there are 4 corner points labeled A, B, C, and D. Each wall connecting these points has a unique color: the AB wall is red, the BC wall is green, the CD wall is blue, and the DA wall is yellow. There is a bug that starts at corner A and crawls to corner B, then from corner B to corner C, then jumps directly to corner A again without touching any walls, and finally crawls from corner A to corner D. What is the sequence of wall colors that the bug has observed just before changing directions or jumping?"
          ],
          [
           "Imagine a cube with an edge length of 3 units. Within this cube, a single point is selected at random. What is the probability that this point is within 1 unit of at least one of the edges of the cube?"
          ],
          [
           "You have a 10x10x10 cube made up of 1x1x1 smaller cubes. If you removed the outermost layer of smaller cubes, how many would remain?"
          ],
          [
           "A cube has a side length of 4 units. It is painted on all its exterior surfaces and then cut into smaller cubes of 1 unit side length each. Without any of the smaller cubes being moved or taken apart, what is the total number of smaller cubes that have exactly two sides painted?"
          ],
          [
           "You’re in charge of painting a cubic room where each wall, the ceiling, and the floor must be painted in different solid colors. You have the colors red, green, blue, yellow, white, and black at your disposal. The only rule is that opposite faces of the cube must not be painted with complementary colors. Complementary colors are those that, when combined, create white light—a typical pairing is red and cyan, green and magenta, blue and yellow. Assuming blue has already been used for the floor, what could be the possible color for the ceiling?"
          ],
          [
           "You have a 5x5x5 cube made up of 1x1x1 smaller cubes. This large cube is painted red on the outside. You are then asked to split this cube into 1x1x1 cubes and discard those that have red paint on them. Once all the painted cubes are discarded, how many unpainted cubes are left?"
          ],
          [
           "A cube has a snake-like path drawn starting from the bottom left front corner to the top right back corner. The path only travels along the surfaces of the cube, and it must go over every part of the surface of the cube only once without crossing its own path. If the cube's edges are of equal length, how many edges long will this snake-like path be?"
          ],
          [
           "A jar contains a mixture of black and white marbles. The probability of pulling out a black marble is 1/3. If there are 6 more white marbles than black marbles, how many marbles are there in total?"
          ],
          [
           "You are given a set of building blocks: 10 cubes, 6 rectangular prisms twice as long as the cube edge, and 4 rectangular prisms three times as long as the cube edge. If you want to build a single solid cube structure where all edges align perfectly without any gaps or overlaps, what is the minimum number of pieces you need to use?"
          ],
          [
           "Imagine you are inside a room that is a perfect cube. Each wall, including the floor and ceiling, is painted a different color. The floor is red, the ceiling is blue, and the remaining walls are painted green, yellow, purple, and orange. You are standing against the green wall, with the yellow wall to your right and the purple wall to your left. If you start walking forward towards the orange wall, which wall will be on your ceiling when you reach the orange wall?"
          ],
          [
           "An ant is located in a box shaped like a cube with a side length of 1 meter. The ant is currently at one corner of the cube and needs to get to the diagonally opposite corner. It can walk on any surface of the cube but cannot fly. What is the shortest distance the ant can travel to reach the opposite corner?"
          ],
          [
           "Imagine a cube that is made up of smaller individual cubes - 3 cubes long, 3 cubes wide, and 3 cubes tall. If the outermost layer of smaller cubes is painted blue, how many of the smaller cubes have no blue paint on them?"
          ],
          [
           "You have a cube made out of white smaller cubes - a 3x3x3 structure. If you dip the entire large cube into a pot of blue paint, how many of the smaller cubes will have exactly two blue faces?"
          ],
          [
           "In a strange land, there are three types of trees, each of which bear a unique fruit once every year. These trees are arranged in a perfect rectangular grid, and due to particular soil conditions, their fruit-bearing pattern follows a strict rule: Every row in the grid has a sequence of exactly one tree of each type, but the types of trees in the consecutive rows are shifted one position to the right in a cyclic manner (once a tree type moves off the grid, it reappears on the left side). One day, a child decides to collect fruits by moving in a straight line, starting from a corner of the rectangular grid. The child picks fruits from the first two trees along the path and notes the sequence. It's a 'plum' from a Plumtree followed by an 'apple' from an Appletree. Assuming the grid contains at least three rows and three columns of trees, what type of fruit will the child collect from the third tree that lies on the child's straight path?"
          ],
          [
           "You have a 3x3x3 cubic Rubik's Cube, with each of the 6 faces painted a unique color. The cube is scrambled and placed on a table in front of you. Without touching or moving the cube, you can see three faces: the top, the front, and the right face. The colors on these visible faces are red, blue and green respectively. Knowing that the opposite faces are painted in complementary colors and that the red face is opposite to cyan, blue is opposite to yellow, and green is opposite to magenta, which color is on the bottom face of the cube?"
          ],
          [
           "Imagine a cube where each edge measures 2 units in length. This cube has a single straight tunnel drilled from one corner to the opposite corner. What is the length of the tunnel?"
          ],
          [
           "You are overseeing the construction of a new museum that will have four rooms arranged in a 2x2 grid structure. Each room can have exactly three doors leading to adjacent rooms or the outside. You must design the placement of the doors such that you can enter and exit the museum with a path that goes through each room exactly once. No two adjacent rooms can have more than one door in between them to prevent structural weaknesses. Can you figure out how to arrange the doors?"
          ],
          [
           "Imagine you have a 4x4 grid with each cell being a square. Each square can either be painted black or left white, and there are no restrictions on how many squares can be painted. You start with an empty grid (all squares are white). If you paint squares such that there are exactly two black squares in every row and every column, how many different configurations can you create?"
          ],
          [
           "You have 10 labeled cubes, each with a different color. The cubes are arranged in a row, but they are not in the correct color sequence. The correct sequence is designed such that no two adjacent cubes have similar primary colors (Red, Blue, and Yellow), and no secondary color (Purple, Green, Orange) cube is adjacent to any of its constituent primary colors. For instance, a green cube cannot be next to a blue or a yellow cube. The only information you have is that the first cube is Red and the last cube is Green. How many valid sequences are possible?"
          ],
          [
           "Imagine a cube with sides of length 2 units. Inside of it, there is a single point located somewhere, such that when you draw lines from all of the cube's eight corners to this point, the resulting pyramid-like shapes all have equal volume. Where is the point located within the cube?"
          ],
          [
           "You have a 5x5x5 cube made up of 125 smaller unit cubes. If you remove the outermost layer, how many unit cubes are left?"
          ],
          [
           "In a spacious, square gallery room, there are four sculptures placed at the four corners. Each sculpture is to be illuminated by a spotlight fixed to the ceiling at a point that is equidistant from all the sculptures it lights. The catch, however, is that the spotlights must shine directly downwards and cannot overlap in their paths of light, meaning each sculpture can only be lit by one spotlight. Knowing that the room is symmetrical and allows for perfect placement of the spotlights, how many spotlights are needed to illuminate all four sculptures?"
          ],
          [
           "Emma has placed four different colored cubes - red, blue, green, and yellow - in a row, but not necessarily in that order. She provides you with the following clues: (1) The red cube is not at either end, (2) The blue cube is to the immediate right of the green cube, (3) The yellow cube is second from the left. Which cube is at the far right end?"
          ],
          [
           "You are an adventurer exploring a temple with four rooms arranged in a square. Each wall between rooms has a door. There are engraved symbols on the doors: a sun, a moon, a star, and a comet. You notice a pattern in the way the rooms are connected: the room with the sun door always leads to the room with the moon door, the moon to the star, the star to the comet, and the comet back to the sun. If you start in the room with the sun door and you want to visit each room once and only once, ending in the room you started, can you find the sequence of doors you would pass through?"
          ],
          [
           "You have a rectangular strip of paper. Your task is to fold the paper in a way to divide it into exactly 8 equal-sized sections with the minimum number of folds. Each fold runs from one side of the paper to the opposite side (like closing a book). What is the minimum number of folds required?"
          ],
          [
           "Three friends are playing with colored blocks and decide to create towers. They agree on the following rules: 1. Each tower must consist of exactly three blocks. 2. No two towers can have the same sequence of colors. 3. They have four colors of blocks to choose from: red, blue, green, and yellow. How many different towers can the friends build following these rules?"
          ],
          [
           "A cube is painted red on all its sides and then cut into 27 identical smaller cubes. These smaller cubes are randomly placed in a bag. Without looking, what is the minimum number of smaller cubes that must be taken out from the bag to ensure that you have at least two smaller cubes with at least one red face each?"
          ],
          [
           "You have a box that is divided into a 3x3 grid, making up 9 compartments. The box can be flipped over along any row or column. If you place a ball into the top left compartment and then flip the box over the middle row, followed by flipping it over the middle column, in which compartment will the ball end up?"
          ],
          [
           "You are given a cube with an edge of length 2 units. Inside the cube, a single point is marked at a distance of 1 unit from one of the corners of the cube. If you start from this point and want to reach the opposite corner of the cube by moving only along the edges, what is the minimum distance you need to cover?"
          ],
          [
           "Four friends are discussing the properties of their own houses. Each house is a different color (blue, green, red, and white), and each friend owns a house of one of these colors. The following statements are made: 1. Alice's house is either green or blue. 2. The red house is to the immediate left of the green house. 3. Charlie owns the house to the immediate right of the blue house. 4. The white house is not next to the blue house. Based on the information provided, which color house does Bob own?"
          ],
          [
           "You are in a room with 4 doors, each door leads to a path that comes to a fork. The room has a sign saying, 'Three of these paths lead to a loop that will bring you back to this room. One path leads to freedom. The Room of Truth contains the clue to your escape, and lies at the end of the second left path after any fork.' In the Room of Truth, you find another sign, 'The safe door is not the first on the left, but it is a prime number away from it.' Which door do you choose for freedom?"
          ],
          [
           "You are in a room with 4 doors, each door is painted with a different color; red, blue, green, and yellow. Each door leads to a room of the same color. Once you enter a colored room, there is another door that leads back to the original room which is not necessarily the same color as the one you entered. The red room leads back through the green door, the green room leads back through the red door, the blue room leads back through the yellow door. Which door leads back to the original room when you exit from the yellow room?"
          ],
          [
           "You are in charge of arranging different colored cubes in a 3x3x3 cube grid. The grid must be filled so that each 1x1x1 cube touches exactly one other cube of the same color along one of its faces. You have equal numbers of red, green, and blue cubes. How many ways are there to arrange the cubes in the grid following these rules?"
          ],
          [
           "Imagine you're looking at a cube that has 6 faces, each face painted with a different color: red, blue, yellow, green, orange, and purple. The cube is then placed inside a completely dark room. You have a flashlight that you can shine on only one face of the cube at a time to reveal its color. What is the minimum number of faces you need to illuminate to guarantee you can determine the color of every face of the cube?"
          ],
          [
           "Adam, Bella, Carlos, and Diana are standing at the corners of a large square field. Each person is instructed to walk halfway towards the person on their right and then stops. What shape do they form when all of them stop walking?"
          ],
          [
           "You are presented with three jars, each containing different numbers of colored marbles. Jar A contains 3 red, 2 blue, and 1 green marble. Jar B contains 2 red, 2 blue, and 2 green marbles. Jar C contains 1 red, 3 blue, and 2 green marbles. If you randomly pick one marble from each jar, what is the probability that you end up with one marble of each color?"
          ],
          [
           "You have three pieces of rope, each of equal length. Your task is to lay them out on a flat surface such that they form three touching circles, where each rope only touches the other two at a single point, and no rope crosses another. Can you figure out how to arrange the ropes and what shape is formed by the central space where all three circles touch?"
          ],
          [
           "On a strange planet, there are exactly four cities: A, B, C, and D situated at the corners of a rectangular plateau. Each city is connected to the two nearest cities by a straight road. The total length of the roads is 100 units. If the width of the plateau, which is the distance between city A and B, is 40 units, what is the distance from city C to city D?"
          ],
          [
           "Imagine you have a 5x5x5 cube made up of 125 smaller 1x1x1 cubes. You paint the entire outside surface of the large cube blue. Then, you disassemble the cube and mix all the smaller cubes. If you randomly pick one smaller cube, what is the probability that you will pick a cube that has blue paint on at least one of its surfaces?"
          ],
          [
           "There is a cube with each side painted in a different color: red, blue, green, yellow, purple, and orange. You fold this cube from a flat 2D layout where opposite faces cannot be directly adjacent in 2D. If the face with red is on the bottom, what color is on the top face of the folded cube?"
          ],
          [
           "You have a 10x10x10 cube made up of 1x1x1 small cubes and you have painted the entire outer surface of the large cube. Now, if you break the cube into its individual 1x1x1 cubes, how many small cubes will have no paint on them?"
          ],
          [
           "You have a transparent cube with a colored dot at each corner; red, green, blue, and yellow on the top four corners, and orange, purple, brown, and black on the bottom four corners. Each face of the cube has a different color: the face between red and green is white, blue and yellow is clear, orange and purple is silver, brown and black is gold, red and orange is blue, and green and purple is pink. If you are looking through the clear face at the cube, with the blue and yellow dots at the top, putting the red dot on your immediate left and the green one on your immediate right, what is the color of the dot in the lower-right corner behind the cube?"
          ],
          [
           "You are in a room with 4 doors: North, East, South, and West. Each door leads to a room similar in layout but with different colored walls. Starting in the Green room, you move to the next room through the North door. In this new room, the walls are Blue. Your only way out is through the West door, which leads you to a Red room. Finally, to find the exit, you must move in the following sequence of directions: South, East, North, West, and South again. What color are the walls in the room you end up in?"
          ],
          [
           "Imagine a cube with a different number on each of its six faces, ranging from 1 to 6. This cube is placed inside a completely closed, dark box with unknown orientation. There is a tiny hole in one side of the box allowing you to see only the number on the single face of the cube that is against the hole. You peek through the hole and see the number 4. If the numbers on opposite faces of the cube always sum up to 7 (for example, 1 is opposite to 6, 2 is opposite to 5, and 3 is opposite to 4), and knowing that the cube cannot be moved, what are the possible numbers that the top face of the cube could be showing?"
          ],
          [
           "You have three boxes of different sizes: a small box, a medium box, and a large box. Each box can only fit inside a box that is one size larger. You are given a red, a green, and a blue small item, one of which must fit into the smallest box, with the remaining two items being placed into the larger boxes - one in each. If the red item is placed within the small box, the blue item cannot go into the medium box. If the green item is placed inside the medium box, the blue item cannot go into the large box. How should you place the items into the boxes?"
          ],
          [
           "Imagine three houses in a row, each with a front door facing north. You are given the task to paint each house one of three colors: red, blue, or green. Each house must be a different color from the one immediately to its left, but the houses do not have to be in any particular order of color from left to right. How many different ways can you paint the houses, assuming you are looking at their front doors from the south?"
          ]
         ],
         "hovertemplate": "<b>%{hovertext}</b><br><br>topic=Spatial reasoning<br>problem_statement=%{customdata[0]}<extra></extra>",
         "hovertext": [
          "Spatial reasoning",
          "Spatial reasoning",
          "Spatial reasoning",
          "Spatial reasoning",
          "Spatial reasoning",
          "Spatial reasoning",
          "Spatial reasoning",
          "Spatial reasoning",
          "Spatial reasoning",
          "Spatial reasoning",
          "Spatial reasoning",
          "Spatial reasoning",
          "Spatial reasoning",
          "Spatial reasoning",
          "Spatial reasoning",
          "Spatial reasoning",
          "Spatial reasoning",
          "Spatial reasoning",
          "Spatial reasoning",
          "Spatial reasoning",
          "Spatial reasoning",
          "Spatial reasoning",
          "Spatial reasoning",
          "Spatial reasoning",
          "Spatial reasoning",
          "Spatial reasoning",
          "Spatial reasoning",
          "Spatial reasoning",
          "Spatial reasoning",
          "Spatial reasoning",
          "Spatial reasoning",
          "Spatial reasoning",
          "Spatial reasoning",
          "Spatial reasoning",
          "Spatial reasoning",
          "Spatial reasoning",
          "Spatial reasoning",
          "Spatial reasoning",
          "Spatial reasoning",
          "Spatial reasoning",
          "Spatial reasoning",
          "Spatial reasoning",
          "Spatial reasoning",
          "Spatial reasoning",
          "Spatial reasoning",
          "Spatial reasoning",
          "Spatial reasoning",
          "Spatial reasoning",
          "Spatial reasoning",
          "Spatial reasoning",
          "Spatial reasoning",
          "Spatial reasoning",
          "Spatial reasoning",
          "Spatial reasoning",
          "Spatial reasoning",
          "Spatial reasoning",
          "Spatial reasoning",
          "Spatial reasoning",
          "Spatial reasoning",
          "Spatial reasoning",
          "Spatial reasoning",
          "Spatial reasoning",
          "Spatial reasoning",
          "Spatial reasoning",
          "Spatial reasoning",
          "Spatial reasoning",
          "Spatial reasoning",
          "Spatial reasoning",
          "Spatial reasoning",
          "Spatial reasoning",
          "Spatial reasoning",
          "Spatial reasoning",
          "Spatial reasoning",
          "Spatial reasoning",
          "Spatial reasoning",
          "Spatial reasoning",
          "Spatial reasoning",
          "Spatial reasoning",
          "Spatial reasoning",
          "Spatial reasoning",
          "Spatial reasoning",
          "Spatial reasoning",
          "Spatial reasoning",
          "Spatial reasoning",
          "Spatial reasoning",
          "Spatial reasoning",
          "Spatial reasoning",
          "Spatial reasoning",
          "Spatial reasoning",
          "Spatial reasoning",
          "Spatial reasoning",
          "Spatial reasoning",
          "Spatial reasoning",
          "Spatial reasoning"
         ],
         "legendgroup": "Spatial reasoning",
         "marker": {
          "color": "#EF553B",
          "symbol": "circle"
         },
         "mode": "markers",
         "name": "Spatial reasoning",
         "orientation": "v",
         "showlegend": true,
         "textposition": "top center",
         "type": "scatter",
         "x": {
          "bdata": "F0o4v/AGqj5EZxs/nAwRwEd9sb/WjiG/WHiqPsECGzxrpqc/d7wPwKupyr87JwTARvxCPwLoqDsrAvm/M0obv/grYT+TQc+/4to5v+47A8AD68G/faW6P8f6KsCZ+AnAHA0NwJA4B8DVz5e/ndLkvUQiQ76HlCHA7W/7v7WZFsBDsuq+V8MYwLyOCsB8/Qe/WrDjv1DkFsAOhLC+rDQaPqDUQr9vISnA8n0pwAmImD8uIt+/1zeFv+3BcL/q6s++8UTzPEbYJ8AdGQXAlo7/v5tRK79SWPm/78kawDbovb9xKAXAxhaIPVHLF8BKKOC/TWPJv1ncaD6RbFy/sKwtwFNRbT8dIZO/u8mEv1d7JcCeOwjAlq1jv9w9R7/lKUY/Nrjlvyo0f79ooui/vKvVvmiqJsAu3PA+wFytP7BsDj+Ig42/eUl1vy94N7/fSKe/Nfd7v6I4YsC/VPG/IRVgv8WS4b8naEa/bWB8Pilpur+UUpy+kNJTvw==",
          "dtype": "f4"
         },
         "xaxis": "x",
         "y": {
          "bdata": "9jx4P/dSkb+IO6q/95/Vv1lMJL+g8rs/TSGWv23ZML7bQIe/3ycnQFz0a7/mu2a/iz2Vv5q2lr8E1wO/Zn3bP+vBm78pCFO/38ebP+QcVr9LR5i/Bshwv97w3r+aSMe/YckZvjSFO7+ohqa/Wd4gQPF1cL+yILC/n30iv6TZHEDFbqa/TAfsv8lwhr+NeQe/xk3UvpiSWL9VKyq/GciAv9Fssr+rW9u/hhnMv1Mckb8nbVC/5JJKvwa3o76MICa/BpOdv4uEz7/nr4O/B1yOv7ACtL8vdW6/nYflv9t3Jj4zAoG/mf6cv6Nn5r87Wni/vSd2vzk8N7/3obG/i2Hcv3Ronr/C01a/XSKEv/KPv79y5IK/udlQP9J5kb/vnaa/HjuTvjasK79oydq+jRX/vhkB5r8b1Te9S4hLv7XJhr+U34G/vmUwP0feVL4Tayw+uo01vugeHkCJwhC/9buuv25HfL/MW6W/fBCKv85csL+Sy5G+k9QVvw==",
          "dtype": "f4"
         },
         "yaxis": "y"
        },
        {
         "customdata": [
          [
           "In a room, there are three machines controlled by three switches outside the room. Each switch corresponds to one machine. However, it's unknown which switch controls which machine. You can only enter the room once after flipping the switches any number of times. The machines do not start up immediately and there is no way to identify from sounds or vibrations which switch corresponds to which machine. How do you identify which switch controls each machine with just one entry into the room?"
          ],
          [
           "Alex is testing three different types of machines, A, B, and C, that produce identical products. The only difference is their speed and error rate. Machine A produces 100 products per hour with a 2% error rate, Machine B produces 80 products per hour with a 1% error rate, and Machine C produces 120 products per hour with a 2.5% error rate. If Alex needs to have at least 500 error-free products by the end of the day (8 hours of work), which machine should he use to maximize production while still meeting the quality requirement?"
          ],
          [
           "In a factory, there are three machines A, B, and C. Machine A can assemble a product in 5 minutes, Machine B can do it in 7 minutes, and Machine C can do it in 10 minutes. If all three machines start assembling the product at the same time, how many minutes will it take for all three machines to assemble a total of 10 products?"
          ],
          [
           "You are given a box that has three gears connected in a sequence. Gear A has 12 teeth, Gear B has 8 teeth, and Gear C has 6 teeth. Gear A is connected to a handle that you can rotate, and for every full rotation of Gear A, Gear B rotates a specific number of times, which in turn causes Gear C to rotate a certain number of times. If you rotate the handle attached to Gear A once completely, how many full rotations does Gear C complete?"
          ],
          [
           "You have discovered an ancient lock that is opened by arranging four gears with numbers on them. Each gear has the numbers from 1 to 8, and only one number from each gear is visible at a time when the gears are placed next to each other. The gears must show a sequence of numbers to unlock the mechanism. You notice there is a pattern that relates the visible numbers on adjacent gears; each number on the right is double the number on the left, modulo 9 (1 is treated as 1, not 9 for doubling purposes). If the first gear shows the number 3, what should be the sequence of numbers from the first to the fourth gear to open the lock?"
          ],
          [
           "In a toy factory, three machines A, B, and C are responsible for producing red, green, and blue toy blocks, respectively. Machine A can produce a red block every 4 minutes, machine B can produce a green block every 3 minutes, and machine C can produce a blue block every 7 minutes. If all three machines are started simultaneously, after how many minutes will they produce a block at the same time again?"
          ],
          [
           "A team of engineers is testing three different types of sensors (A, B, and C) for a new automated system. Each sensor can either pass or fail the test, independently of the others. The probability of sensor A passing is 70%, sensor B passing is 60%, and sensor C passing is 50%. To be considered a success, at least two sensors must pass the test. What is the probability that the test is a success?"
          ],
          [
           "In a factory, there are four machines that are designed to cut metal sheets. Each machine is calibrated to cut sheets at slightly different speeds due to their blade sharpness and motor power. Machine A cuts a sheet in 4 minutes, Machine B cuts the same sheet in 5 minutes, Machine C in 6 minutes, and Machine D in 7 minutes. Due to efficiency optimization, you have to use two machines simultaneously to cut the same metal sheet from both sides. What is the fastest pair of machines you can use to cut the metal sheet and how long will it take for them to complete the cut working together?"
          ],
          [
           "A pendulum clock that was accurately set to the correct time at 12:00 PM starts losing a consistent 3 minutes every hour. After 6 hours, what will be the difference in time displayed by the clock compared to the actual time?"
          ],
          [
           "In a machine, there are three levers: A, B, and C. Each lever can be in an up (U) or down (D) position. The machine is turned on if a specific rule of positions of levers is met. The following observations were made: \n1. When lever A was in the up position, and levers B and C in the down position, the machine was off. \n2. With levers A and B in the up position and lever C in the down position, the machine was on. \n3. When lever B was up and levers A and C were down, the machine was off. \n4. With all levers in the down position, the machine was off. \nWhat must be the position of levers A, B, and C for the machine to turn on?"
          ],
          [
           "In a factory, there are three machines A, B, and C. Machine A produces gears that are either perfect or have a defect. Machine B takes the gears from A and polishes them, which does not affect whether they are defective or perfect. Machine C inspects the gears. If a gear is perfect, it passes the inspection 90% of the time but fails 10% of the time. If a gear is defective, it passes the inspection 20% of the time and fails 80% of the time. A random gear is selected and it passes the inspection. What is the probability that it was actually perfect?"
          ],
          [
           "You are an engineer tasked with designing a clock that operates unconventionally. Instead of a clock that counts hours up to 12 or 24 before resetting, this clock must show a maximum of 10 hours before starting over. Every hour, it chimes a number of times corresponding to the number of hours. In a 24-hour period, how many times will the clock chime in total?"
          ],
          [
           "Daisy is an engineer working on a three-gear system where each gear touches the other two gears. The first gear has 12 teeth and is rotating clockwise at a constant rate. The second gear has 8 teeth and the third gear has 24 teeth. What direction is the third gear rotating if Daisy sees that the second gear is rotating counter-clockwise?"
          ],
          [
           "In a clockmaker's workshop, there are four different gears that can fit into a clock mechanism. Gear A has 48 teeth, Gear B has 32 teeth, Gear C has 60 teeth, and Gear D has 72 teeth. The clockmaker wants to set up a gear train where Gear A drives Gear B directly, and Gear B drives another gear that isn't directly attached to Gear A. The goal is to have the last gear in the train rotate exactly 3 times as fast as Gear A. Which gear should the clockmaker use last in the train?"
          ],
          [
           "There is a box with three gear systems. Gear system A has 15 teeth, gear system B has 30 teeth, and gear system C has 45 teeth. Each system engages with both the neighboring systems. If you turn gear system A one full rotation, how many full rotations does gear system C complete?"
          ],
          [
           "You are presented with a box that has three levers: A, B, and C. Each lever can be in an 'up' or 'down' position. The box is currently locked. The unlocking mechanism is governed by the following rules: 1. If lever A is up, then lever B must be down to unlock the box. 2. Lever C must be in the opposite position to lever B. 3. If lever A is down, lever C must be up to unlock the box. Initially, all levers are in the 'up' position. What is the correct configuration of levers to unlock the box?"
          ],
          [
           "You are presented with three gears in a line. The first gear has 12 teeth and is connected to the second gear that has 8 teeth. The second gear is connected to the third gear, which has 16 teeth. If the first gear turns clockwise by 30 degrees, which direction does the third gear turn and by how many degrees?"
          ],
          [
           "You are designing a circular gear system for a clock. This system should have three gears in contact with each other: Gear A, Gear B, and Gear C. Gear A has 12 teeth and Gear B has 16 teeth. If Gear A makes one full rotation, Gear B rotates 1.5 times. Gear C is in contact with Gear B and has an unknown number of teeth. If Gear B makes one full rotation, Gear C rotates twice. How many teeth does Gear C have?"
          ],
          [
           "You have three gear wheels in a mechanism. Gear A has 6 teeth, Gear B has 8 teeth, and Gear C has 14 teeth. Gear A is connected directly to Gear B, but Gear B is NOT directly connected to Gear C. Instead, there's a chain running from Gear B to Gear C, so they rotate in the same direction. If Gear A rotates clockwise at a speed of 60 rotations per minute (RPM), how many RPM does Gear C have?"
          ],
          [
           "You are an engineer tasked with designing a clock with three rotating gears. Gear A has 12 teeth and is connected to the minute hand, completing one full rotation every hour. Gear B has 8 teeth and is connected to gear A. Gear C has 16 teeth and works with the hour hand, completing one full rotation every 12 hours. Gears A and C rotate clockwise, while gear B rotates counter-clockwise. How many teeth will pass the 12 o'clock position marker on gear B after 6 hours of operation?"
          ],
          [
           "A new security system uses a dial that consists of 5 different symbols arranged in a circle. The dial can be rotated clockwise or counterclockwise, and to unlock the system, you must align the correct symbol sequence. Observing the system, you note that each rotation made is always followed by a reverse rotation of fewer steps. For instance, if the dial is rotated 4 steps clockwise, the next move will be less than 4 steps counterclockwise. Starting with the sequence [A, B, C, D, E] and knowing that four moves are made, with step sizes of '3', '2', '4', and '1' respectively, determine the final sequence. The first move is always clockwise, and the sequence is always maintained (no symbols are replaced)."
          ],
          [
           "In a magical land, there are three mysterious machines, each with two slots for inserting coins. Machine A, B, and C operate as follows: Machine A doubles the amount of gold in the first slot and adds 10 gold to the second slot. Machine B triples the amount of gold in the first slot and halves the amount of gold (rounding down) in the second slot. Machine C takes the sum of gold from both slots and places the total in the second slot, leaving the first slot empty. You start with one gold coin each in both slots of machine A. If you can only use each machine once and in any order, what is the maximum amount of gold you can have in a single slot after using all three machines?"
          ],
          [
           "Three friends, Anne, Bob, and Charlie, are trying to unlock a magic chest that requires a three-step mechanism to open. Each step of the mechanism can be turned either right or left and only works if turned in the correct direction. When all steps are turned in the right direction, the chest opens. To make it even trickier, none of the friends know the correct direction for any of the steps. They decided to try every possible combination, taking turns in a certain order. Anne goes first, then Bob, then Charlie, and this order repeats. Each person tries a different combination from the one tried directly before. Anne's first attempt is turning all steps to the left. If the group makes one attempt per minute and there are no repeats in attempts, how long will it take for them to open the chest, if the correct combination is the third combination attempted by Charlie?"
          ],
          [
           "In a factory, there are three machines A, B, and C which are designed to complete a task in a set of consecutive steps. Machine A can complete its part of the task in 5 minutes, machine B in 7 minutes, and machine C in 6 minutes. However, to optimize the workflow, an engineer must determine the order which minimizes the idle time of the machines, assuming each machine must wait for the previous one to finish before starting its task. Idle time is defined as the time a machine is inactive between the completion of its task and the time when all tasks are completed. What is the optimal order to start the machines to achieve the minimum total idle time, and what is the minimum total idle time?"
          ],
          [
           "You find yourself in a room with three machines. The first machine takes an input number and adds 3. The second machine multiplies the input number by 2. The third machine subtracts 5 from the input number. If you are to use each machine exactly once and can choose the order in which you use them, what is the highest number you can obtain with an initial input of 4?"
          ],
          [
           "A scientist has a set of 5 gears connected in a line. The first gear has 12 teeth and each subsequent gear has 6 more teeth than the gear before it. If the first gear rotates clockwise at 1 revolution per minute, which direction and at what speed will the fifth gear rotate?"
          ],
          [
           "You are presented with a box that has three buttons labeled A, B, and C. Each button manipulates different gears inside the box. When button A is pressed, it engages a gear that moves a notch every second; button B engages a gear that moves a notch every two seconds; button C engages a gear that moves a notch every four seconds. All gears reset to their original position after reaching the fourth notch. Initially, all gears are at the first notch. To unlock the box, all gears must reach the third notch simultaneously. You can press a single button or multiple buttons at the same time, but you can only press the buttons once. Which buttons should you press to unlock the box?"
          ],
          [
           "You are presented with three mysterious machines, each with a red button and a green button. Machine A's green button must be pressed exactly three times more than its red button to activate. Machine B will activate if its green button is pressed an odd number of times after the red button is pressed exactly four times. Machine C requires its green button to be pressed twice for every press of the red button for activation. If you press the green buttons of machine A fifteen times and the red buttons of machine B four times, how many times must you press the green button on machine C after pressing its red button three times to activate all the machines?"
          ],
          [
           "You are presented with a machine that has three levers, each connected to a different mechanism. The first lever toggles the flow of water, the second one toggles the rotation of a wheel, and the third operates a bellows. If the wheel rotates, it can only do so when the flow of water is on. The bellows will only operate if the wheel is not rotating. Additionally, if the flow of water is toggled off suddenly, it causes the wheel to rotate twice as fast for a short period before stopping. If you start with all mechanisms off and then pull the first and third levers simultaneously, then immediately pull only the second lever while releasing the others, what is the final state of the machine's mechanisms?"
          ],
          [
           "You are presented with three machines. Machine A accepts a single input and triples it. Machine B takes an input and adds 5 to it. Machine C halves the input. To use a machine, you must insert exactly 1 coin. You start with 4 coins and must end with exactly 25 units, using each machine at least once. What is the smallest number you must start with and in what order must you use the machines to end up with exactly 25 units?"
          ],
          [
           "In a factory, there are four machines. Each machine can complete a specific task in a certain amount of time. Machine A can finish the task in 2 hours, Machine B in 4 hours, Machine C in 6 hours, and Machine D in 8 hours. If you need to complete the task just once, and only two machines can be operated simultaneously due to power restrictions, which combination of two machines should you choose to minimize the total time to complete the task?"
          ],
          [
           "You are presented with a box that has three levers. Each lever can be either in an up or down position. The box will open only when a specific combination of levers' positions is achieved. You know from a previous user that: 1) Moving the first lever changes the second lever's position. 2) Moving the second lever changes the third lever's position. 3) Moving the third lever changes the first and second levers' positions. If the initial state is all levers up, and you need to get all levers down to open the box, what is the fewest number of moves you need to make to open the box, and which levers should you move?"
          ],
          [
           "A machine is designed to move balls from one container to another. It operates with a cycle of four steps: (1) picks up a ball, (2) moves to the right, (3) drops the ball, and (4) moves back to the starting point. The machine starts with the pick-up step and takes 2 seconds to complete each step. An operator needs to transfer 5 balls from the left container to the right container, but the machine can hold only one ball at a time. The machine must return to the starting point after the last ball is transferred. How much time, in seconds, will it take for the operation to finish?"
          ],
          [
           "Within a factory, there are 5 machines that are programmed to finish a product in exact sequence. Each machine adds a component to the product in the following order: Machine A -> Machine B -> Machine C -> Machine D -> Machine E. To improve efficiency, the technicians realized that adding components B and C can be swapped without compromising the product. They plan to rearrange the order to minimize the time taken for the products to pass from one machine to another, considering the distance between machines is critical. The distances between machines are as follows: A to B is 10m, B to C is 15m, C to D is 5m, D to E is 20m, and swapping B and C will place them 25m apart but reduce A to C and B to D distances to 5m each. If the product must go through A, then B or C (whichever is first), then the remaining B or C, followed by D, then E, what is the new sequence that minimizes the total distance traveled by the products?"
          ],
          [
           "A scientist has built three different time machines: Machine A, Machine B, and Machine C. Each machine has two modes: 'Forward in time' and 'Backward in time'. When operating in 'Forward in time' mode, Machine A moves forward by 3 hours, Machine B by 5 hours, and Machine C by 7 hours. When set to 'Backward in time', they move backwards by the same amount of time. The scientist activates each machine once. After the operation, the total net time traveled equals zero, meaning the combined operation of the machines has not resulted in any change in the present time. What combinations of modes were set on each machine?"
          ],
          [
           "You are presented with three interlocking gears in a straight line. Gear A has 10 teeth and is turning clockwise. Gear B has 20 teeth and is interlocked with both Gear A and Gear C. Gear C has 30 teeth and you need to determine the direction it will turn if Gear A makes one full rotation. Which direction will Gear C rotate?"
          ],
          [
           "You must design a mechanism with gears to reduce the speed of a motor. The motor operates at 300 RPM (revolutions per minute) and you need the output speed to be 75 RPM. If you have gears with the following teeth counts: 10, 20, 30, 40, 50, and 60, which two gears should you use in this mechanism?"
          ],
          [
           "You are presented with three machines, each with a set of gears. Machine A has 4 gears arranged in a linear sequence, each with 10 teeth. Machine B has 5 gears in a linear sequence, with each gear having 12 teeth except the second gear which has 14 teeth. Machine C has 6 gears in a circular array, each with 10 teeth except the third gear which has 15 teeth. If you rotate the first gear in each machine by 360 degrees, which machine will cause the final gear in the sequence to rotate the most degrees?"
          ],
          [
           "A team of three workers, Anna, Bob, and Charles, operates a complex mechanism that requires all three to pull levers simultaneously to activate. The mechanism can only be activated twice a day. Each worker can pull their lever only once per day. A new policy dictates that for security reasons, no worker can pull the lever two days in a row. If Anna pulled her lever yesterday, who are the two workers that can operate the mechanism today?"
          ],
          [
           "You are presented with three identical looking machines, each with a single button and a single light bulb. Each machine operates on a different principle: Machine A lights up the bulb every time the button is pressed. Machine B lights up the bulb every second button press. Machine C lights up the bulb randomly with a 50% chance each time the button is pressed. With the bulbs initially off, you can press the button on each machine only once. Your task is to determine which machine operates on which principle based on the light bulb status after you press the buttons. How would you identify each machine?"
          ],
          [
           "You are given a set of gears connected in a linear fashion. Gear A has 20 teeth and is connected to Gear B which has 10 teeth. Gear B is connected to Gear C with 5 teeth. Gear A makes 15 rotations per minute (rpm). How many rotations per minute does Gear C make?"
          ],
          [
           "You have three cogwheels in a mechanism that are connected in a line (A, B, and C). Wheel A has 15 teeth, wheel B has 10 teeth, and wheel C has 30 teeth. Wheel A is turning clockwise. In what direction is wheel C turning and after how many full revolutions of wheel A will wheel C complete its first full revolution?"
          ],
          [
           "You have a mechanism with three gears in a sequence: A, B, and C. Gear A has 15 teeth and is connected to Gear B which has 30 teeth. Gear C has 45 teeth and is meshed with Gear B. If Gear A rotates at 60 rotations per minute (RPM), how fast does Gear C rotate?"
          ],
          [
           "In a factory, a machine A can produce 20 units of product in 3 hours, while machine B can produce 25 units in 4 hours. If a large order requires the production of 200 units and both machines must start and end at the same time, what is the least number of hours both machines must run to meet the order?"
          ],
          [
           "You are presented with three machines: A, B, and C. Each machine has two settings: 1 and 2. When the machines are operated together, they produce a widget. The settings control the speed, quality, and durability of the widget as follows: Machine A controls speed, Machine B controls quality, and Machine C controls durability. You know these facts: 1) Setting both A and C to 2 produces a widget too fast and fragile. 2) Setting A to 1 and B to 2 never yields a high-quality widget. 3) A widget of acceptable quality and durability is produced when B and C are both set to 1, but at a slow speed. Which settings should be used on the machines to produce a widget that is fast, durable and of acceptable quality?"
          ],
          [
           "In a factory, there are three machines A, B, and C that are operated by a central computer. The computer can start and stop these machines based on the commands it receives. Today, the computer received a sequence of corrupted commands that may cause the inappropriate operation of these machines. The sequence of commands was as follows: If A is on, turn off B. If C is off, turn on A. If B is on, turn off C. When the computer started, all machines were off. It then executed these commands in order, starting with the second command, then the third, and finally the first. After executing this sequence once, which of the machines were turned on?"
          ],
          [
           "A machine operates with three levers, each connected to a different gear system. The first lever (L1) increases the machine's output by 4 units each time it's pulled. The second lever (L2) doubles the machine's output whenever it's pulled, and the third lever (L3) decreases the machine's output by 3 units each time it's pulled. If the machine starts with an output of 1 unit, and you can only pull each lever once, in what order should you pull the levers to achieve the maximum possible output?"
          ],
          [
           "You are presented with a machine that consists of several gears connected in a sequence. Gear A has 20 teeth and is interlocked with Gear B, which has 30 teeth. Gear B is connected to Gear C, which has 15 teeth, and finally, Gear C drives Gear D with 25 teeth. If Gear A rotates clockwise by 60 degrees, what will be the final position of Gear D in degrees (assuming Gear D started at 0 degrees position, clockwise rotation is positive and counterclockwise is negative)?"
          ],
          [
           "A machine consists of three gears connected in a line. The first gear has 12 teeth and turns at the rate of 60 revolutions per minute (RPM). The middle gear has 8 teeth, and the third gear has 18 teeth. How many RPM does the third gear make if the connection between the gears means that no gear slips and there's no loss in the energy transfer?"
          ],
          [
           "You find yourself in front of three doors with an electronic locking mechanism. Each door has a keypad with digits 0-9 and a display showing a number. The doors' displays show 120, 65, and 91, respectively. A note next to the doors reads: 'I lock with the product of two prime numbers. One door leads outside, but be warned: one door will trigger an alarm, and the other is permanently locked even if you guess correctly. The sum of primes for the outside door is less than the permanently locked door and greater than the alarm door.' Only the door that leads outside will open when the correct code is entered. What is the code of the door that leads outside?"
          ],
          [
           "You are given a task to operate a mechanism that consists of three levers. Each lever can be in an up (U) or down (D) position, and their initial state is UUD. The mechanism opens a door if the levers are positioned in a specific sequence. You are informed that switching the position of any lever will also toggle the position of the lever to its immediate right except for the last lever, which when toggled, does not affect the others. If you can only move one lever at a time, what is the minimum number of moves required to achieve the sequence DDU to open the door?"
          ],
          [
           "In a factory, there are three machines A, B, and C. Machine A can complete a job in 3 hours, Machine B can do it in 4 hours, and Machine C can do it in 6 hours. However, due to a maintenance issue, Machines A and B can only start working after Machine C has been operating for an hour. What is the shortest time in which the job can be completed if all three machines are used?"
          ],
          [
           "In a factory, there are three machines A, B, and C. Machine A can complete a job in 6 hours, machine B in 3 hours, and machine C doubles the speed of any machine it works with. On one particular day, machines A and C work together for the first hour, after which machine C breaks down. Machine B joins in for the rest of the job. How many hours in total did it take to complete the job?"
          ],
          [
           "In a certain mechanical workshop, there are three machines that can only operate one at a time due to limited electrical capacity. Machine A takes 3 hours to complete its job. Machine B takes 4 hours, and Machine C takes 6 hours. They all need to complete one job each. The workshop operates an 8-hour workday. If only one machine can operate at any given time and no machine can be stopped mid-operation, what is the maximum number of full days needed to complete all three jobs?"
          ],
          [
           "In a factory, there are three machines A, B, and C. Machine A can produce 30 widgets per hour. Machine B can produce 20 widgets more per hour than Machine A, but it's only 80% as reliable (meaning it's operational 80% of the time B operates). Machine C is two times less productive than Machine A, but it never breaks down. If all machines start working simultaneously, after 4 hours of operation, due to a power outage, only one of the machines can be operated for an additional 2 hours. Which machine should be operated after the power outage to maximize the number of widgets produced at the end of the 6-hour period, assuming that machine B, if selected, will not face any reliability issues during those additional hours?"
          ],
          [
           "In a factory, there are three machines, A, B, and C. Each machine can operate independently. Machine A can complete a task in 1 hour, machine B can complete it in 1.5 hours, and machine C takes 2 hours to do the same task. If all three machines start at the same time and work continuously, how long will it take for them to complete 5 tasks? Assume there is no time lost in switching tasks and each task can only be completed by one machine at a time."
          ],
          [
           "In a toy factory, there are four machines that produce toy cars. Each machine has a different output rate: Machine A produces 30 cars per hour, Machine B produces 20 cars per hour, Machine C produces 40 cars per hour, and Machine D produces 10 cars per hour. The factory needs to fulfill an order of 100 cars. All four machines start producing cars simultaneously, but due to a power outage, only two machines can continue working after half an hour. To fulfill the order in the least amount of time, which two machines should continue working after the power outage?"
          ],
          [
           "You have three types of gears: Type A, Type B, and Type C. Each Type A gear has 8 teeth, each Type B gear has 10 teeth, and each Type C gear has 12 teeth. When a Type A gear is connected to a Type B gear, the Type A gear makes 5 revolutions for every 4 revolutions of the Type B gear. If you mesh a gear of Type A with a gear of Type C, how many revolutions will the Type A gear make when the Type C gear completes 3 revolutions?"
          ],
          [
           "In an old castle, there's a room with three identical-looking doors, all next to each other. One door leads to a treasure room, the second door leads to a dragon's lair, and the third door leads to a bottomless pit. Each door is operated by a unique mechanism: One door opens by pushing a button, another by turning a lever, and the third by sliding a panel. There's an engraving on the wall that states: 'The path of riches does not require strength, the dragon detests deceptive appearances, and falling is a silent affair.' Assuming each mechanism's operation is consistent with the clue provided, which mechanism opens which door?"
          ],
          [
           "You find yourself in front of three identical looking machines. Each machine has a red button and a green button. One machine operates best when the red button is pressed first, then the green one (Red-Green operation). The second machine operates best when the green button is pressed first, then the red one (Green-Red operation). The last machine operates best when both the red and green buttons are pressed together (Both-Buttons operation). One full cycle is considered pressing both buttons in the operation sequence.\n\nTo determine which machine follows which operation sequence without any technical knowledge, you are only allowed to press the button sequence once on each machine. How would you determine the correct operation for each machine?"
          ],
          [
           "You are tasked with designing a simple mechanism to count the number of times a door is opened in a day. The counter only needs to show if the door has been opened more than 100 times. The mechanism should be purely mechanical, without the use of electronics. Which design would be the most efficient to achieve this task?"
          ],
          [
           "You are given control over three distinct machines, each with an individual lever. The machines are labeled A, B, and C. Your task is to achieve a specific output pressure on a gauge by correctly configuring the levers. Machine A doubles the pressure reading when its lever is pulled. Machine B subtracts 5 units from the pressure reading when its lever is pulled. Machine C increases the pressure reading by 3 units when its lever is pulled. The current pressure reading is 6 units. Your goal is to get the pressure reading to exactly 10 units. You can operate the machines in any order, and each machine can only be used once. Which sequence of lever operations will achieve the desired result?"
          ],
          [
           "You're presented with a box that has three levers on it. The first lever has three positions (Up, Middle, Down), the second lever has two positions (Left, Right), and the third lever also has two positions (Forward, Backward). The box will open only when the levers are in a specific configuration. You know the following: If the first lever is in the Middle, the third lever must be Forward. If the second lever is Left, then the first lever must not be Down. You've just tried the configuration Up-Right-Backward and the box didn't open. What is the correct configuration to open the box?"
          ],
          [
           "You are presented with three different machines, each with a set of gears. Machine A has 12 gears, machine B has 8 gears, and machine C has 15 gears. Each gear in machine A rotates the next in the opposite direction and each gear has 24 teeth. Machine B's gears rotate the next in the same direction and have 16 teeth each. Machine C's gears also rotate the next in the opposite direction, but with 30 teeth each. If the first gear in machine A starts rotating clockwise, the last gear in machine C rotates counter-clockwise, and the third gear in machine B rotates clockwise, which gear system will have the last gear rotating clockwise?"
          ]
         ],
         "hovertemplate": "<b>%{hovertext}</b><br><br>topic=Operation of mechanisms<br>problem_statement=%{customdata[0]}<extra></extra>",
         "hovertext": [
          "Operation of mechanisms",
          "Operation of mechanisms",
          "Operation of mechanisms",
          "Operation of mechanisms",
          "Operation of mechanisms",
          "Operation of mechanisms",
          "Operation of mechanisms",
          "Operation of mechanisms",
          "Operation of mechanisms",
          "Operation of mechanisms",
          "Operation of mechanisms",
          "Operation of mechanisms",
          "Operation of mechanisms",
          "Operation of mechanisms",
          "Operation of mechanisms",
          "Operation of mechanisms",
          "Operation of mechanisms",
          "Operation of mechanisms",
          "Operation of mechanisms",
          "Operation of mechanisms",
          "Operation of mechanisms",
          "Operation of mechanisms",
          "Operation of mechanisms",
          "Operation of mechanisms",
          "Operation of mechanisms",
          "Operation of mechanisms",
          "Operation of mechanisms",
          "Operation of mechanisms",
          "Operation of mechanisms",
          "Operation of mechanisms",
          "Operation of mechanisms",
          "Operation of mechanisms",
          "Operation of mechanisms",
          "Operation of mechanisms",
          "Operation of mechanisms",
          "Operation of mechanisms",
          "Operation of mechanisms",
          "Operation of mechanisms",
          "Operation of mechanisms",
          "Operation of mechanisms",
          "Operation of mechanisms",
          "Operation of mechanisms",
          "Operation of mechanisms",
          "Operation of mechanisms",
          "Operation of mechanisms",
          "Operation of mechanisms",
          "Operation of mechanisms",
          "Operation of mechanisms",
          "Operation of mechanisms",
          "Operation of mechanisms",
          "Operation of mechanisms",
          "Operation of mechanisms",
          "Operation of mechanisms",
          "Operation of mechanisms",
          "Operation of mechanisms",
          "Operation of mechanisms",
          "Operation of mechanisms",
          "Operation of mechanisms",
          "Operation of mechanisms",
          "Operation of mechanisms",
          "Operation of mechanisms",
          "Operation of mechanisms",
          "Operation of mechanisms",
          "Operation of mechanisms"
         ],
         "legendgroup": "Operation of mechanisms",
         "marker": {
          "color": "#00cc96",
          "symbol": "circle"
         },
         "mode": "markers",
         "name": "Operation of mechanisms",
         "orientation": "v",
         "showlegend": true,
         "textposition": "top center",
         "type": "scatter",
         "x": {
          "bdata": "PGsnv97+C8ClgRTAGI2YPNWZWz424fe/6d2bv5XiGsC4Hse/MuUAv/MGnr9evcS/3qkMPa4gbLwj8ao9Xo0jvrtE2zxy5qm9zb4pPs59vr0eeB8+P3u/v6rddr8sZh3A6bHEv9rCFT7cfg6+hWZrv+f1075m086/MW0ZwKIIUb4CWQHAeKkfwEes6r9AtR4+0+8XPln49T2+YYe/IMZFv38shD7ZVo8+4myyPWZfGMDnlwjAcNSPv1MgB79iNGE9vZF5Pm4u0D/Nj1G+9JUMwGHpCcDpyR/Adg8GwHL2AMATEgfAKoaBPsThpz8GvzC/NXJLvoWdCL8zr4u+8HuavQ==",
          "dtype": "f4"
         },
         "xaxis": "x",
         "y": {
          "bdata": "MnvoP2OoT0DxSFdAJwqBQNEITEDI0UFAOps5QArEVkB8DF5Apts6QG7DRUA7NWhAzoF/QIVghkCBBIZAzis6QPkFgUAPd4RAlyCMQF+QhkDAqz5AvMEOQGZiLUBiOWdAs/wZQDblikC6XUZAUZ4mQKChR0CV8Q5AVcxUQOzJOkD3OElAiB9mQPolT0CrVYVAmUqMQH9xg0D/GTJA9VklQM9ajkDTwIlA0pqJQCxdR0CVYWVAPro7QPmbREAN3INAIV6OQPjTmb8PzjRAW4JSQO60PEBQbFBAgQFjQOQwSkCzEVtAJI6IQDpZWL+Lgy9AHrIbQNKkQkDk1z1AQEN7QA==",
          "dtype": "f4"
         },
         "yaxis": "y"
        },
        {
         "customdata": [
          [
           "A farmer challenges you to use exactly four straight lines to cut a pizza into 10 equal-sized pieces. The lines must be straight, and you must use all four lines. How do you cut the pizza?"
          ],
          [
           "A man builds a rectangular house with all four sides facing south. A bear walks by the house. What color is the bear?"
          ],
          [
           "In a kingdom, there are 5 wells each containing different amounts of water. The first well contains half the amount of water than the second well. The third well contains 3 liters less than the first well. The fourth well contains twice the amount of the third, and the last well has a quantity that is the average of all four previous wells. If the first and the last wells together contain 35 liters, how much water does the third well contain?"
          ],
          [
           "A man wants to send a valuable object to his friend by mail. The object is more valuable than any lock or key, so he can't just send it in an unlocked box. He has a lock but his friend does not have the corresponding key. How can he send the valuable object, locked, and ensure that his friend can open it without sending the key through an unsecured mail system?"
          ],
          [
           "The more you take, the more you leave behind. What am I?"
          ],
          [
           "I’m light as a feather, but even the world's strongest man couldn’t hold me for much longer than a minute. What am I?"
          ],
          [
           "You see a boat filled with people. It has not sunk, but when you look again you don’t see a single person on the boat. Why?"
          ],
          [
           "A man it was, and he did thrive; by him, many things were alive. When he moved, so they would bloom; Without him, impending doom. What is he?"
          ],
          [
           "In a distant land, there are three temples, each on top of a mountain. Each temple has a different number of monks, and the total number of monks across the three temples is 100. If you take the number of monks in the first temple, double it, and subtract 1, you get the number of monks in the second temple. If you take the number of monks in the second temple, double it, and subtract 1, you get the number of monks in the third temple. How many monks are there in each temple?"
          ],
          [
           "A box without hinges, key, or lid, yet golden treasure inside is hid. What am I?"
          ],
          [
           "A bag contains twice as many red marbles as green marbles. There are 3 marbles drawn from the bag at random, one after the other without replacement. If the probability of drawing 3 marbles of the same color is 1/6, how many marbles were there in the bag originally?"
          ],
          [
           "A farmer went to the market to buy some animals. He has to buy exactly 100 animals with exactly $100. If cows cost $10 each, pigs cost $3 each, and chickens cost $0.50 each, how many of each animal must he buy?"
          ],
          [
           "A father's child, a mother's child, yet no one's son. Who is it?"
          ],
          [
           "In a room sit three different containers. Container 1 holds apples, Container 2 holds oranges, and Container 3 holds a mix of both apples and oranges. All containers are mislabeled. You are allowed to draw a fruit from one container only to correctly label all containers. From which container would you draw the fruit, and what steps must you follow to correctly label each container?"
          ],
          [
           "You arrive at a remote castle that you know has a reputation for housing an eccentric sorcerer. They say he has a penchant for riddles and puzzles. Sure enough, as soon as you enter the main hall, you are greeted by the sorcerer who gives you a riddle to solve. 'I am not alive, but I can grow. I don't have lungs, but I need air. I don't have a mouth, but water kills me. What am I?'"
          ],
          [
           "You come across two doors, one leads to the City of Truth, where inhabitants always tell the truth, and the other to the City of Lies, where inhabitants always lie. Each door is guarded by a sentinel. You can ask one sentinel one question to determine which door leads to the City of Truth. However, you don't know which sentinel is guarding which door. What question can you ask to find the right door?"
          ],
          [
           "I have cities, but no houses. I have mountains, but no trees. I have water, but no fish. What am I?"
          ],
          [
           "A boat has a ladder that has six rungs, each rung is one foot apart. The water level reaches up to the second rung. The tide rises at the rate of one foot each hour. After four hours, which rung of the ladder will the water reach?"
          ],
          [
           "Among four identical looking statues, three are made of gold and one is made of lead and covered with gold leaf. They all weigh the same to the naked eye, but the lead statue actually weighs slightly less. You have a balance scale that allows you to compare the weight of two items at a time. What is the smallest number of weighings you need to guarantee to find the lead statue?"
          ],
          [
           "Four people need to cross a rickety bridge at night. Unfortunately, they have only one torch and the bridge is too dangerous to cross without it. The bridge can only hold two people at a time. It's a dark night and the torch only has enough light for 17 minutes. The four people cross at different speeds: one can cross in 1 minute, another in 2 minutes, the third in 5 minutes, and the last in 10 minutes. When two people cross the bridge together, they travel at the speed of the slower person. What is the fastest that they can all get across, and what is the order of their crossing?"
          ],
          [
           "You come to a fork in the road where one path leads to a village of truth-tellers, and the other to a village of liars. You meet a villager at the fork but you don't know if he is from the village of truth-tellers or liars. You need to figure out which path leads to the village of truth-tellers by asking one yes-or-no question. What question can you ask to find the correct path?"
          ],
          [
           "A wealthy book collector has a wall with exactly 12 shelves to store her precious books. She has decided to organize her books with the following rules: No shelf should be empty, every shelf should have at least one more book than the shelf above it, and no two shelves should have the same number of books. What is the minimum number of books the collector must have to satisfy these conditions?"
          ],
          [
           "A man tells you 'All my sons have as many brothers as they have sisters, and each of my daughters has twice as many brothers as they have sisters'. How many sons and daughters do I have?"
          ],
          [
           "Three people check into a hotel room that costs $30. They each contribute $10, handing $30 to the hotel clerk. Later, the clerk realizes there's a special rate for that room of $25. The clerk gives $5 to the bellhop to return to the guests. Unable to divide the money equally, the bellhop gives $1 back to each guest and keeps the remaining $2 for himself. Now, each guest has paid $9, totaling $27, and the bellhop has $2, making $29. Where is the missing dollar?"
          ],
          [
           "There are two doors, one leading to a room filled with treasure and the other leading to a room with a hungry lion that hasn't eaten in years. Each door is guarded by a guardian. One guardian always tells the truth and the other always lies, and you don't know which is which. You have only one question to ask one guardian to find out which door leads to the treasure. What should you ask?"
          ],
          [
           "You come to a fork in the road while travelling to a village where the annual fair is held. One path leads to the village where the fair is bustling with people and activity, while the other leads to a boring and quiet dead-end. You want to go to the fair, but there's no sign indicating which way to go. At the fork, there are two twin brothers standing. One brother always tells the truth and the other brother always lies. You can ask only one question to one of the brothers to find out which way to go. What question do you ask to ensure you head towards the fair?"
          ],
          [
           "You are in a dark room where there are 100 coins scattered around on the floor. You know that 90 coins are tails up, and 10 are heads up. You need to split the coins into two piles such that there are an equal number of heads in each pile. You cannot see if a coin is heads or tails. How do you do it?"
          ],
          [
           "A king has 100 bottles of wine, and one of them is poisoned. The poison is such that if ingested, the effects are visible only after 24 hours. The king needs to find the poisoned bottle by tomorrow so he can execute the culprit at a banquet. He has 10 prisoners at his disposal to act as tasters. How can the king use the prisoners to identify the poisoned bottle by the next day?"
          ],
          [
           "A box contains a set of three different keys: one for the front door, one for the back door, and one for the safe. The keys are indistinguishable by touch. If you need to open the safe and you must pick one key without looking, what is the minimum number of key pulls required to guarantee that you have selected the key for the safe?"
          ],
          [
           "A person has a certain number of socks in a drawer: 24 blue, 15 red, 9 green, and 12 gray. All socks are single and not paired up. The room is in complete darkness and picking socks at random. What is the minimum number of socks the person must take from the drawer in order to be certain that they have at least one matching pair?"
          ],
          [
           "A cabin on the side of a mountain is the scene of a terrible airplane crash. Every single person on board dies but two people survive. How is this possible?"
          ],
          [
           "A secretive organization communicates with its agents using a riddle to confirm their identities. The riddle is as follows: 'I speak without a mouth and hear without ears. I have no body, but I come alive with the wind. What am I?'. An agent is to respond with a one-word answer that represents an element required for the organization's secret communication. What should the agent's answer be?"
          ],
          [
           "A precious stone that is always in plain sight is never the same, yet often seems to repeat. It's prized by many to sit and gaze, though it comes and goes with both night and day. What is it?"
          ]
         ],
         "hovertemplate": "<b>%{hovertext}</b><br><br>topic=Classic riddles<br>problem_statement=%{customdata[0]}<extra></extra>",
         "hovertext": [
          "Classic riddles",
          "Classic riddles",
          "Classic riddles",
          "Classic riddles",
          "Classic riddles",
          "Classic riddles",
          "Classic riddles",
          "Classic riddles",
          "Classic riddles",
          "Classic riddles",
          "Classic riddles",
          "Classic riddles",
          "Classic riddles",
          "Classic riddles",
          "Classic riddles",
          "Classic riddles",
          "Classic riddles",
          "Classic riddles",
          "Classic riddles",
          "Classic riddles",
          "Classic riddles",
          "Classic riddles",
          "Classic riddles",
          "Classic riddles",
          "Classic riddles",
          "Classic riddles",
          "Classic riddles",
          "Classic riddles",
          "Classic riddles",
          "Classic riddles",
          "Classic riddles",
          "Classic riddles",
          "Classic riddles"
         ],
         "legendgroup": "Classic riddles",
         "marker": {
          "color": "#ab63fa",
          "symbol": "circle"
         },
         "mode": "markers",
         "name": "Classic riddles",
         "orientation": "v",
         "showlegend": true,
         "textposition": "top center",
         "type": "scatter",
         "x": {
          "bdata": "H6D4v0dG1z0Agw3Ax83qP+riCUDnxBtAKwgEQDJTHEC4Zfi/KhDUPx5vu78ZxeW/peCkP9JGCD0xXAJA+jG1P25VEEC22w/ACGravwJFIcBoOJo/Nnf1v/5skz+uUti/2IC7Pzsfij9q2Lu/kHroP6M52r3/See/qQwAQJk/0j/vMg9A",
          "dtype": "f4"
         },
         "xaxis": "x",
         "y": {
          "bdata": "Eyf6vYFzhr+9sxRA9rBOv1sbtr5mEgS8bOg3PqetcbsuGRBADdIwv4d65T1xrQtAZoUmPx/MrL6qWTq+jPnrvu/QQr6U9ihAacZpP3AjG0C32+W9h0s5P0OLIz8rs/I/pjv7vm0mkD0jvMk/seNYP7kiIkCBivg9RO58PixAJ75EfUu/",
          "dtype": "f4"
         },
         "yaxis": "y"
        },
        {
         "customdata": [
          [
           "In a special sequence, each number is generated by the total number of letters when spelling the previous number in English. If the sequence begins with the number 4, what is the fifth number in the sequence?"
          ],
          [
           "In a certain sequence, each term after the first is obtained by multiplying the previous term by a certain number and then adding 1. If the first three terms of the sequence are 3, 10, and 31, what is the sixth term of the sequence?"
          ],
          [
           "You observe a sequence of operations on a number that is reduced by half in the first step, tripled in the second step, added by six in the third step, and finally decreased by four in the fourth step. If applying these operations in order on the initial number 100 creates a resulting number equal to the initial number, what will be the final number if you start with 50?"
          ],
          [
           "You're given a numeric sequence that appears random at first glance: 2, 12, 36, 80, 150, ____. To find the missing number, you must realize the hidden pattern. What number should replace the blank?"
          ],
          [
           "Consider a sequence where each term is the sum of the last three terms, with the first three terms being 1, 2, and 3. What is the 7th term of the sequence?"
          ],
          [
           "You come across an ancient wall with the following sequence of numbers engraved upon it: 2, 6, 12, 20, 30. Below the numbers, there is an inscription: 'To open the secret passage, add the correct stone number to continue the sequence'. There are four stones on the ground, each numbered with a different numeral: 42, 44, 48, 52. Which stone should you place to open the passage?"
          ],
          [
           "You are given a sequence of numbers where each number is the product of the previous two numbers minus the smallest prime factor of the previous number in the sequence. The sequence starts with 3 and 7. What is the fourth number in the sequence?"
          ],
          [
           "Imagine you are faced with a sequence of numbers where each number is the product of the sum of the digits of the previous number. If the sequence begins with '25', what is the 5th number in the sequence?"
          ],
          [
           "You come across a series of numbers that appear to have a pattern. The series is as follows: 2, 3, 5, 9, 17, ___. What is the number that should fill the blank?"
          ],
          [
           "In a unique sequence, every term after the first is generated by adding the two distinct prime numbers that are closest to the previous term (one smaller, one larger). If the sequence begins with 16, what is the fourth term?"
          ],
          [
           "You come across a curious series of numbers written on an ancient wall: 2, 6, 12, 20, 30, 42, 56, __? The series seems to follow a particular pattern. Can you determine the next number in the sequence?"
          ],
          [
           "Decipher the logic behind the following sequence of numbers and determine the next number in the sequence: 2, 3, 5, 9, 17, ... What is the next number?"
          ],
          [
           "You come across an ancient door with a sequence of numbers inscribed upon it: 2, 4, 8, 16, 32. Above it, a question is posed: 'Continue the sequence.' Four options are presented on stones beneath the door: 48, 64, 72, 96. Only by placing the stone with the correct number into the door's keyhole will it open. Which stone should you pick?"
          ],
          [
           "You are presented with a sequence of numbers that follow a specific logic: 2, 6, 12, 20, 30, 42, 56, 72, 90, ?. What is the next number in the sequence?"
          ],
          [
           "Consider the following sequence of numbers: 2, 3, 5, 7, 11. What is the next number in this sequence?"
          ],
          [
           "If the sequence follows the rule 'Add the previous two numbers to get the next number,' and starts with 2 and 3, what is the 6th number in the sequence?"
          ],
          [
           "If the following sequence of numbers follows a specific rule: 3, 5, 9, 17, 33, what would be the next number in the sequence?"
          ],
          [
           "You come across a sequence of numbers where each number represents the number of letters in the English spelling of the previous number starting at 1. What is the 5th number in the sequence? The sequence begins like this: 1, 3, 5, ..."
          ],
          [
           "In a peculiar sequence of numbers, each number is the sum of the 3 preceding numbers. The sequence starts with 2, 3, and 5. What is the 6th number in this sequence?"
          ],
          [
           "In a series of numbers, each number is the total number of letters needed to spell out the integers in English starting from one. The sequence starts with 3 (one), 3 (two), 5 (three), 4 (four), 4 (five), 3 (six), 5 (seven), 5 (eight), 4 (nine), 3 (ten), ... What is the next number in the sequence?"
          ],
          [
           "In the sequence below, what is the next number?\n4, 9, 16, 25, 36, ?"
          ],
          [
           "Within a sequence, every two consecutive natural numbers (starting with 1 and 2) are transformed into their sum and the result is then placed at the end of the sequence. This transform is repeated indefinitely: starting with [1, 2], the next number is 3 (1+2), making the sequence [1, 2, 3]. The next would be 2+3=5, making it [1, 2, 3, 5], and so on. If this sequence continues, what is the 10th number to be placed at the end of the sequence?"
          ],
          [
           "You encounter a sequence of numbers where each term after the first two is the sum of the previous two terms multiplied by the sum of their positional indices in the sequence. If the sequence begins with 2 and 3, what is the fifth term in the sequence?"
          ],
          [
           "You come across a sequence of numbers: 5, 10, 20, 40, 80, 160. What is the next number in the sequence?"
          ],
          [
           "Imagine you come across a strange device with buttons marked from 1 to 9. Each button, when pressed, results in the display of a number. The first four sequences you observe are as follows: Pressing 2, 4, 6 results in 12; pressing 3, 5, 7 results in 15; pressing 1, 2, 8 results in 11; and pressing 4, 5, 9 results in 18. You notice the display shows always the sum of two smallest numbers pressed. Now, if you press 1, 3, and 9, what number should the device display?"
          ],
          [
           "In a sequence, each number is obtained by adding together the digits of the previous number, and then adding 3. If the sequence begins with the number 23, what is the fifth number in the sequence?"
          ],
          [
           "In a sequence, each number is the product of the digits of the previous number plus the position in the sequence of that number (starting with 1). The first five numbers in the sequence are: 2, 4, 8, 64, 98. What is the sixth number in the sequence?"
          ],
          [
           "Imagine you find a sequence of numbers written on the board at school, which looks like this: 1, 4, 9, 16, 25, ... You notice the sequence follows a specific rule. Your teacher challenges you to determine the next two numbers in the sequence. Can you figure out what numbers they are?"
          ],
          [
           "A particular sequence follows the rule: B=1, C=2, E=5, H=10, M=20. What would be the next two letters and their corresponding values?"
          ],
          [
           "You find yourself in front of four doors, each with a sequence of numbers above it. Door A has the sequence '2, 3, 5, 7, 11', Door B has '1, 4, 9, 16, 25', Door C has '1, 1, 2, 3, 5' and Door D has '2, 4, 8, 16, 32'. To escape from the room, you must choose the door with the sequence that does not fit the pattern of the others. Which door should you choose?"
          ],
          [
           "In a sequence of numbers, every number is generated by adding the largest digit of the previous number to that number itself. If the sequence starts with 259, what is the fifth number in the series?"
          ],
          [
           "In the sequence 3, 8, 18, 38, 78, ___, what number should replace the blank?"
          ],
          [
           "You are given a sequence of numbers: 1, 2, 4, 7, 11, 16, and you need to find the next number in this sequence. Each number is an integer and there is a logical rule that governs the sequence. What is the next number?"
          ],
          [
           "A mysterious sequence of numbers is given: 4, 6, 12, 18, 30, 42, 60. What is the next number in this sequence?"
          ],
          [
           "You are given a sequence of numbers: 4, 9, 19, 39, 79. What is the next number in the sequence?"
          ],
          [
           "In a certain number sequence, each number is the product of the two preceding numbers minus the number that came before those. If the sequence starts with 2, 3, what are the next two numbers in the sequence?"
          ],
          [
           "A sequence follows a peculiar pattern: 16, 06, 68, 88, ?, 98. What number should replace the '?' in the sequence and why?"
          ],
          [
           "Alex is fascinated by sequences and finds a peculiar pattern in the sequence of numbers he writes on his notebook. The sequence starts with 1 and the subsequent numbers seem to be following a certain rule: 1, 11, 21, 1211, 111221, ... What would be the next number in Alex's sequence?"
          ],
          [
           "You are presented with a sequence of numbers that follow a certain logic: 3, 8, 17, 32. What would be the next number in the sequence?"
          ],
          [
           "You discover an ancient book with a series of glyphs that have a distinct pattern. Each sequence of glyphs seems to follow a rule: A2, B3, C5, D7, what comes next in the sequence?"
          ],
          [
           "In Ms. Lina's math class, the students notice that she has a peculiar way of writing sequences on the board. Today, she has written the following sequence: 2, 6, 12, 20, 30, __. She asks the class what the next number is and hints that the rule she's using is related to multiplication and addition. What is the next number?"
          ],
          [
           "Four numbers form a sequence: 4, 9, 25, 49. What is the next number in this sequence?"
          ],
          [
           "In a unique sequence, every term is structured as foo(n) = n^2 + n + 41 where n is a non-negative integer. What is the value of foo(10)?"
          ],
          [
           "If the sequence of numbers is 4, 9, 19, 34, 54, what is the next number in the sequence?"
          ],
          [
           "You are provided with a sequence of numbers: 3, 5, 9, 17, 33. Your goal is to determine the next number in this sequence. Each number in the sequence is related to its preceding numbers by a certain logic. Find the rule and apply it to determine the next number."
          ],
          [
           "You are given a sequence of numbers where each number represents an action. The actions are defined as follows: 1-Add 3, 2-Subtract 2, 3-Multiply by 5, and 4-Divide by 2. Starting with the number 10, follow the sequence of actions 2, 1, 3, 2, 4, 1. What is the result after performing all these actions in the given order?"
          ],
          [
           "Alice has created a sequence where each number is generated by adding the square of the number's position in the sequence (where the first position is 1, the second position is 2, and so on) to the previous number. If the sequence starts with 1, what is the 6th number in the sequence?"
          ],
          [
           "You are given a sequence of numbers where each number is the product of the previous two numbers minus the sum of the previous two numbers plus 2: 4, 5, 14, 58, ... What is the next number in the sequence?"
          ],
          [
           "Imagine a sequence where each term is the result of the multiplication of the sum of the digits of the previous term. The sequence starts with 289. What is the 4th term in the sequence?"
          ],
          [
           "In a certain number sequence, each number after the first follows a specific but simple rule based on its position and the preceding number. The sequence starts with 1 and the first six numbers are: 1, 2, 4, 7, 11, 16. What is the seventh number in the sequence?"
          ],
          [
           "Imagine a sequence that begins with the numbers 1, 11, 21, 1211, 111221. Each subsequent number is described by vocalizing the digits of the previous one. For example, the second number '11' is read as 'one one', which describes the first number, which is a single '1'. Similarly, the next number '21' is read as 'two ones'. What is the sixth number in the sequence?"
          ],
          [
           "A sequence of numbers goes as follows: 4, 9, 19, 39, 79. What is the next number in the sequence?"
          ],
          [
           "Imagine you encounter a series of numbers written on an ancient wall: 2, 6, 12, 20, 30, ... You notice a pattern in these numbers and deduce that each number is part of a sequence. To uncover the next number in the sequence, you must understand the underlying rule. Determine the next number in this sequence."
          ],
          [
           "In a certain numeric sequence, the second number is 3, the fourth is 15, and the eighth number is 63. Each number in the sequence is related to its position (n) with a specific rule. What is the fifth number in the sequence?"
          ],
          [
           "If the sequence of numbers is defined as follows: 1, 3, 6, 10, 15, ..., what will be the 10th number in the sequence?"
          ],
          [
           "Imagine you come across a strange device with a sequence of numbers on its display: 2, 4, 8, 32, 256. Each number seems to be related to the one before it. To unlock the device, you must enter the next number in the sequence. What number should you input?"
          ],
          [
           "Imagine you come across an ancient door with a numerical lock that consists of a sequence of numbers followed by a question mark. The sequence is as follows: 2, 6, 14, 30, ?, with the instruction that only those who enter the correct number that belongs where the question mark is can pass through. What number should you enter to unlock the door?"
          ],
          [
           "You are presented with a sequence of numbers: 2, 6, 12, 20, 30, ... You need to determine the next number in the sequence. Hint: Consider the relationship between the position of the number in the sequence and its value."
          ],
          [
           "You are presented with a sequence of numbers: 2, 4, 12, 48, 240. What is the next number in the sequence?"
          ],
          [
           "You come across a sequence that follows a specific pattern: JFMAMJJASON. By understanding the pattern, determine the next two characters in the sequence."
          ],
          [
           "You are given a sequence of numbers each representing the number of angles in a figure: \n3, 4, 5, 6, ?, 8\nWhat should the missing number be and why?"
          ],
          [
           "A sequence of numbers follows a particular rule: 8, 13, 20, 29, ?, 53. Find the missing number in the sequence."
          ]
         ],
         "hovertemplate": "<b>%{hovertext}</b><br><br>topic=Sequence solving<br>problem_statement=%{customdata[0]}<extra></extra>",
         "hovertext": [
          "Sequence solving",
          "Sequence solving",
          "Sequence solving",
          "Sequence solving",
          "Sequence solving",
          "Sequence solving",
          "Sequence solving",
          "Sequence solving",
          "Sequence solving",
          "Sequence solving",
          "Sequence solving",
          "Sequence solving",
          "Sequence solving",
          "Sequence solving",
          "Sequence solving",
          "Sequence solving",
          "Sequence solving",
          "Sequence solving",
          "Sequence solving",
          "Sequence solving",
          "Sequence solving",
          "Sequence solving",
          "Sequence solving",
          "Sequence solving",
          "Sequence solving",
          "Sequence solving",
          "Sequence solving",
          "Sequence solving",
          "Sequence solving",
          "Sequence solving",
          "Sequence solving",
          "Sequence solving",
          "Sequence solving",
          "Sequence solving",
          "Sequence solving",
          "Sequence solving",
          "Sequence solving",
          "Sequence solving",
          "Sequence solving",
          "Sequence solving",
          "Sequence solving",
          "Sequence solving",
          "Sequence solving",
          "Sequence solving",
          "Sequence solving",
          "Sequence solving",
          "Sequence solving",
          "Sequence solving",
          "Sequence solving",
          "Sequence solving",
          "Sequence solving",
          "Sequence solving",
          "Sequence solving",
          "Sequence solving",
          "Sequence solving",
          "Sequence solving",
          "Sequence solving",
          "Sequence solving",
          "Sequence solving",
          "Sequence solving",
          "Sequence solving",
          "Sequence solving"
         ],
         "legendgroup": "Sequence solving",
         "marker": {
          "color": "#FFA15A",
          "symbol": "circle"
         },
         "mode": "markers",
         "name": "Sequence solving",
         "orientation": "v",
         "showlegend": true,
         "textposition": "top center",
         "type": "scatter",
         "x": {
          "bdata": "/630QAIHAkEB9vlAIEfqQGwLAUGZ8RBABDQBQbahAEGAmehA7zABQdEv4UAvFO9AkRT5PwNO8UDcyvNAWWPzQNEU8UAry/hA1v7/QCrn9EAc6/pAPcL1QLub/0AdYPhA3QbTQPmxAEG/a/tAq93kQEz150Cfoow/hSL9QFFc50BsofBAl+/zQFSp+UCTrP9AUKnqQOz160AoW/FAWWvjQEN95ECkxvxAc7oAQXg5/UCLzepAvNj5QJq68ECVnwFBMloDQYIz8kBVQ+9AQqz6QOaY4ECuwfVAU9X4QLd8zUDhagZAEhjvQPxr8UAJ9uJA6N/jQGdL5kA=",
          "dtype": "f4"
         },
         "xaxis": "x",
         "y": {
          "bdata": "B+GLwDQUh8BDLILAqFhawHE4hsBvvp+/dIB1wM8hh8ASflvAucVxwGxJf8BjZlnA4/Kav7YNWcBAwXLAq/WJwDqibMAxu4/AvaiOwAgHjcBfe1/AiBZ9wPU+i8CvIFzAfTV0wHcMi8DkYojAeiJ0wEJjh8DzxpK/0WaOwHcpUcCaT2vAdKFXwIyfWMBvSHrAu9dXwLsjgMAu01bAcyGDwPjQfcBMGlfAexVTwK4LVMBFxmXAbVqDwNuJhcARym7AD6Z8wGTMhcBxEY7ADPlUwIgce8CDkofA6Zt+wDCKcsDdIa+/QDlhwHRSW8BI04LA8A5kwCr+bcA=",
          "dtype": "f4"
         },
         "yaxis": "y"
        },
        {
         "customdata": [
          [
           "A woman shoots her husband. Then she holds him underwater for over 5 minutes. Finally, she hangs him. But 10 minutes later they both go out and enjoy a wonderful dinner together. How can this be?"
          ],
          [
           "Alice, Bob, and Charlie went out for lunch. They decided to split the bill evenly. After paying, they realized that the waiter gave them a discount for an arbitrary amount, which they had not noticed. To celebrate, they decided to give the waiter the same amount as a tip. Alice then commented that if she alone paid for the bill now, she would have spent the same amount as the discounted price for the entire meal. How much was the original bill if neither Alice, Bob, nor Charlie likes to carry coins and always pays exact amounts in whole dollars?"
          ],
          [
           "Mr. Black, Mr. Blue, Mr. Red, and Mr. Green were all at a business meeting. Each man was wearing a tie that matched their last name (for example, Mr. Black wore a black tie). After the meeting concluded, it was observed that none of the men were wearing a tie that matched their own last name. If Mr. Black was not wearing a blue or red tie, and Mr. Red was not wearing a green tie, what color tie was Mr. Green wearing?"
          ],
          [
           "There was once a man who lived in a small village. Everyone in the village knew that the man had the mysterious power to predict the exact percentage of rain for any given day. One day, a villager approached him, asking for the chance of rain tomorrow, hoping to plan his work. The man responded with a phrase: 'The chance of tomorrow's rain is directly related to the sounds of the night. If you hear one, there's a fifty percent chance. If you hear two, a hundred percent certainty. If you hear none, the skies will be clear.' The villager pondered the answer and knew exactly what the man referred to. What was the man's key to predicting the rain?"
          ],
          [
           "Emily, Zoe, and Liam are siblings. On a windy Sunday, they decide to play with paper planes. Each one of them makes one paper plane. One plane flies 15 meters, the other 10 meters, and the last flies 5 meters. All planes land in different spots. Liam's plane lands right at the base of the maple tree, while Zoe's plane, the most colorful one, lands on top of the old wooden fence. The plane which flew the shortest distance landed in the bushes. Which sibling's plane flew 15 meters?"
          ],
          [
           "A man pushed his car to a hotel and lost his fortune. What happened?"
          ],
          [
           "A man goes to bed, and he turns off the light causing lots of people to panic. Where is the man, and why did turning off the light cause panic?"
          ],
          [
           "You have 12 coins and a balance scale. However, 11 coins are identical, and one coin is slightly heavier than the rest. Using the balance scale only three times, determine which coin is the heavier one."
          ],
          [
           "A woman lives on the 10th floor of a building. Every day she takes the elevator to go down to the ground floor to go to work or to go shopping. When she returns she takes the elevator to the 7th floor and walks the rest of the way up to her apartment on the 10th floor. She hates walking so why does she do it?"
          ],
          [
           "A man is found dead on a Sunday morning. His wife calls the police immediately. The police question everyone in the house. The wife says she was sleeping, the butler says he was cleaning the car, the gardener says he was planting seeds, and the chef says he was preparing breakfast. The police immediately arrest the murderer. Who did it and how did the police know?"
          ],
          [
           "Imagine you're in a dark room that's completely empty, with no windows or doors. All you have with you is a piece of rope and a pencil. How can you escape this room?"
          ],
          [
           "Two siblings are born on the same day of the same year to the same mother and father, yet they are not twins. How is this possible?"
          ],
          [
           "A man is able to carry an elephant, but he cannot hold a feather. How is this possible?"
          ],
          [
           "Eva, Bruno, Clara, and David are standing in a circle, facing the center. They are positioned in that order clock-wise. They each have a hat on their head which could be either white or black, but they cannot see their own hat. They know that there are two hats of each color. They can see the hats of the two people beside them but not the person directly across. There are no reflections or ways to see their own hat or the hat across. Starting with Eva and going clock-wise, they will each guess their hat color or pass. The rules are such that at least one person has to guess, and you win only by guessing correctly. Assuming they all make the most logical decision, what should the first person do to maximize the chance for the group to win?"
          ],
          [
           "Imagine you are in a room with no windows and only one door. The door is locked and you don't have the key. In the room, there is a table and a mirror. How can you escape?"
          ],
          [
           "A man stands on one side of a river, his dog on the other. The man calls his dog, who immediately crossed the river without getting wet and without using a bridge or a boat. How did the dog do it?"
          ],
          [
           "As an avid gardener, Emma loves growing berries in her garden. Every season, she plants exactly 4 types of berries: strawberries, blueberries, raspberries, and blackberries. One day, Emma noticed an interesting pattern. Whenever she plants strawberries and raspberries together, slugs attack her garden. However, if she plants blueberries and blackberries together without strawberries, she never has a slug problem. If she plants all four types of berries, she ends up with slugs in her garden as well. Using this information, can you figure out which type of berry attracts slugs to Emma's garden?"
          ],
          [
           "In a mystical library, there exists a special book that can answer any question written within its pages. The librarian, knowing the book's power, allows only one question per person, under the condition that the question must not directly reveal the future. A patron of the library walks in, craving to know their own future success but understands the rule. What single question does the patron write in the book to indirectly discover if they will be successful in life?"
          ],
          [
           "Jennifer looked at the clock and sighed. It was an important day and everything had to be perfect. She triple-checked the items in her bag: her smartphone, a novel, a notepad, a single earring, and a broken pencil. She wasn't going to write anything, nor was she planning to fix the pencil. She then left home making sure she had everything for her destination. Why did she pack these items?"
          ],
          [
           "A man buys a new car and goes home. He turns off the lights and goes to sleep. The next morning he looks at his car and knows immediately that something is wrong. What is wrong and how does he know?"
          ],
          [
           "A man went outside in the rain with no protection, but not a single hair on his head got wet. How is this possible?"
          ],
          [
           "Three people enter a room and have a blue or red hat placed on their heads. They are told that at least one of them is wearing a blue hat. The first person looks at the other two and says, 'I cannot tell the color of my hat.' The second person looks at the other two and also says, 'I cannot tell the color of my hat.' The third person, without looking at the other two, then speaks up and says, 'I know the color of my hat.' What color is the third person's hat and how do they know?"
          ],
          [
           "John and Mary have the same parents but they are not siblings. How is this possible?"
          ],
          [
           "You are asleep and you hear a knock on the door. It's your parents, who came to have breakfast. You have strawberry jam, honey, wine, bread, and cheese. What is the first thing you open?"
          ],
          [
           "Alex, Ben, and Charles each own a unique color hat among red, blue, and green. They are sitting in a row, one behind the other, where Alex is in front and can't see the others, Ben is in the middle and can see Alex, while Charles is at the end and can see both Alex and Ben. They are told that a total of two hats out of their three are red and the other is blue. They need to guess the color of their own hat, but if they guess, it must be correct as wrong guesses are not allowed. Starting with Charles, none of them can hear the others' answers or know if others have guessed. Charles starts and says he doesn’t know his own hat color. Ben hears this, thinks for a moment, and also says that he doesn’t know his own hat color. Finally, Alex confidently declares the color of his hat. What color is Alex's hat and how did he deduce it?"
          ],
          [
           "Eva, Luna, and Zara decide to have a competition with their freshly baked pies. They each bake a pie and place them on the table. The pies are cherry, apple, and blueberry. Eva doesn't like cherries, Luna made an apple pie, and Zara is allergic to blueberries. Based on this information, can you deduce who baked which pie?"
          ],
          [
           "Laura, Marcus, and Nora have been captured by a notorious pirate, who has decided to give them a chance for freedom. The pirate blindfolds them and tells them that he will place a hat on each of their heads. Each hat is either black or white, and there are at least two hats of each color. They will stand in a line, one behind the other, facing forward, so that Laura can see both Marcus and Nora, Marcus can only see Nora, and Nora can't see anyone. When the blindfolds are removed, they can't speak to or signal each other, and they can't look at their own hats. They must guess the color of their own hat starting with Laura, then Marcus, and then Nora. If at least one of them guesses correctly, they will all go free. The pirate also tells them that he will place the hats while they are still blindfolded and that they will have some time to strategize before he does so. What strategy should they use to maximize their chances of freedom?"
          ],
          [
           "A man is found hanging in a room with a puddle of water under his feet. The room has no windows and the only door was locked from the inside. The man was standing on a block of ice to hang himself. How did the man manage to hang himself?"
          ],
          [
           "There is one word in the English language that is always pronounced incorrectly. What is it?"
          ],
          [
           "A man is found hanging in a room with a puddle of water under his feet and nothing else in the room but a saw. The room has only one door and it is locked from the inside. The man left no message and there's no trace of a struggle. How did the man hang himself?"
          ],
          [
           "A woman is sitting in her hotel room when there is a knock at the door. She opened the door to see a man whom she had never seen before. He said 'oh I'm sorry, I have made a mistake, I thought this was my room.' He then went down the corridor and in the elevator. The woman went back into her room and phoned security. What made the woman so suspicious of the man?"
          ],
          [
           "Mark is looking at Paul, but Paul is looking at Peter. Mark is married but Peter is not. Is a married person looking at an unmarried person?"
          ],
          [
           "A man is found dead in a field. He is clutching a piece of straw. There is no other clue visible on the spot. What happened?"
          ],
          [
           "Two siblings, Alex and Taylor, are born on the exact same day of the same month but they are not twins. How is that possible?"
          ],
          [
           "There's a cabin on the side of a mountain which has become infamous as 'The Cabin of Passages,' rumored to have the power of teleportation. Many who have gone in have never been seen again. A group of four adventurous friends decide to visit this cabin. As they step inside, they notice there are no unusual objects—just an old wooden table with a candle, two chairs, a mirror hanging on a wall and a small wooden owl statue. After some time, they all walk out of the cabin safely without any supernatural occurrence. What did the friends do differently than those who disappeared?"
          ]
         ],
         "hovertemplate": "<b>%{hovertext}</b><br><br>topic=Lateral thinking<br>problem_statement=%{customdata[0]}<extra></extra>",
         "hovertext": [
          "Lateral thinking",
          "Lateral thinking",
          "Lateral thinking",
          "Lateral thinking",
          "Lateral thinking",
          "Lateral thinking",
          "Lateral thinking",
          "Lateral thinking",
          "Lateral thinking",
          "Lateral thinking",
          "Lateral thinking",
          "Lateral thinking",
          "Lateral thinking",
          "Lateral thinking",
          "Lateral thinking",
          "Lateral thinking",
          "Lateral thinking",
          "Lateral thinking",
          "Lateral thinking",
          "Lateral thinking",
          "Lateral thinking",
          "Lateral thinking",
          "Lateral thinking",
          "Lateral thinking",
          "Lateral thinking",
          "Lateral thinking",
          "Lateral thinking",
          "Lateral thinking",
          "Lateral thinking",
          "Lateral thinking",
          "Lateral thinking",
          "Lateral thinking",
          "Lateral thinking",
          "Lateral thinking",
          "Lateral thinking"
         ],
         "legendgroup": "Lateral thinking",
         "marker": {
          "color": "#19d3f3",
          "symbol": "circle"
         },
         "mode": "markers",
         "name": "Lateral thinking",
         "orientation": "v",
         "showlegend": true,
         "textposition": "top center",
         "type": "scatter",
         "x": {
          "bdata": "0EsGQKvmzb9KDxI/wNcfQIcIFb9AcxVAfAsgQALtzb9/G4o/+kYJQOhO6j96c5w/H1EfQKji+z5cA9I/S5AcQD6PYD7AUck/uw3pP5uiDkArLhxAcdwAPyCImT9l/9M/2gjnPhtj8j5dtvs+ZpMXQBHFGUCrORJALFQMQBivmD/vtxVATDSYPyEB/D8=",
          "dtype": "f4"
         },
         "xaxis": "x",
         "y": {
          "bdata": "UwUaP9cN7T+Grcc+403EPuxx5T3Qfy8/E+gXPz5ovD9aQ2e/KoQ4P/jCIL8k6Tw/FZKhPrB7AT+F2lu/8TEYP4Zl5r6EM7G+CFOkPiQ1Pj9YC/I+U/8GPyf3LT/Lqli9oXz+Pp5Lm70unQg/Yt4CP2kzrb7HghE/CIonP8SP7D5Etwc/gNs4P8mAzj0=",
          "dtype": "f4"
         },
         "yaxis": "y"
        },
        {
         "customdata": [
          [
           "A logician is presented with two boxes: Box A and Box B. One box contains a gold coin and the other box contains a silver coin, but the logician does not know which is which. There is a statement written on each box. Box A has a statement reading 'The gold coin is in this box.' Box B has a statement reading 'The gold coin is not in this box.' The logician knows that one statement is true and the other is false. Which box contains the gold coin?"
          ],
          [
           "Suppose you're in a room with two doors. One door leads to certain death and the other leads to freedom. You don't know which is which. In the room with you are two individuals: one who always tells the truth and one who always lies, but you don't know who is who. You can ask one question to one of the individuals to determine the door to freedom. However, the logic puzzle trap here is that you might be assuming both doors are different and the individuals have prior knowledge of which door leads where. What question do you ask, keeping in mind the possibility of the logical trap?"
          ],
          [
           "A group of four friends—Alice, Bob, Charlie, and Dana—are discussing their favorite fruits. One of them loves apples, another one loves bananas, the third loves cherries, and the fourth loves dates. They make the following statements: Alice: 'I do not like dates, and the person who likes bananas is taller than I am.' Bob: 'I am taller than Dana, and I do not like cherries.' Charlie: 'The person who likes dates is shorter than I am.' Dana: 'I am not the tallest one, and I do not like bananas.' Only one of the friends is lying about their preferences, and the statement about their own height is true. Who is lying about their fruit preference, and what is the correct fruit preference order for Alice, Bob, Charlie, and Dana?"
          ],
          [
           "In a game involving three closed boxes, Box A contains a gold bar, Box B is empty, and Box C contains a silver bar. Each box has a statement written on it:\\nBox A: 'The gold is in this box.'\\nBox B: 'The box with the gold is to the left of the box with the silver.'\\nBox C: 'The gold is not in this box.'\\nIf only one of these statements is true, which box contains the gold?"
          ],
          [
           "You have two jars with 50 white beans and 50 black beans, respectively. In a dark room where you cannot see the colors of the beans, you are allowed to redistribute the beans as you like, as long as all the beans are in the jars at the end. Once you exit the room, you must draw a bean from a jar of your choosing with the aim to maximize the probability of drawing a white bean. How should you redistribute the beans and which jar should you draw from to maximize the chance of drawing a white bean?"
          ],
          [
           "Alice, Bob, and Charlie are three siblings. Alice says, 'At least one of us is a liar.' Bob says, 'Exactly two of us are liars.' Charlie states, 'All three of us are liars.' Assuming that liars always lie and those who tell the truth always tell the truth, how many of them are lying?"
          ],
          [
           "You are given two sealed boxes, each containing an identical set up: 50 cards, 25 of which are red and 25 of which are blue. Box A has the red and blue cards shuffled randomly, while Box B has a perfect alternating pattern (red, blue, red, blue, etc.). If you are allowed to draw one card at a time from either box without looking and are tasked with choosing a box that will maximize your chances of drawing two cards of the same color consecutively, which box should you choose and why?"
          ],
          [
           "In a village, there are two types of inhabitants: Truth-tellers, who always tell the truth, and Liars, who always lie. You encounter three inhabitants standing in a group. Their names are Anne, Bob, and Charlie. Anne tells you, 'Bob always lies.' Bob says, 'That's true, I always lie.' Charlie claims, 'One of us is a truth-teller and the other two are liars.' Who is the truth-teller among them?"
          ],
          [
           "A logician visits an island where all inhabitants are either knights, who always tell the truth, or knaves, who always lie. The logician meets three inhabitants: Alice, Bob, and Charles. Alice says, 'Bob is a knave.' Bob says, 'Alice and Charles are of the same type.' Charles says, 'Alice is a knight.' Can you determine who is a knight and who is a knave?"
          ],
          [
           "You are presented with two doors. One leads to certain escape, while the other leads to an infinite maze of puzzles. Each door is guarded by a sentinel. One sentinel always tells the truth, and the other always lies. You are allowed to ask a single yes-or-no question to just one sentinel to figure out which door leads to escape. What yes-or-no question do you ask to ensure you pick the escape door?"
          ],
          [
           "A bottle and a cork together cost $1.10. The bottle costs $1 more than the cork. How much does the cork cost?"
          ],
          [
           "Alice, Bob, and Charlie are participants in a game show. The host shows them five hats: three red and two blue. Each participant is blindfolded and has one hat placed on their head; the remaining hats are hidden. They can't see their own hat, but they can see the hats of the other two participants. The first to correctly announce the color of their own hat wins a prize. Alice sees that Bob and Charlie have red hats. Bob sees that Alice and Charlie have red hats. Charlie sees that Alice and Bob have red hats. They all deduce logically and do not guess. Alice says she doesn't know the color of her hat. Bob also says he doesn't know the color of his hat. Charlie then announces the color of his hat. What color is Charlie's hat, and what is the logical explanation?"
          ],
          [
           "You are presented with two doors, each guarded by a doorkeeper. One door leads to a treasure room, while the other leads to a room filled with traps. One doorkeeper always tells the truth, and the other always lies. You can ask one question to one of the doorkeepers to figure out which door is the safe one, but you don't know which doorkeeper is the liar or the truth-teller. What single question can you ask to safely choose the treasure room?"
          ]
         ],
         "hovertemplate": "<b>%{hovertext}</b><br><br>topic=Logical traps<br>problem_statement=%{customdata[0]}<extra></extra>",
         "hovertext": [
          "Logical traps",
          "Logical traps",
          "Logical traps",
          "Logical traps",
          "Logical traps",
          "Logical traps",
          "Logical traps",
          "Logical traps",
          "Logical traps",
          "Logical traps",
          "Logical traps",
          "Logical traps",
          "Logical traps"
         ],
         "legendgroup": "Logical traps",
         "marker": {
          "color": "#FF6692",
          "symbol": "circle"
         },
         "mode": "markers",
         "name": "Logical traps",
         "orientation": "v",
         "showlegend": true,
         "textposition": "top center",
         "type": "scatter",
         "x": {
          "bdata": "VG1BPzbhoj/v8AM/R901Ppb44r45e20/VOrEvgNyez/elVc/rU6mP4ru2r/kag0/iSelPw==",
          "dtype": "f4"
         },
         "xaxis": "x",
         "y": {
          "bdata": "X642PTM8yr6Ap4K9CQcBvUxPmb2O6rY+v6izvWU+mT25mgg+BhcWv4PP+D9jqr0+tIESvw==",
          "dtype": "f4"
         },
         "yaxis": "y"
        }
       ],
       "layout": {
        "height": 800,
        "legend": {
         "title": {
          "text": "topic"
         },
         "tracegroupgap": 0
        },
        "template": {
         "data": {
          "bar": [
           {
            "error_x": {
             "color": "#2a3f5f"
            },
            "error_y": {
             "color": "#2a3f5f"
            },
            "marker": {
             "line": {
              "color": "#E5ECF6",
              "width": 0.5
             },
             "pattern": {
              "fillmode": "overlay",
              "size": 10,
              "solidity": 0.2
             }
            },
            "type": "bar"
           }
          ],
          "barpolar": [
           {
            "marker": {
             "line": {
              "color": "#E5ECF6",
              "width": 0.5
             },
             "pattern": {
              "fillmode": "overlay",
              "size": 10,
              "solidity": 0.2
             }
            },
            "type": "barpolar"
           }
          ],
          "carpet": [
           {
            "aaxis": {
             "endlinecolor": "#2a3f5f",
             "gridcolor": "white",
             "linecolor": "white",
             "minorgridcolor": "white",
             "startlinecolor": "#2a3f5f"
            },
            "baxis": {
             "endlinecolor": "#2a3f5f",
             "gridcolor": "white",
             "linecolor": "white",
             "minorgridcolor": "white",
             "startlinecolor": "#2a3f5f"
            },
            "type": "carpet"
           }
          ],
          "choropleth": [
           {
            "colorbar": {
             "outlinewidth": 0,
             "ticks": ""
            },
            "type": "choropleth"
           }
          ],
          "contour": [
           {
            "colorbar": {
             "outlinewidth": 0,
             "ticks": ""
            },
            "colorscale": [
             [
              0,
              "#0d0887"
             ],
             [
              0.1111111111111111,
              "#46039f"
             ],
             [
              0.2222222222222222,
              "#7201a8"
             ],
             [
              0.3333333333333333,
              "#9c179e"
             ],
             [
              0.4444444444444444,
              "#bd3786"
             ],
             [
              0.5555555555555556,
              "#d8576b"
             ],
             [
              0.6666666666666666,
              "#ed7953"
             ],
             [
              0.7777777777777778,
              "#fb9f3a"
             ],
             [
              0.8888888888888888,
              "#fdca26"
             ],
             [
              1,
              "#f0f921"
             ]
            ],
            "type": "contour"
           }
          ],
          "contourcarpet": [
           {
            "colorbar": {
             "outlinewidth": 0,
             "ticks": ""
            },
            "type": "contourcarpet"
           }
          ],
          "heatmap": [
           {
            "colorbar": {
             "outlinewidth": 0,
             "ticks": ""
            },
            "colorscale": [
             [
              0,
              "#0d0887"
             ],
             [
              0.1111111111111111,
              "#46039f"
             ],
             [
              0.2222222222222222,
              "#7201a8"
             ],
             [
              0.3333333333333333,
              "#9c179e"
             ],
             [
              0.4444444444444444,
              "#bd3786"
             ],
             [
              0.5555555555555556,
              "#d8576b"
             ],
             [
              0.6666666666666666,
              "#ed7953"
             ],
             [
              0.7777777777777778,
              "#fb9f3a"
             ],
             [
              0.8888888888888888,
              "#fdca26"
             ],
             [
              1,
              "#f0f921"
             ]
            ],
            "type": "heatmap"
           }
          ],
          "histogram": [
           {
            "marker": {
             "pattern": {
              "fillmode": "overlay",
              "size": 10,
              "solidity": 0.2
             }
            },
            "type": "histogram"
           }
          ],
          "histogram2d": [
           {
            "colorbar": {
             "outlinewidth": 0,
             "ticks": ""
            },
            "colorscale": [
             [
              0,
              "#0d0887"
             ],
             [
              0.1111111111111111,
              "#46039f"
             ],
             [
              0.2222222222222222,
              "#7201a8"
             ],
             [
              0.3333333333333333,
              "#9c179e"
             ],
             [
              0.4444444444444444,
              "#bd3786"
             ],
             [
              0.5555555555555556,
              "#d8576b"
             ],
             [
              0.6666666666666666,
              "#ed7953"
             ],
             [
              0.7777777777777778,
              "#fb9f3a"
             ],
             [
              0.8888888888888888,
              "#fdca26"
             ],
             [
              1,
              "#f0f921"
             ]
            ],
            "type": "histogram2d"
           }
          ],
          "histogram2dcontour": [
           {
            "colorbar": {
             "outlinewidth": 0,
             "ticks": ""
            },
            "colorscale": [
             [
              0,
              "#0d0887"
             ],
             [
              0.1111111111111111,
              "#46039f"
             ],
             [
              0.2222222222222222,
              "#7201a8"
             ],
             [
              0.3333333333333333,
              "#9c179e"
             ],
             [
              0.4444444444444444,
              "#bd3786"
             ],
             [
              0.5555555555555556,
              "#d8576b"
             ],
             [
              0.6666666666666666,
              "#ed7953"
             ],
             [
              0.7777777777777778,
              "#fb9f3a"
             ],
             [
              0.8888888888888888,
              "#fdca26"
             ],
             [
              1,
              "#f0f921"
             ]
            ],
            "type": "histogram2dcontour"
           }
          ],
          "mesh3d": [
           {
            "colorbar": {
             "outlinewidth": 0,
             "ticks": ""
            },
            "type": "mesh3d"
           }
          ],
          "parcoords": [
           {
            "line": {
             "colorbar": {
              "outlinewidth": 0,
              "ticks": ""
             }
            },
            "type": "parcoords"
           }
          ],
          "pie": [
           {
            "automargin": true,
            "type": "pie"
           }
          ],
          "scatter": [
           {
            "fillpattern": {
             "fillmode": "overlay",
             "size": 10,
             "solidity": 0.2
            },
            "type": "scatter"
           }
          ],
          "scatter3d": [
           {
            "line": {
             "colorbar": {
              "outlinewidth": 0,
              "ticks": ""
             }
            },
            "marker": {
             "colorbar": {
              "outlinewidth": 0,
              "ticks": ""
             }
            },
            "type": "scatter3d"
           }
          ],
          "scattercarpet": [
           {
            "marker": {
             "colorbar": {
              "outlinewidth": 0,
              "ticks": ""
             }
            },
            "type": "scattercarpet"
           }
          ],
          "scattergeo": [
           {
            "marker": {
             "colorbar": {
              "outlinewidth": 0,
              "ticks": ""
             }
            },
            "type": "scattergeo"
           }
          ],
          "scattergl": [
           {
            "marker": {
             "colorbar": {
              "outlinewidth": 0,
              "ticks": ""
             }
            },
            "type": "scattergl"
           }
          ],
          "scattermap": [
           {
            "marker": {
             "colorbar": {
              "outlinewidth": 0,
              "ticks": ""
             }
            },
            "type": "scattermap"
           }
          ],
          "scattermapbox": [
           {
            "marker": {
             "colorbar": {
              "outlinewidth": 0,
              "ticks": ""
             }
            },
            "type": "scattermapbox"
           }
          ],
          "scatterpolar": [
           {
            "marker": {
             "colorbar": {
              "outlinewidth": 0,
              "ticks": ""
             }
            },
            "type": "scatterpolar"
           }
          ],
          "scatterpolargl": [
           {
            "marker": {
             "colorbar": {
              "outlinewidth": 0,
              "ticks": ""
             }
            },
            "type": "scatterpolargl"
           }
          ],
          "scatterternary": [
           {
            "marker": {
             "colorbar": {
              "outlinewidth": 0,
              "ticks": ""
             }
            },
            "type": "scatterternary"
           }
          ],
          "surface": [
           {
            "colorbar": {
             "outlinewidth": 0,
             "ticks": ""
            },
            "colorscale": [
             [
              0,
              "#0d0887"
             ],
             [
              0.1111111111111111,
              "#46039f"
             ],
             [
              0.2222222222222222,
              "#7201a8"
             ],
             [
              0.3333333333333333,
              "#9c179e"
             ],
             [
              0.4444444444444444,
              "#bd3786"
             ],
             [
              0.5555555555555556,
              "#d8576b"
             ],
             [
              0.6666666666666666,
              "#ed7953"
             ],
             [
              0.7777777777777778,
              "#fb9f3a"
             ],
             [
              0.8888888888888888,
              "#fdca26"
             ],
             [
              1,
              "#f0f921"
             ]
            ],
            "type": "surface"
           }
          ],
          "table": [
           {
            "cells": {
             "fill": {
              "color": "#EBF0F8"
             },
             "line": {
              "color": "white"
             }
            },
            "header": {
             "fill": {
              "color": "#C8D4E3"
             },
             "line": {
              "color": "white"
             }
            },
            "type": "table"
           }
          ]
         },
         "layout": {
          "annotationdefaults": {
           "arrowcolor": "#2a3f5f",
           "arrowhead": 0,
           "arrowwidth": 1
          },
          "autotypenumbers": "strict",
          "coloraxis": {
           "colorbar": {
            "outlinewidth": 0,
            "ticks": ""
           }
          },
          "colorscale": {
           "diverging": [
            [
             0,
             "#8e0152"
            ],
            [
             0.1,
             "#c51b7d"
            ],
            [
             0.2,
             "#de77ae"
            ],
            [
             0.3,
             "#f1b6da"
            ],
            [
             0.4,
             "#fde0ef"
            ],
            [
             0.5,
             "#f7f7f7"
            ],
            [
             0.6,
             "#e6f5d0"
            ],
            [
             0.7,
             "#b8e186"
            ],
            [
             0.8,
             "#7fbc41"
            ],
            [
             0.9,
             "#4d9221"
            ],
            [
             1,
             "#276419"
            ]
           ],
           "sequential": [
            [
             0,
             "#0d0887"
            ],
            [
             0.1111111111111111,
             "#46039f"
            ],
            [
             0.2222222222222222,
             "#7201a8"
            ],
            [
             0.3333333333333333,
             "#9c179e"
            ],
            [
             0.4444444444444444,
             "#bd3786"
            ],
            [
             0.5555555555555556,
             "#d8576b"
            ],
            [
             0.6666666666666666,
             "#ed7953"
            ],
            [
             0.7777777777777778,
             "#fb9f3a"
            ],
            [
             0.8888888888888888,
             "#fdca26"
            ],
            [
             1,
             "#f0f921"
            ]
           ],
           "sequentialminus": [
            [
             0,
             "#0d0887"
            ],
            [
             0.1111111111111111,
             "#46039f"
            ],
            [
             0.2222222222222222,
             "#7201a8"
            ],
            [
             0.3333333333333333,
             "#9c179e"
            ],
            [
             0.4444444444444444,
             "#bd3786"
            ],
            [
             0.5555555555555556,
             "#d8576b"
            ],
            [
             0.6666666666666666,
             "#ed7953"
            ],
            [
             0.7777777777777778,
             "#fb9f3a"
            ],
            [
             0.8888888888888888,
             "#fdca26"
            ],
            [
             1,
             "#f0f921"
            ]
           ]
          },
          "colorway": [
           "#636efa",
           "#EF553B",
           "#00cc96",
           "#ab63fa",
           "#FFA15A",
           "#19d3f3",
           "#FF6692",
           "#B6E880",
           "#FF97FF",
           "#FECB52"
          ],
          "font": {
           "color": "#2a3f5f"
          },
          "geo": {
           "bgcolor": "white",
           "lakecolor": "white",
           "landcolor": "#E5ECF6",
           "showlakes": true,
           "showland": true,
           "subunitcolor": "white"
          },
          "hoverlabel": {
           "align": "left"
          },
          "hovermode": "closest",
          "mapbox": {
           "style": "light"
          },
          "paper_bgcolor": "white",
          "plot_bgcolor": "#E5ECF6",
          "polar": {
           "angularaxis": {
            "gridcolor": "white",
            "linecolor": "white",
            "ticks": ""
           },
           "bgcolor": "#E5ECF6",
           "radialaxis": {
            "gridcolor": "white",
            "linecolor": "white",
            "ticks": ""
           }
          },
          "scene": {
           "xaxis": {
            "backgroundcolor": "#E5ECF6",
            "gridcolor": "white",
            "gridwidth": 2,
            "linecolor": "white",
            "showbackground": true,
            "ticks": "",
            "zerolinecolor": "white"
           },
           "yaxis": {
            "backgroundcolor": "#E5ECF6",
            "gridcolor": "white",
            "gridwidth": 2,
            "linecolor": "white",
            "showbackground": true,
            "ticks": "",
            "zerolinecolor": "white"
           },
           "zaxis": {
            "backgroundcolor": "#E5ECF6",
            "gridcolor": "white",
            "gridwidth": 2,
            "linecolor": "white",
            "showbackground": true,
            "ticks": "",
            "zerolinecolor": "white"
           }
          },
          "shapedefaults": {
           "line": {
            "color": "#2a3f5f"
           }
          },
          "ternary": {
           "aaxis": {
            "gridcolor": "white",
            "linecolor": "white",
            "ticks": ""
           },
           "baxis": {
            "gridcolor": "white",
            "linecolor": "white",
            "ticks": ""
           },
           "bgcolor": "#E5ECF6",
           "caxis": {
            "gridcolor": "white",
            "linecolor": "white",
            "ticks": ""
           }
          },
          "title": {
           "x": 0.05
          },
          "xaxis": {
           "automargin": true,
           "gridcolor": "white",
           "linecolor": "white",
           "ticks": "",
           "title": {
            "standoff": 15
           },
           "zerolinecolor": "white",
           "zerolinewidth": 2
          },
          "yaxis": {
           "automargin": true,
           "gridcolor": "white",
           "linecolor": "white",
           "ticks": "",
           "title": {
            "standoff": 15
           },
           "zerolinecolor": "white",
           "zerolinewidth": 2
          }
         }
        },
        "title": {
         "text": "Interactive UMAP Projection of Problem Statement Embeddings"
        },
        "xaxis": {
         "anchor": "y",
         "domain": [
          0,
          1
         ],
         "title": {
          "text": "umap_x"
         }
        },
        "yaxis": {
         "anchor": "x",
         "domain": [
          0,
          1
         ],
         "title": {
          "text": "umap_y"
         }
        }
       }
      }
     },
     "metadata": {},
     "output_type": "display_data"
    }
   ],
   "source": [
    "fig = px.scatter(\n",
    "    df,\n",
    "    x='umap_x',\n",
    "    y='umap_y',\n",
    "    color='topic',\n",
    "    hover_name='topic',\n",
    "    hover_data={'problem_statement': True, 'umap_x': False, 'umap_y': False},\n",
    "    title='Interactive UMAP Projection of Problem Statement Embeddings'\n",
    ")\n",
    "\n",
    "fig.update_traces(textposition='top center')\n",
    "fig.update_layout(height=800)\n",
    "fig.show()"
   ]
  },
  {
   "cell_type": "code",
   "execution_count": 7,
   "id": "dd851e9a",
   "metadata": {},
   "outputs": [
    {
     "name": "stdout",
     "output_type": "stream",
     "text": [
      "--- QUERY PROBLEM (Index: 249) ---\n",
      "You are tasked with painting numbers 1 through 100 on the doors of 100 rooms. The numbers have to be painted such that there is no pattern in how the evens and odds are distributed, to avoid making one row of doors appear predominantly odd or even to those walking by. To optimize the painting process and minimize the time spent on decision making, you decide to establish a simple algorithm by which you will paint odd and even numbers on the doors. What is the algorithm that ensures an approximately even distribution of odds and evens without creating a discernible pattern?\n",
      "\n",
      "--- TOP 5 MOST SIMILAR PROBLEMS FOUND ---\n",
      "\n",
      "1. (Index: 62, Similarity: 0.5057)\n",
      "You are in a room with six doors, each leading to a different room. Each subsequent room has the same setup with six doors leading to other rooms, but without any doors leading back. After passing through four rooms, you enter a room that only has one door leading to the outside. Assuming you always choose a door at random, what is the probability that you will reach the outside after passing through exactly five rooms?\n",
      "\n",
      "2. (Index: 380, Similarity: 0.4675)\n",
      "Imagine three houses in a row, each with a front door facing north. You are given the task to paint each house one of three colors: red, blue, or green. Each house must be a different color from the one immediately to its left, but the houses do not have to be in any particular order of color from left to right. How many different ways can you paint the houses, assuming you are looking at their front doors from the south?\n",
      "\n",
      "3. (Index: 187, Similarity: 0.4525)\n",
      "You find yourself in front of four doors, each with a sequence of numbers above it. Door A has the sequence '2, 3, 5, 7, 11', Door B has '1, 4, 9, 16, 25', Door C has '1, 1, 2, 3, 5' and Door D has '2, 4, 8, 16, 32'. To escape from the room, you must choose the door with the sequence that does not fit the pattern of the others. Which door should you choose?\n",
      "\n",
      "4. (Index: 288, Similarity: 0.4396)\n",
      "You find yourself in front of three doors with an electronic locking mechanism. Each door has a keypad with digits 0-9 and a display showing a number. The doors' displays show 120, 65, and 91, respectively. A note next to the doors reads: 'I lock with the product of two prime numbers. One door leads outside, but be warned: one door will trigger an alarm, and the other is permanently locked even if you guess correctly. The sum of primes for the outside door is less than the permanently locked door and greater than the alarm door.' Only the door that leads outside will open when the correct code is entered. What is the code of the door that leads outside?\n",
      "\n",
      "5. (Index: 346, Similarity: 0.4303)\n",
      "Imagine you have a 5x5x5 cube made up of 125 smaller 1x1x1 cubes. You paint the entire outside surface of the large cube blue. Then, you disassemble the cube and mix all the smaller cubes. If you randomly pick one smaller cube, what is the probability that you will pick a cube that has blue paint on at least one of its surfaces?\n"
     ]
    }
   ],
   "source": [
    "# Pick a random query problem\n",
    "query_index = np.random.randint(0, len(df))\n",
    "query_statement = df.iloc[query_index]['problem_statement']\n",
    "query_embedding = embeddings[query_index].reshape(1, -1)\n",
    "\n",
    "print(f\"--- QUERY PROBLEM (Index: {query_index}) ---\")\n",
    "print(query_statement)\n",
    "\n",
    "# Compute cosine similarities\n",
    "similarities = cosine_similarity(query_embedding, embeddings)[0]\n",
    "\n",
    "# Top 5 most similar (excluding itself)\n",
    "top_indices = np.argsort(similarities)[-6:-1][::-1]\n",
    "\n",
    "print(\"\\n--- TOP 5 MOST SIMILAR PROBLEMS FOUND ---\")\n",
    "for i, index in enumerate(top_indices):\n",
    "    print(f\"\\n{i+1}. (Index: {index}, Similarity: {similarities[index]:.4f})\")\n",
    "    print(df.iloc[index]['problem_statement'])"
   ]
  }
 ],
 "metadata": {
  "kernelspec": {
   "display_name": "venv",
   "language": "python",
   "name": "python3"
  },
  "language_info": {
   "codemirror_mode": {
    "name": "ipython",
    "version": 3
   },
   "file_extension": ".py",
   "mimetype": "text/x-python",
   "name": "python",
   "nbconvert_exporter": "python",
   "pygments_lexer": "ipython3",
   "version": "3.10.11"
  }
 },
 "nbformat": 4,
 "nbformat_minor": 5
}
